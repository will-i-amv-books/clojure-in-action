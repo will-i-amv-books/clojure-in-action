{
 "cells": [
  {
   "cell_type": "markdown",
   "metadata": {},
   "source": [
    "# More on Functional Programming"
   ]
  },
  {
   "cell_type": "markdown",
   "metadata": {},
   "source": [
    "## Using higher-order functions\n"
   ]
  },
  {
   "cell_type": "markdown",
   "metadata": {},
   "source": [
    "Collecting results of functions"
   ]
  },
  {
   "cell_type": "code",
   "execution_count": 1,
   "metadata": {},
   "outputs": [
    {
     "data": {
      "text/plain": [
       "(1 4 9 16 25 36)"
      ]
     },
     "execution_count": 1,
     "metadata": {},
     "output_type": "execute_result"
    }
   ],
   "source": [
    "; A function that returns the square of each element of a list\n",
    "\n",
    "(defn square [x]\n",
    "    (* x x))\n",
    "\n",
    "(defn square-all [numbers]\n",
    "    (if (empty? numbers)\n",
    "        nil \n",
    "    (cons (square (first numbers))\n",
    "          (square-all (rest numbers)))))\n",
    "\n",
    "(square-all [1 2 3 4 5 6])\n"
   ]
  },
  {
   "cell_type": "code",
   "execution_count": 2,
   "metadata": {},
   "outputs": [
    {
     "data": {
      "text/plain": [
       "(1 8 27 64 125 216)"
      ]
     },
     "execution_count": 2,
     "metadata": {},
     "output_type": "execute_result"
    }
   ],
   "source": [
    "; A function that returns the cube of each element of a list\n",
    "\n",
    "(defn cube [x]\n",
    "    (* x x x))\n",
    "\n",
    "(defn cube-all [numbers]\n",
    "    (if (empty? numbers)\n",
    "        ()\n",
    "    (cons (cube (first numbers))\n",
    "          (cube-all (rest numbers)))))\n",
    "\n",
    "(cube-all [1 2 3 4 5 6])"
   ]
  },
  {
   "cell_type": "code",
   "execution_count": 3,
   "metadata": {},
   "outputs": [
    {
     "data": {
      "text/plain": [
       "#'user/do-to-all"
      ]
     },
     "execution_count": 3,
     "metadata": {},
     "output_type": "execute_result"
    }
   ],
   "source": [
    "; A HOF 'do-to-all' that generalizes tha las 2 functions\n",
    "\n",
    "(defn do-to-all [func numbers]\n",
    "    (if (empty? numbers)\n",
    "        ()\n",
    "    (cons (func (first numbers))\n",
    "          (do-to-all func (rest numbers)))))\n"
   ]
  },
  {
   "cell_type": "code",
   "execution_count": 4,
   "metadata": {},
   "outputs": [
    {
     "data": {
      "text/plain": [
       "(1 4 9 16 25 36)"
      ]
     },
     "execution_count": 4,
     "metadata": {},
     "output_type": "execute_result"
    }
   ],
   "source": [
    "; The new function 'do-to-all' can get the square of each element\n",
    "\n",
    "(do-to-all square [1 2 3 4 5 6])"
   ]
  },
  {
   "cell_type": "code",
   "execution_count": 5,
   "metadata": {},
   "outputs": [
    {
     "data": {
      "text/plain": [
       "(1 8 27 64 125 216)"
      ]
     },
     "execution_count": 5,
     "metadata": {},
     "output_type": "execute_result"
    }
   ],
   "source": [
    "; The new function 'do-to-all' can get the cube of each element\n",
    "\n",
    "(do-to-all cube [1 2 3 4 5 6])\n"
   ]
  },
  {
   "cell_type": "code",
   "execution_count": 6,
   "metadata": {},
   "outputs": [
    {
     "data": {
      "text/plain": [
       "(1 8 27 64 125 216)"
      ]
     },
     "execution_count": 6,
     "metadata": {},
     "output_type": "execute_result"
    }
   ],
   "source": [
    "; In summary, 'do-to-all' is a custom implementation of 'map'\n",
    "\n",
    "(map cube [1 2 3 4 5 6])\n"
   ]
  },
  {
   "cell_type": "code",
   "execution_count": 7,
   "metadata": {},
   "outputs": [
    {
     "name": "stderr",
     "output_type": "stream",
     "text": [
      "Execution error (StackOverflowError) at user/do-to-all (REPL:6).\n",
      "null\n"
     ]
    },
    {
     "ename": "class java.lang.StackOverflowError",
     "evalue": "",
     "output_type": "error",
     "traceback": [
      " RT.java:   692 clojure.lang.RT/first",
      "core.clj:    55 clojure.core$first__5384/invokeStatic"
     ]
    }
   ],
   "source": [
    "; But 'do-to-all' blows the stack with large numbers\n",
    "\n",
    "(do-to-all square (range 11000))\n"
   ]
  },
  {
   "cell_type": "code",
   "execution_count": 17,
   "metadata": {},
   "outputs": [
    {
     "data": {
      "text/plain": [
       "#'user/do-to-all-2"
      ]
     },
     "execution_count": 17,
     "metadata": {},
     "output_type": "execute_result"
    }
   ],
   "source": [
    "; A new implementation of 'do-to-all' using lazy sequences\n",
    "\n",
    "(defn do-to-all-2 [func numbers]\n",
    "    (lazy-seq \n",
    "        (if (empty? numbers)\n",
    "            ()\n",
    "        (cons (func (first numbers))\n",
    "              (do-to-all-2 func (rest numbers))))))\n"
   ]
  },
  {
   "cell_type": "code",
   "execution_count": 18,
   "metadata": {},
   "outputs": [
    {
     "data": {
      "text/plain": [
       "(100000000 100020001 100040004 100060009 100080016 100100025 100120036 100140049 100160064 100180081)"
      ]
     },
     "execution_count": 18,
     "metadata": {},
     "output_type": "execute_result"
    }
   ],
   "source": [
    "; Testing with a large number again (doesn't blow the stack anymore)\n",
    "\n",
    "(take 10 (drop 10000 (do-to-all-2 square (range 11000))))\n"
   ]
  },
  {
   "cell_type": "markdown",
   "metadata": {},
   "source": [
    "Reduce list of things"
   ]
  },
  {
   "cell_type": "code",
   "execution_count": 19,
   "metadata": {},
   "outputs": [
    {
     "data": {
      "text/plain": [
       "39"
      ]
     },
     "execution_count": 19,
     "metadata": {},
     "output_type": "execute_result"
    }
   ],
   "source": [
    "; A function that returns the sum of a list of numbers\n",
    "\n",
    "(defn total-of [numbers]\n",
    "    (loop [nums numbers sum 0]\n",
    "        (if (empty? nums)\n",
    "            sum\n",
    "            (recur (rest nums) (+ sum (first nums))))))\n",
    "\n",
    "(total-of [5 7 9 3 4 1 2 8])"
   ]
  },
  {
   "cell_type": "code",
   "execution_count": 20,
   "metadata": {},
   "outputs": [
    {
     "data": {
      "text/plain": [
       "9"
      ]
     },
     "execution_count": 20,
     "metadata": {},
     "output_type": "execute_result"
    }
   ],
   "source": [
    "; A couple of functions that returns the biggest number of a list of numbers\n",
    "\n",
    "(defn larger-of [x y]\n",
    "    (if (> x y) x y))\n",
    "\n",
    "(defn largest-of [numbers]\n",
    "    (loop [l numbers candidate (first numbers)]\n",
    "        (if (empty? l)\n",
    "            candidate\n",
    "            (recur (rest l) (larger-of candidate (first l))))))\n",
    "\n",
    "(largest-of [5 7 9 3 4 1 2 8])"
   ]
  },
  {
   "cell_type": "code",
   "execution_count": 21,
   "metadata": {},
   "outputs": [
    {
     "data": {
      "text/plain": [
       "#'user/compute-across"
      ]
     },
     "execution_count": 21,
     "metadata": {},
     "output_type": "execute_result"
    }
   ],
   "source": [
    "; A HOF 'compute-across' that generalizes the last 2 functions\n",
    "\n",
    "(defn compute-across [func elements value]\n",
    "    (if (empty? elements)\n",
    "        value\n",
    "        (recur func (rest elements) (func value (first elements)))))\n"
   ]
  },
  {
   "cell_type": "code",
   "execution_count": 22,
   "metadata": {},
   "outputs": [
    {
     "data": {
      "text/plain": [
       "39"
      ]
     },
     "execution_count": 22,
     "metadata": {},
     "output_type": "execute_result"
    }
   ],
   "source": [
    "; 'compute-across' can compute the sum of a list of numbers\n",
    "\n",
    "(defn total-of-2 [numbers]\n",
    "    (compute-across + numbers 0))\n",
    "\n",
    "(total-of-2 [5 7 9 3 4 1 2 8])"
   ]
  },
  {
   "cell_type": "code",
   "execution_count": 23,
   "metadata": {},
   "outputs": [
    {
     "data": {
      "text/plain": [
       "9"
      ]
     },
     "execution_count": 23,
     "metadata": {},
     "output_type": "execute_result"
    }
   ],
   "source": [
    "; 'compute-across' can also get the biggest number of a list of numbers\n",
    "\n",
    "(defn largest-of-2 [numbers]\n",
    "    (compute-across larger-of numbers (first numbers)))\n",
    "\n",
    "(largest-of [5 7 9 3 4 1 2 8])\n"
   ]
  },
  {
   "cell_type": "code",
   "execution_count": 24,
   "metadata": {},
   "outputs": [
    {
     "data": {
      "text/plain": [
       "39"
      ]
     },
     "execution_count": 24,
     "metadata": {},
     "output_type": "execute_result"
    }
   ],
   "source": [
    "; ; In summary, 'compute-across' is a custom implementation of 'reduce'\n",
    "\n",
    "(reduce + [5 7 9 3 4 1 2 8])"
   ]
  },
  {
   "cell_type": "code",
   "execution_count": 25,
   "metadata": {},
   "outputs": [
    {
     "data": {
      "text/plain": [
       "9"
      ]
     },
     "execution_count": 25,
     "metadata": {},
     "output_type": "execute_result"
    }
   ],
   "source": [
    "(reduce max [5 7 9 3 4 1 2 8])\n"
   ]
  },
  {
   "cell_type": "markdown",
   "metadata": {},
   "source": [
    "Filtering lists of things\n"
   ]
  },
  {
   "cell_type": "code",
   "execution_count": 26,
   "metadata": {},
   "outputs": [
    {
     "data": {
      "text/plain": [
       "[7 9 8]"
      ]
     },
     "execution_count": 26,
     "metadata": {},
     "output_type": "execute_result"
    }
   ],
   "source": [
    "; A function that returns a list of the numbers greater than a given number\n",
    "\n",
    "(defn all-greater-than [threshold numbers]\n",
    "    (compute-across #(if (> %2 threshold) (conj %1 %2) %1) numbers [])) ; '%' are the anon function args\n",
    "\n",
    "(all-greater-than 5 [5 7 9 3 4 1 2 8])"
   ]
  },
  {
   "cell_type": "code",
   "execution_count": 27,
   "metadata": {},
   "outputs": [
    {
     "data": {
      "text/plain": [
       "[3 4 1 2]"
      ]
     },
     "execution_count": 27,
     "metadata": {},
     "output_type": "execute_result"
    }
   ],
   "source": [
    "; A function that returns a list of the numbers smaller than a given number\n",
    "\n",
    "(defn all-lesser-than [threshold numbers]\n",
    "    (compute-across #(if (< %2 threshold) (conj %1 %2) %1) numbers []))\n",
    "\n",
    "(all-lesser-than 5 [5 7 9 3 4 1 2 8])"
   ]
  },
  {
   "cell_type": "code",
   "execution_count": 28,
   "metadata": {},
   "outputs": [
    {
     "data": {
      "text/plain": [
       "#'user/select-if"
      ]
     },
     "execution_count": 28,
     "metadata": {},
     "output_type": "execute_result"
    }
   ],
   "source": [
    "; A HOF 'select-if' that generalizes the 2 last functions\n",
    "\n",
    "(defn select-if [pred elements]\n",
    "    (compute-across #(if (pred %2) (conj %1 %2) %1) elements []))"
   ]
  },
  {
   "cell_type": "code",
   "execution_count": 29,
   "metadata": {},
   "outputs": [
    {
     "data": {
      "text/plain": [
       "[4 2 8]"
      ]
     },
     "execution_count": 29,
     "metadata": {},
     "output_type": "execute_result"
    }
   ],
   "source": [
    "; 'select-if' can get all the even numbers\n",
    "\n",
    "(select-if even? [5 7 9 3 4 1 2 8])"
   ]
  },
  {
   "cell_type": "code",
   "execution_count": 30,
   "metadata": {},
   "outputs": [
    {
     "data": {
      "text/plain": [
       "[5 7 9 3 1]"
      ]
     },
     "execution_count": 30,
     "metadata": {},
     "output_type": "execute_result"
    }
   ],
   "source": [
    "; 'select-if' can get all the odd numbers\n",
    "\n",
    "(select-if odd? [5 7 9 3 4 1 2 8])"
   ]
  },
  {
   "cell_type": "code",
   "execution_count": 31,
   "metadata": {},
   "outputs": [
    {
     "data": {
      "text/plain": [
       "[7 9 8]"
      ]
     },
     "execution_count": 31,
     "metadata": {},
     "output_type": "execute_result"
    }
   ],
   "source": [
    "; 'all-greater-than' can be implemented in terms of 'select'if'\n",
    "\n",
    "(defn all-greater-than-v2 [threshold numbers]\n",
    "    (select-if #(> % threshold) numbers))\n",
    "\n",
    "(all-greater-than-v2 5 [5 7 9 3 4 1 2 8])"
   ]
  },
  {
   "cell_type": "code",
   "execution_count": 32,
   "metadata": {},
   "outputs": [
    {
     "data": {
      "text/plain": [
       "[3 4 1 2]"
      ]
     },
     "execution_count": 32,
     "metadata": {},
     "output_type": "execute_result"
    }
   ],
   "source": [
    "; 'all-lesser-than' can be implemented in terms of 'select'if'\n",
    "\n",
    "(defn all-lesser-than-v2 [threshold numbers]\n",
    "    (select-if #(< % threshold) numbers))\n",
    "\n",
    "\n",
    "(all-lesser-than-v2 5 [5 7 9 3 4 1 2 8])"
   ]
  },
  {
   "cell_type": "code",
   "execution_count": 33,
   "metadata": {},
   "outputs": [
    {
     "data": {
      "text/plain": [
       "(4 2 8)"
      ]
     },
     "execution_count": 33,
     "metadata": {},
     "output_type": "execute_result"
    }
   ],
   "source": [
    "; In summary, 'select-if' is a custom implementation of 'filter'\n",
    "\n",
    "(filter even? [5 7 9 3 4 1 2 8])"
   ]
  },
  {
   "cell_type": "code",
   "execution_count": 34,
   "metadata": {},
   "outputs": [
    {
     "data": {
      "text/plain": [
       "(5 7 9 3 1)"
      ]
     },
     "execution_count": 34,
     "metadata": {},
     "output_type": "execute_result"
    }
   ],
   "source": [
    "(filter odd? [5 7 9 3 4 1 2 8])"
   ]
  },
  {
   "cell_type": "markdown",
   "metadata": {},
   "source": [
    "## Partial application\n"
   ]
  },
  {
   "cell_type": "code",
   "execution_count": 49,
   "metadata": {},
   "outputs": [
    {
     "data": {
      "text/plain": [
       "109.500M"
      ]
     },
     "execution_count": 49,
     "metadata": {},
     "output_type": "execute_result"
    }
   ],
   "source": [
    "; A tax calculator function\n",
    "\n",
    "(defn price-with-tax [tax-rate amount]\n",
    "    (->> (/ tax-rate 100)\n",
    "         (+ 1)\n",
    "         (* amount)))\n",
    "\n",
    "(price-with-tax 9.5M 100)\n"
   ]
  },
  {
   "cell_type": "code",
   "execution_count": 50,
   "metadata": {},
   "outputs": [
    {
     "data": {
      "text/plain": [
       "#'user/prices"
      ]
     },
     "execution_count": 50,
     "metadata": {},
     "output_type": "execute_result"
    }
   ],
   "source": [
    "; The last function can be used to get the prices\n",
    "; accounting for California's and New York's tax rates\n",
    "-\n",
    "(defn price-with-ca-tax [price]\n",
    "    (price-with-tax 9.25M price))\n",
    "\n",
    "(defn price-with-ny-tax [price]\n",
    "    (price-with-tax 8.0M price))\n",
    "\n",
    "(def prices [100 200 300 400 500])\n"
   ]
  },
  {
   "cell_type": "code",
   "execution_count": 51,
   "metadata": {},
   "outputs": [
    {
     "data": {
      "text/plain": [
       "(109.2500M 218.5000M 327.7500M 437.0000M 546.2500M)"
      ]
     },
     "execution_count": 51,
     "metadata": {},
     "output_type": "execute_result"
    }
   ],
   "source": [
    "(map price-with-ca-tax prices)\n"
   ]
  },
  {
   "cell_type": "code",
   "execution_count": 52,
   "metadata": {},
   "outputs": [
    {
     "data": {
      "text/plain": [
       "(108.00M 216.00M 324.00M 432.00M 540.00M)"
      ]
     },
     "execution_count": 52,
     "metadata": {},
     "output_type": "execute_result"
    }
   ],
   "source": [
    "(map price-with-ny-tax prices)\n"
   ]
  },
  {
   "cell_type": "code",
   "execution_count": 53,
   "metadata": {},
   "outputs": [
    {
     "data": {
      "text/plain": [
       "#'user/price-calculator-for-tax"
      ]
     },
     "execution_count": 53,
     "metadata": {},
     "output_type": "execute_result"
    }
   ],
   "source": [
    "; A function 'price-calculator-for-tax' that generalizes 'price-with-ca-tax' and 'price-with-ny-tax'\n",
    "\n",
    "(defn price-calculator-for-tax [state-tax]\n",
    "    (fn [price]\n",
    "        (price-with-tax state-tax price)))\n",
    "\n",
    "\n"
   ]
  },
  {
   "cell_type": "code",
   "execution_count": 54,
   "metadata": {},
   "outputs": [
    {
     "data": {
      "text/plain": [
       "(109.2500M 218.5000M 327.7500M 437.0000M 546.2500M)"
      ]
     },
     "execution_count": 54,
     "metadata": {},
     "output_type": "execute_result"
    }
   ],
   "source": [
    "; 'price-with-ca-tax-2' is a 'partially applied' function \n",
    "; with CA's tax rate as a partial arg\n",
    "\n",
    "(def price-with-ca-tax-2 (price-calculator-for-tax 9.25M)) ; Note the function definition as a var\n",
    "\n",
    "; The results are the same as the 1st version\n",
    "\n",
    "(map price-with-ca-tax-2 prices)\n"
   ]
  },
  {
   "cell_type": "code",
   "execution_count": 55,
   "metadata": {},
   "outputs": [
    {
     "data": {
      "text/plain": [
       "(108.00M 216.00M 324.00M 432.00M 540.00M)"
      ]
     },
     "execution_count": 55,
     "metadata": {},
     "output_type": "execute_result"
    }
   ],
   "source": [
    "; 'price-with-ny-tax-2' is a 'partially applied' function \n",
    "; with NY's tax rate as a partial arg\n",
    "\n",
    "(def price-with-ny-tax-2 (price-calculator-for-tax 8.0M)) ; Note the function definition as a var\n",
    "; The results are the same as the 1st version\n",
    "\n",
    "(map price-with-ny-tax-2 prices)\n"
   ]
  },
  {
   "cell_type": "code",
   "execution_count": 56,
   "metadata": {},
   "outputs": [
    {
     "data": {
      "text/plain": [
       "#'user/of-n-args"
      ]
     },
     "execution_count": 56,
     "metadata": {},
     "output_type": "execute_result"
    }
   ],
   "source": [
    "; A simple function of arity 5 that concatenates the args as a string\n",
    "\n",
    "(defn of-n-args [a b c d e] \n",
    "    (str a b c d e ))\n"
   ]
  },
  {
   "cell_type": "code",
   "execution_count": 57,
   "metadata": {},
   "outputs": [
    {
     "data": {
      "text/plain": [
       "\"123ab\""
      ]
     },
     "execution_count": 57,
     "metadata": {},
     "output_type": "execute_result"
    }
   ],
   "source": [
    "; Partially applying to the last function the args a, b, c\n",
    "\n",
    "(defn of-k-args [d e]\n",
    "    (of-n-args 1 2 3 d e))\n",
    "\n",
    "(of-k-args \\a \\b)\n"
   ]
  },
  {
   "cell_type": "code",
   "execution_count": 58,
   "metadata": {},
   "outputs": [
    {
     "data": {
      "text/plain": [
       "#'user/partially-applied"
      ]
     },
     "execution_count": 58,
     "metadata": {},
     "output_type": "execute_result"
    }
   ],
   "source": [
    "; A general form of a function that can partially apply \n",
    "; 'n-minus-k-args' to the function 'of-n-args' \n",
    "\n",
    "(defn partially-applied [of-n-args & n-minus-k-args]\n",
    "    (fn [& k-args]\n",
    "        (apply of-n-args (concat n-minus-k-args k-args))))\n"
   ]
  },
  {
   "cell_type": "code",
   "execution_count": 59,
   "metadata": {},
   "outputs": [
    {
     "data": {
      "text/plain": [
       "\"abc45\""
      ]
     },
     "execution_count": 59,
     "metadata": {},
     "output_type": "execute_result"
    }
   ],
   "source": [
    "; Partially applying the first 3 args of 'of-n-args'\n",
    "\n",
    "(def of-2-args (partially-applied of-n-args \\a \\b \\c))\n",
    "\n",
    "(of-2-args 4 5)\n"
   ]
  },
  {
   "cell_type": "code",
   "execution_count": 60,
   "metadata": {},
   "outputs": [
    {
     "data": {
      "text/plain": [
       "\"ab345\""
      ]
     },
     "execution_count": 60,
     "metadata": {},
     "output_type": "execute_result"
    }
   ],
   "source": [
    "; Partially applying the first 2 args of 'of-n-args'\n",
    "\n",
    "(def of-3-args (partially-applied of-n-args \\a \\b))\n",
    "\n",
    "(of-3-args 3 4 5)\n"
   ]
  },
  {
   "cell_type": "code",
   "execution_count": 61,
   "metadata": {},
   "outputs": [
    {
     "data": {
      "text/plain": [
       "\"abc45\""
      ]
     },
     "execution_count": 61,
     "metadata": {},
     "output_type": "execute_result"
    }
   ],
   "source": [
    "; The function 'of-n-args' is a custom implementation of the 'partial' Clojure function\n",
    "\n",
    "(def of-2-args (partial of-n-args \\a \\b \\c))\n",
    "\n",
    "(of-2-args 4 5)"
   ]
  },
  {
   "cell_type": "code",
   "execution_count": 62,
   "metadata": {},
   "outputs": [
    {
     "data": {
      "text/plain": [
       "\"ab345\""
      ]
     },
     "execution_count": 62,
     "metadata": {},
     "output_type": "execute_result"
    }
   ],
   "source": [
    "(def of-3-args (partial of-n-args \\a \\b))\n",
    "\n",
    "(of-3-args 3 4 5)\n"
   ]
  },
  {
   "cell_type": "code",
   "execution_count": 63,
   "metadata": {},
   "outputs": [
    {
     "data": {
      "text/plain": [
       "#'user/select-if"
      ]
     },
     "execution_count": 63,
     "metadata": {},
     "output_type": "execute_result"
    }
   ],
   "source": [
    "; The select-if function defined in the previous section\n",
    "\n",
    "(defn select-if [pred elements]\n",
    "    (compute-across #(if (pred %2) (conj %1 %2) %1) elements []))\n"
   ]
  },
  {
   "cell_type": "code",
   "execution_count": 64,
   "metadata": {},
   "outputs": [
    {
     "data": {
      "text/plain": [
       "#'user/numbers"
      ]
     },
     "execution_count": 64,
     "metadata": {},
     "output_type": "execute_result"
    }
   ],
   "source": [
    "; Rewriting 'select-if' to take an arbitrary initial container\n",
    "\n",
    "(defn select-into-if [container pred elements]\n",
    "    (compute-across #(if (pred %2) (conj %1 %2) %1) elements container))\n",
    "\n",
    "(def numbers [4 9 5 7 6 3 8])\n"
   ]
  },
  {
   "cell_type": "code",
   "execution_count": 65,
   "metadata": {},
   "outputs": [
    {
     "data": {
      "text/plain": [
       "[4 5 6 3]"
      ]
     },
     "execution_count": 65,
     "metadata": {},
     "output_type": "execute_result"
    }
   ],
   "source": [
    "; Passing a vector as initial value to 'select-into-if' and evaluating it\n",
    "\n",
    "(select-into-if [] #(< % 7) numbers)\n"
   ]
  },
  {
   "cell_type": "code",
   "execution_count": 66,
   "metadata": {},
   "outputs": [
    {
     "data": {
      "text/plain": [
       "(3 6 5 4)"
      ]
     },
     "execution_count": 66,
     "metadata": {},
     "output_type": "execute_result"
    }
   ],
   "source": [
    "; Passing a list as initial value to 'select-into-if' and evaluating it\n",
    "; (see how the order of the sequence changes)\n",
    "\n",
    "(select-into-if () #(< % 7) numbers)\n"
   ]
  },
  {
   "cell_type": "code",
   "execution_count": 67,
   "metadata": {},
   "outputs": [
    {
     "data": {
      "text/plain": [
       "[5 3 6 8]"
      ]
     },
     "execution_count": 67,
     "metadata": {},
     "output_type": "execute_result"
    }
   ],
   "source": [
    "; The 'select-up' function can be defined to return the filtered results in the same order,\n",
    "; using a vector as the initial container\n",
    "\n",
    "(def select-up (partial select-into-if []))\n",
    "\n",
    "(select-up #(< % 9) [5 3 9 6 8])\n",
    "\n"
   ]
  },
  {
   "cell_type": "code",
   "execution_count": 68,
   "metadata": {},
   "outputs": [
    {
     "data": {
      "text/plain": [
       "(8 6 3 5)"
      ]
     },
     "execution_count": 68,
     "metadata": {},
     "output_type": "execute_result"
    }
   ],
   "source": [
    "; The 'select-down' function can be defined to return the filtered results with the inverted order,\n",
    "; using a list as the initial container\n",
    "\n",
    "(def select-down (partial select-into-if ()))\n",
    "\n",
    "(select-down #(< % 9) [5 3 9 6 8])\n"
   ]
  },
  {
   "cell_type": "markdown",
   "metadata": {},
   "source": [
    "## Closures"
   ]
  },
  {
   "cell_type": "markdown",
   "metadata": {},
   "source": [
    "Free variables"
   ]
  },
  {
   "cell_type": "code",
   "execution_count": 69,
   "metadata": {},
   "outputs": [
    {
     "data": {
      "text/plain": [
       "#'user/adder"
      ]
     },
     "execution_count": 69,
     "metadata": {},
     "output_type": "execute_result"
    }
   ],
   "source": [
    "; Within the context of the inner anonymous function, \n",
    "; 'x' is a free variable ; (neither an arg nor a local var)\n",
    "\n",
    "(defn adder [num1 num2]\n",
    "    (let [x (+ num1 num2)]\n",
    "        (fn [y] (+ x y))))\n"
   ]
  },
  {
   "cell_type": "code",
   "execution_count": 70,
   "metadata": {},
   "outputs": [
    {
     "data": {
      "text/plain": [
       "15"
      ]
     },
     "execution_count": 70,
     "metadata": {},
     "output_type": "execute_result"
    }
   ],
   "source": [
    "; A function 'add-5' that 'closes over' the free variable x (5 in this case)\n",
    "\n",
    "(def add-5 (adder 2 3))\n",
    "\n",
    "(add-5 10)\n"
   ]
  },
  {
   "cell_type": "markdown",
   "metadata": {},
   "source": [
    "Delayed computation and closures\n"
   ]
  },
  {
   "cell_type": "code",
   "execution_count": 71,
   "metadata": {},
   "outputs": [
    {
     "name": "stderr",
     "output_type": "stream",
     "text": [
      "Execution error (ArithmeticException) at user/eval4329 (REPL:5).\n",
      "Divide by zero\n"
     ]
    },
    {
     "ename": "class java.lang.ArithmeticException",
     "evalue": "",
     "output_type": "error",
     "traceback": [
      "Numbers.java:   188 clojure.lang.Numbers/divide",
      "    core.clj:  3214 clojure.core$eval/invokeStatic",
      "    core.clj:  3210 clojure.core$eval/invoke",
      "    main.clj:   437 clojure.main$repl$read_eval_print__9086$fn__9089/invoke",
      "    main.clj:   458 clojure.main$repl$fn__9095/invoke",
      "    main.clj:   368 clojure.main$repl/doInvoke",
      " RestFn.java:  1523 clojure.lang.RestFn/invoke",
      "    AFn.java:    22 clojure.lang.AFn/run",
      "    AFn.java:    22 clojure.lang.AFn/run",
      " Thread.java:   745 java.lang.Thread/run"
     ]
    }
   ],
   "source": [
    "; An expression that will execute immediately \n",
    "; (will throw divide by zero exception)\n",
    "\n",
    "(let [x 1 y 0]\n",
    "    (/ x y))\n"
   ]
  },
  {
   "cell_type": "code",
   "execution_count": 72,
   "metadata": {},
   "outputs": [
    {
     "name": "stdout",
     "output_type": "stream",
     "text": [
      "Divide by zero\n"
     ]
    },
    {
     "data": {
      "text/plain": [
       "nil"
      ]
     },
     "execution_count": 72,
     "metadata": {},
     "output_type": "execute_result"
    }
   ],
   "source": [
    "; Wrapping the last expression in a try-catch block\n",
    "\n",
    "(let [x 1 y 0]\n",
    "    (try\n",
    "        (/ x y)\n",
    "    (catch Exception e \n",
    "        (println (.getMessage e)))))\n"
   ]
  },
  {
   "cell_type": "code",
   "execution_count": 73,
   "metadata": {},
   "outputs": [
    {
     "name": "stdout",
     "output_type": "stream",
     "text": [
      "Divide by zero\n"
     ]
    },
    {
     "data": {
      "text/plain": [
       "nil"
      ]
     },
     "execution_count": 73,
     "metadata": {},
     "output_type": "execute_result"
    }
   ],
   "source": [
    "; The last expression can be generalized in a \n",
    "; 'try-catch' function \n",
    "\n",
    "(defn try-catch [the-try the-catch]\n",
    "    (try\n",
    "        (the-try)\n",
    "    (catch Exception e \n",
    "        (the-catch e))))\n",
    "\n",
    "(let [x 1 y 0]\n",
    "    (try-catch #(/ x y) \n",
    "               #(println (.getMessage %))))\n"
   ]
  },
  {
   "cell_type": "markdown",
   "metadata": {},
   "source": [
    "Closures and objects"
   ]
  },
  {
   "cell_type": "code",
   "execution_count": 74,
   "metadata": {},
   "outputs": [
    {
     "data": {
      "text/plain": [
       "#'user/new-user"
      ]
     },
     "execution_count": 74,
     "metadata": {},
     "output_type": "execute_result"
    }
   ],
   "source": [
    "; A 'new-user' function that's a closure over the \n",
    "; inner anonymous function\n",
    "\n",
    "(defn new-user [login password email]\n",
    "    (fn [a]\n",
    "        (case a\n",
    "            :login login\n",
    "            :password-hash (hash password) ; A hidden field\n",
    "            :email email\n",
    "            nil)))\n"
   ]
  },
  {
   "cell_type": "code",
   "execution_count": 75,
   "metadata": {},
   "outputs": [
    {
     "data": {
      "text/plain": [
       "#'user/arjun"
      ]
     },
     "execution_count": 75,
     "metadata": {},
     "output_type": "execute_result"
    }
   ],
   "source": [
    "; The last function bounded to the following args,\n",
    "\n",
    "(def arjun (new-user \"arjun\" \"secret\" \"arjun@zololabs.com\"))"
   ]
  },
  {
   "cell_type": "code",
   "execution_count": 76,
   "metadata": {},
   "outputs": [
    {
     "data": {
      "text/plain": [
       "\"arjun\""
      ]
     },
     "execution_count": 76,
     "metadata": {},
     "output_type": "execute_result"
    }
   ],
   "source": [
    "(arjun :login)\n"
   ]
  },
  {
   "cell_type": "code",
   "execution_count": 77,
   "metadata": {},
   "outputs": [
    {
     "data": {
      "text/plain": [
       "1614358358"
      ]
     },
     "execution_count": 77,
     "metadata": {},
     "output_type": "execute_result"
    }
   ],
   "source": [
    "(arjun :password-hash) ; Enables information hiding; can use password without letting anyone else see it\n"
   ]
  },
  {
   "cell_type": "code",
   "execution_count": 78,
   "metadata": {},
   "outputs": [
    {
     "data": {
      "text/plain": [
       "\"arjun@zololabs.com\""
      ]
     },
     "execution_count": 78,
     "metadata": {},
     "output_type": "execute_result"
    }
   ],
   "source": [
    "(arjun :email)\n"
   ]
  },
  {
   "cell_type": "code",
   "execution_count": 79,
   "metadata": {},
   "outputs": [
    {
     "data": {
      "text/plain": [
       "nil"
      ]
     },
     "execution_count": 79,
     "metadata": {},
     "output_type": "execute_result"
    }
   ],
   "source": [
    "(arjun :name)\n"
   ]
  },
  {
   "cell_type": "code",
   "execution_count": 80,
   "metadata": {},
   "outputs": [
    {
     "data": {
      "text/plain": [
       "#'user/new-user"
      ]
     },
     "execution_count": 80,
     "metadata": {},
     "output_type": "execute_result"
    }
   ],
   "source": [
    "; Rewrite 'new-user' to add behavior in the form of 'authenticate' field\n",
    "\n",
    "(defn new-user [login password email]\n",
    "    (fn [a & args]\n",
    "        (case a\n",
    "            :login login\n",
    "            :email email\n",
    "            :authenticate (= password (first args)))))\n"
   ]
  },
  {
   "cell_type": "code",
   "execution_count": 81,
   "metadata": {},
   "outputs": [
    {
     "data": {
      "text/plain": [
       "#'user/adi"
      ]
     },
     "execution_count": 81,
     "metadata": {},
     "output_type": "execute_result"
    }
   ],
   "source": [
    "; The last function bounded to the following args\n",
    "; (similar to creating an object in OOP languages)\n",
    "\n",
    "(def adi (new-user \"adi\" \"secret\" \"adi@currylogic.com\"))\n"
   ]
  },
  {
   "cell_type": "code",
   "execution_count": 82,
   "metadata": {},
   "outputs": [
    {
     "data": {
      "text/plain": [
       "false"
      ]
     },
     "execution_count": 82,
     "metadata": {},
     "output_type": "execute_result"
    }
   ],
   "source": [
    "(adi :authenticate \"blah\")\n"
   ]
  },
  {
   "cell_type": "code",
   "execution_count": 83,
   "metadata": {},
   "outputs": [
    {
     "data": {
      "text/plain": [
       "true"
      ]
     },
     "execution_count": 83,
     "metadata": {},
     "output_type": "execute_result"
    }
   ],
   "source": [
    "(adi :authenticate \"secret\")\n"
   ]
  },
  {
   "cell_type": "markdown",
   "metadata": {},
   "source": [
    "## An object system for Clojure"
   ]
  },
  {
   "cell_type": "markdown",
   "metadata": {},
   "source": [
    "Defining Classes"
   ]
  },
  {
   "cell_type": "code",
   "execution_count": 84,
   "metadata": {},
   "outputs": [
    {
     "data": {
      "text/plain": [
       "#'user/defclass"
      ]
     },
     "execution_count": 84,
     "metadata": {},
     "output_type": "execute_result"
    }
   ],
   "source": [
    "; A function that be used as a 'class', in the sense of blueprint for objects\n",
    "\n",
    "(defn new-class [class-name]\n",
    "    (fn [command & args]\n",
    "        (case command\n",
    "            :name (name class-name))))\n",
    "\n",
    "; A macro that uses the last function to create the 'defclass' word \n",
    "; that simplify the creation of  classes\n",
    "\n",
    "(defmacro defclass [class-name]\n",
    "    `(def ~class-name (new-class '~class-name))) ; '~class-name quotes the value of class-name\n",
    "\n"
   ]
  },
  {
   "cell_type": "code",
   "execution_count": 85,
   "metadata": {},
   "outputs": [
    {
     "data": {
      "text/plain": [
       "\"Person\""
      ]
     },
     "execution_count": 85,
     "metadata": {},
     "output_type": "execute_result"
    }
   ],
   "source": [
    "; Creating the class and calling its name field\n",
    "\n",
    "(defclass Person)\n",
    "\n",
    "(Person :name)"
   ]
  },
  {
   "cell_type": "markdown",
   "metadata": {},
   "source": [
    "Creating instances"
   ]
  },
  {
   "cell_type": "code",
   "execution_count": 86,
   "metadata": {},
   "outputs": [
    {
     "data": {
      "text/plain": [
       "#'user/cindy"
      ]
     },
     "execution_count": 86,
     "metadata": {},
     "output_type": "execute_result"
    }
   ],
   "source": [
    "; A function that 'instantiates' a class given as argument\n",
    "\n",
    "(defn new-object [klass]\n",
    "    (fn [command & args]\n",
    "        (case command\n",
    "            :class klass)))\n",
    "\n",
    "; Creating a 'cindy' object of 'Person' type\n",
    "\n",
    "(def cindy (new-object Person))"
   ]
  },
  {
   "cell_type": "code",
   "execution_count": 87,
   "metadata": {},
   "outputs": [
    {
     "data": {
      "text/plain": [
       "#function[user/new-object/fn--4372]"
      ]
     },
     "execution_count": 87,
     "metadata": {},
     "output_type": "execute_result"
    }
   ],
   "source": [
    "; The new object doesn't have an informative name\n",
    "\n",
    "(new-object Person)\n"
   ]
  },
  {
   "cell_type": "code",
   "execution_count": 88,
   "metadata": {},
   "outputs": [
    {
     "data": {
      "text/plain": [
       "\"Person\""
      ]
     },
     "execution_count": 88,
     "metadata": {},
     "output_type": "execute_result"
    }
   ],
   "source": [
    "; But its class does have an informative name\n",
    "\n",
    "((cindy :class) :name)\n"
   ]
  },
  {
   "cell_type": "code",
   "execution_count": 89,
   "metadata": {},
   "outputs": [
    {
     "data": {
      "text/plain": [
       "\"Person\""
      ]
     },
     "execution_count": 89,
     "metadata": {},
     "output_type": "execute_result"
    }
   ],
   "source": [
    "; Adding a 'class-name' attribute to the 'new-object' function\n",
    "\n",
    "(defn new-object [klass]\n",
    "    (fn [command & args]\n",
    "        (case command\n",
    "            :class klass\n",
    "            :class-name (klass :name))))\n",
    "\n",
    "(def cindy (new-object Person))\n",
    "(cindy :class-name)"
   ]
  },
  {
   "cell_type": "code",
   "execution_count": 90,
   "metadata": {},
   "outputs": [
    {
     "data": {
      "text/plain": [
       "#'user/new-class"
      ]
     },
     "execution_count": 90,
     "metadata": {},
     "output_type": "execute_result"
    }
   ],
   "source": [
    "; A function that emulates the 'new' keyword used in some OOP languages\n",
    "\n",
    "(defn new-class [class-name]\n",
    "    (fn klass [command & args]\n",
    "        (case command\n",
    "            :name (name class-name)\n",
    "            :new (new-object klass))))\n"
   ]
  },
  {
   "cell_type": "code",
   "execution_count": 91,
   "metadata": {},
   "outputs": [
    {
     "data": {
      "text/plain": [
       "\"Person\""
      ]
     },
     "execution_count": 91,
     "metadata": {},
     "output_type": "execute_result"
    }
   ],
   "source": [
    "(defclass Person)\n",
    "\n",
    "(def nancy (Person :new))\n",
    "\n",
    "(nancy :class-name)"
   ]
  },
  {
   "cell_type": "markdown",
   "metadata": {},
   "source": [
    "Objects and state"
   ]
  },
  {
   "cell_type": "code",
   "execution_count": 92,
   "metadata": {},
   "outputs": [
    {
     "data": {
      "text/plain": [
       "#'user/new-object"
      ]
     },
     "execution_count": 92,
     "metadata": {},
     "output_type": "execute_result"
    }
   ],
   "source": [
    "; An 'object' with get and set! methods (getters and setters in OOP land)\n",
    "\n",
    "(defn new-object [klass]\n",
    "    (let [state (ref {})]\n",
    "        (fn [command & args]\n",
    "            (case command\n",
    "                :class klass\n",
    "                :class-name (klass :name)\n",
    "                :set! (let [[k v] args] ; The ! means a state change is involved\n",
    "                    (dosync (alter state assoc k v))\n",
    "                    nil)\n",
    "                :get (let [[key] args]\n",
    "                    (@state key))))))\n"
   ]
  },
  {
   "cell_type": "code",
   "execution_count": 93,
   "metadata": {},
   "outputs": [
    {
     "data": {
      "text/plain": [
       "nil"
      ]
     },
     "execution_count": 93,
     "metadata": {},
     "output_type": "execute_result"
    }
   ],
   "source": [
    "; After instantiating the 'nancy' object, its name field \n",
    "; should be empty since it wasn't specified at creation\n",
    "\n",
    "(def nancy (Person :new))\n",
    "(nancy :get :name)\n"
   ]
  },
  {
   "cell_type": "code",
   "execution_count": 94,
   "metadata": {},
   "outputs": [
    {
     "data": {
      "text/plain": [
       "nil"
      ]
     },
     "execution_count": 94,
     "metadata": {},
     "output_type": "execute_result"
    }
   ],
   "source": [
    "; The set! method in action\n",
    "\n",
    "(nancy :set! :name \"Nancy Drew\")"
   ]
  },
  {
   "cell_type": "code",
   "execution_count": 95,
   "metadata": {},
   "outputs": [
    {
     "data": {
      "text/plain": [
       "\"Nancy Drew\""
      ]
     },
     "execution_count": 95,
     "metadata": {},
     "output_type": "execute_result"
    }
   ],
   "source": [
    "; The get method now return a valid name\n",
    "\n",
    "(nancy :get :name)"
   ]
  },
  {
   "cell_type": "markdown",
   "metadata": {},
   "source": [
    "Defining methods"
   ]
  },
  {
   "cell_type": "code",
   "execution_count": 96,
   "metadata": {},
   "outputs": [
    {
     "data": {
      "text/plain": [
       "[:age (fn age [] (* 2 10))]"
      ]
     },
     "execution_count": 96,
     "metadata": {},
     "output_type": "execute_result"
    }
   ],
   "source": [
    "; The function 'method-spec' creates a vector containing the name of the method definition (as a keyword)\n",
    "; and another s-expression, which can later be evaluated to create an anonymous function\n",
    "\n",
    "(defn method-spec [sexpr]\n",
    "    (let [name (keyword (second sexpr))\n",
    "          body (next sexpr)]\n",
    "        [name (conj body 'fn)]))\n",
    "\n",
    "; Example\n",
    "\n",
    "(method-spec '(method age [] (* 2 10)))\n"
   ]
  },
  {
   "cell_type": "code",
   "execution_count": 97,
   "metadata": {},
   "outputs": [
    {
     "data": {
      "text/plain": [
       "{:age (fn age [] (* 2 10)), :greet (fn greet [visitor] (str \"Hello there, \" visitor))}"
      ]
     },
     "execution_count": 97,
     "metadata": {},
     "output_type": "execute_result"
    }
   ],
   "source": [
    "; The 'method-specs' function pick out the method definitions \n",
    "; by filtering on the first symbol (it should be method), and then call method-spec on each\n",
    "\n",
    "(defn method-specs [sexprs]\n",
    "    (->> sexprs\n",
    "        (filter #(= 'method (first %)))\n",
    "        (mapcat method-spec)\n",
    "        (apply hash-map)))\n",
    "\n",
    "; Example\n",
    "\n",
    "(method-specs \n",
    "    '((method age [] (* 2 10)) \n",
    "      (method greet [visitor] (str \"Hello there, \" visitor))))\n"
   ]
  },
  {
   "cell_type": "code",
   "execution_count": 98,
   "metadata": {},
   "outputs": [
    {
     "data": {
      "text/plain": [
       "#'user/new-class"
      ]
     },
     "execution_count": 98,
     "metadata": {},
     "output_type": "execute_result"
    }
   ],
   "source": [
    "; The modified version of 'new-class', which now accepts\n",
    "; methods as args\n",
    "\n",
    "(defn new-class [class-name methods]\n",
    "    (fn klass [command & args]\n",
    "        (case command\n",
    "            :name (name class-name)\n",
    "            :new (new-object klass))))\n"
   ]
  },
  {
   "cell_type": "code",
   "execution_count": 99,
   "metadata": {},
   "outputs": [
    {
     "data": {
      "text/plain": [
       "#'user/defclass"
      ]
     },
     "execution_count": 99,
     "metadata": {},
     "output_type": "execute_result"
    }
   ],
   "source": [
    "; The 'defclass' macro should be also modified \n",
    "; to accept method definitions\n",
    "; (It doesn’t yet do anything with methods (yet))\n",
    "\n",
    "(defmacro defclass [class-name & specs]\n",
    "    (let [fns (or (method-specs specs) {})]\n",
    "        `(def ~class-name (new-class '~class-name ~fns))))\n"
   ]
  },
  {
   "cell_type": "code",
   "execution_count": 100,
   "metadata": {},
   "outputs": [
    {
     "data": {
      "text/plain": [
       "#'user/Person"
      ]
     },
     "execution_count": 100,
     "metadata": {},
     "output_type": "execute_result"
    }
   ],
   "source": [
    "; Now the class with methods can be defined as follows\n",
    "\n",
    "(defclass Person\n",
    "    (method age [] \n",
    "        (* 2 10))\n",
    "    (method greet [visitor] \n",
    "        (str \"Hello there, \" visitor)))\n"
   ]
  },
  {
   "cell_type": "markdown",
   "metadata": {},
   "source": [
    "Invoking methods"
   ]
  },
  {
   "cell_type": "code",
   "execution_count": 106,
   "metadata": {},
   "outputs": [
    {
     "data": {
      "text/plain": [
       "#function[user/age--4469]"
      ]
     },
     "execution_count": 106,
     "metadata": {},
     "output_type": "execute_result"
    }
   ],
   "source": [
    "; A modified 'new-class' function with a 'method' keyword\n",
    "; that process an arbitrary method name\n",
    "\n",
    "(defn find-method [method-name instance-methods]\n",
    "    (instance-methods method-name))\n",
    "\n",
    "(defn new-class [class-name methods]\n",
    "    (fn klass [command & args]\n",
    "        (case command\n",
    "            :name (name class-name)\n",
    "            :new (new-object klass)\n",
    "            :method (let [[method-name] args]\n",
    "                (find-method method-name methods)))))\n",
    "\n",
    "; Example\n",
    "\n",
    "(defclass Person\n",
    "    (method age [] \n",
    "        (* 2 10))\n",
    "    (method greet [visitor] \n",
    "        (str \"Hello there, \" visitor)))\n",
    "\n",
    "(Person :method :age)\n"
   ]
  },
  {
   "cell_type": "code",
   "execution_count": 107,
   "metadata": {},
   "outputs": [
    {
     "data": {
      "text/plain": [
       "#'user/new-object"
      ]
     },
     "execution_count": 107,
     "metadata": {},
     "output_type": "execute_result"
    }
   ],
   "source": [
    "; A modified 'new-object' with a default case \n",
    "; which will be assumed as a method call\n",
    "\n",
    "(defn new-object [klass]\n",
    "    (let [state (ref {})]\n",
    "        (fn [command & args]\n",
    "            (case command\n",
    "                :class klass\n",
    "                :class-name (klass :name)\n",
    "                :set! (let [[k v] args] \n",
    "                    (dosync (alter state assoc k v))\n",
    "                    nil)\n",
    "                :get (let [[key] args]\n",
    "                    (@state key))\n",
    "                (if-let [method (klass :method command)]\n",
    "                    (apply method args)\n",
    "                    (throw (RuntimeException. (str \"Unable to respond to \" command))))))))\n"
   ]
  },
  {
   "cell_type": "code",
   "execution_count": 108,
   "metadata": {},
   "outputs": [
    {
     "data": {
      "text/plain": [
       "#'user/shelly"
      ]
     },
     "execution_count": 108,
     "metadata": {},
     "output_type": "execute_result"
    }
   ],
   "source": [
    "; Now an object can be created and methods can be invoked\n",
    "; like traditional OOP languages\n",
    "\n",
    "(def shelly (Person :new))\n"
   ]
  },
  {
   "cell_type": "code",
   "execution_count": 109,
   "metadata": {},
   "outputs": [
    {
     "data": {
      "text/plain": [
       "20"
      ]
     },
     "execution_count": 109,
     "metadata": {},
     "output_type": "execute_result"
    }
   ],
   "source": [
    "(shelly :age)\n"
   ]
  },
  {
   "cell_type": "code",
   "execution_count": 110,
   "metadata": {},
   "outputs": [
    {
     "data": {
      "text/plain": [
       "\"Hello there, Nancy\""
      ]
     },
     "execution_count": 110,
     "metadata": {},
     "output_type": "execute_result"
    }
   ],
   "source": [
    "(shelly :greet \"Nancy\")\n"
   ]
  },
  {
   "cell_type": "markdown",
   "metadata": {},
   "source": [
    "Referring to this"
   ]
  },
  {
   "cell_type": "code",
   "execution_count": 111,
   "metadata": {},
   "outputs": [
    {
     "data": {
      "text/plain": [
       "#'user/this"
      ]
     },
     "execution_count": 111,
     "metadata": {},
     "output_type": "execute_result"
    }
   ],
   "source": [
    "; Creating a dynamic var 'this' to avoid warnings\n",
    "; about unresolved symbols\n",
    "\n",
    "(declare ^:dynamic this)"
   ]
  },
  {
   "cell_type": "code",
   "execution_count": 112,
   "metadata": {},
   "outputs": [
    {
     "data": {
      "text/plain": [
       "#'user/new-object"
      ]
     },
     "execution_count": 112,
     "metadata": {},
     "output_type": "execute_result"
    }
   ],
   "source": [
    "; A modified 'new-object' with a default case \n",
    "; which now includes the binding of 'this' to 'thiz' (the function itself)\n",
    "\n",
    "(defn new-object [klass]\n",
    "    (let [state (ref {})]\n",
    "    (fn thiz [command & args]\n",
    "        (case command\n",
    "            :class klass\n",
    "            :class-name (klass :name)\n",
    "            :set! (let [[k v] args] \n",
    "                (dosync (alter state assoc k v))\n",
    "                nil)\n",
    "            :get (let [[key] args] (@state key))\n",
    "            (let [method (klass :method command)]\n",
    "                (if-not method\n",
    "                (throw (RuntimeException. (str \"Unable to respond to \" command))))\n",
    "                (binding [this thiz]\n",
    "                    (apply method args)))))))\n"
   ]
  },
  {
   "cell_type": "code",
   "execution_count": 113,
   "metadata": {},
   "outputs": [
    {
     "data": {
      "text/plain": [
       "\"I was born about 22 years ago\""
      ]
     },
     "execution_count": 113,
     "metadata": {},
     "output_type": "execute_result"
    }
   ],
   "source": [
    "; Now the class can be defined and the object instantiated, \n",
    "; as follows\n",
    "\n",
    "(defclass Person\n",
    "    (method age [] \n",
    "        (* 2 10))\n",
    "    (method about [diff]\n",
    "        (str \"I was born about \" (+ diff (this :age)) \" years ago\")))\n",
    "\n",
    "(def shelly (Person :new))\n",
    "\n",
    "(shelly :about 2)"
   ]
  },
  {
   "cell_type": "markdown",
   "metadata": {},
   "source": [
    "Class inheritance"
   ]
  },
  {
   "cell_type": "code",
   "execution_count": 123,
   "metadata": {},
   "outputs": [
    {
     "data": {
      "text/plain": [
       "Person"
      ]
     },
     "execution_count": 123,
     "metadata": {},
     "output_type": "execute_result"
    }
   ],
   "source": [
    "; A function parses the specification of the parent class \n",
    "; from a given class definition\n",
    "\n",
    "(defn parent-class-spec [sexprs]\n",
    "    (let [extends-spec (filter #(= 'extends (first %)) sexprs)\n",
    "          extends (first extends-spec)]\n",
    "        (if (empty? extends)\n",
    "            'OBJECT\n",
    "            (last extends))))\n",
    "\n",
    "(parent-class-spec '((extends Person) (method age [] (* 2 9))))\n"
   ]
  },
  {
   "cell_type": "code",
   "execution_count": 124,
   "metadata": {},
   "outputs": [
    {
     "data": {
      "text/plain": [
       "#'user/defclass"
      ]
     },
     "execution_count": 124,
     "metadata": {},
     "output_type": "execute_result"
    }
   ],
   "source": [
    "; The 'defclass' macro now has to process the 'extends' keyword\n",
    "\n",
    "(defmacro defclass [class-name & specs]\n",
    "    (let [parent-class (parent-class-spec specs)\n",
    "          fns (or (method-specs specs) {})]\n",
    "        `(def ~class-name (new-class '~class-name #'~parent-class ~fns))))\n",
    "        ; The reader macro for the var special form is #'\n"
   ]
  },
  {
   "cell_type": "code",
   "execution_count": 125,
   "metadata": {},
   "outputs": [
    {
     "data": {
      "text/plain": [
       "#'user/new-class"
      ]
     },
     "execution_count": 125,
     "metadata": {},
     "output_type": "execute_result"
    }
   ],
   "source": [
    "; The 'new-class' function has to accepy the parent class\n",
    "; as a new arg\n",
    "\n",
    "(defn new-class [class-name parent methods]\n",
    "    (fn klass [command & args]\n",
    "        (case command\n",
    "            :name (name class-name)\n",
    "            :parent parent\n",
    "            :new (new-object klass)\n",
    "            :method (let [[method-name] args] \n",
    "                (find-method method-name methods)))))\n"
   ]
  },
  {
   "cell_type": "code",
   "execution_count": 126,
   "metadata": {},
   "outputs": [
    {
     "data": {
      "text/plain": [
       "#'user/OBJECT"
      ]
     },
     "execution_count": 126,
     "metadata": {},
     "output_type": "execute_result"
    }
   ],
   "source": [
    "; Binding the name of OBJECT\n",
    "\n",
    "(def OBJECT (new-class :OBJECT nil {}))\n"
   ]
  },
  {
   "cell_type": "code",
   "execution_count": 128,
   "metadata": {},
   "outputs": [
    {
     "data": {
      "text/plain": [
       "#'user/Woman"
      ]
     },
     "execution_count": 128,
     "metadata": {},
     "output_type": "execute_result"
    }
   ],
   "source": [
    "; Now the class and the subclass can be defined as follows\n",
    "\n",
    "(defclass Person\n",
    "    (method age [] \n",
    "        (* 2 10))\n",
    "    (method about [diff]\n",
    "        (str \"I was born about \" (+ diff (this :age)) \" years ago\")))\n",
    "\n",
    "(defclass Woman (extends Person)\n",
    "    (method greet [v] \n",
    "        (str \"Hello, \" v))\n",
    "    (method age [] \n",
    "        (* 2 9)))\n"
   ]
  },
  {
   "cell_type": "code",
   "execution_count": 129,
   "metadata": {},
   "outputs": [
    {
     "data": {
      "text/plain": [
       "#'user/donna"
      ]
     },
     "execution_count": 129,
     "metadata": {},
     "output_type": "execute_result"
    }
   ],
   "source": [
    "(def donna (Woman :new))\n"
   ]
  },
  {
   "cell_type": "code",
   "execution_count": 130,
   "metadata": {},
   "outputs": [
    {
     "data": {
      "text/plain": [
       "\"Hello, Shelly\""
      ]
     },
     "execution_count": 130,
     "metadata": {},
     "output_type": "execute_result"
    }
   ],
   "source": [
    "(donna :greet \"Shelly\")\n"
   ]
  },
  {
   "cell_type": "code",
   "execution_count": 131,
   "metadata": {},
   "outputs": [
    {
     "data": {
      "text/plain": [
       "18"
      ]
     },
     "execution_count": 131,
     "metadata": {},
     "output_type": "execute_result"
    }
   ],
   "source": [
    "(donna :age)\n"
   ]
  },
  {
   "cell_type": "code",
   "execution_count": 132,
   "metadata": {},
   "outputs": [
    {
     "name": "stderr",
     "output_type": "stream",
     "text": [
      "Execution error at user$new_object$thiz__4492/doInvoke (REPL:16).\n",
      "Unable to respond to :about\n"
     ]
    },
    {
     "ename": "class java.lang.RuntimeException",
     "evalue": "",
     "output_type": "error",
     "traceback": [
      "RestFn.java:   423 clojure.lang.RestFn/invoke",
      "   core.clj:  3214 clojure.core$eval/invokeStatic",
      "   core.clj:  3210 clojure.core$eval/invoke",
      "   main.clj:   437 clojure.main$repl$read_eval_print__9086$fn__9089/invoke",
      "   main.clj:   458 clojure.main$repl$fn__9095/invoke",
      "   main.clj:   368 clojure.main$repl/doInvoke",
      "RestFn.java:  1523 clojure.lang.RestFn/invoke",
      "   AFn.java:    22 clojure.lang.AFn/run",
      "   AFn.java:    22 clojure.lang.AFn/run",
      "Thread.java:   745 java.lang.Thread/run"
     ]
    }
   ],
   "source": [
    "; This error shows since the 'about' method is defined in the parent class\n",
    "\n",
    "(donna :about 3)\n"
   ]
  },
  {
   "cell_type": "code",
   "execution_count": 134,
   "metadata": {},
   "outputs": [
    {
     "data": {
      "text/plain": [
       "#'user/new-class"
      ]
     },
     "execution_count": 134,
     "metadata": {},
     "output_type": "execute_result"
    }
   ],
   "source": [
    "; To fix the last exception, the 'find-method' \n",
    "; looks up the method in the parent class, recursively\n",
    "\n",
    "(defn find-method [method-name klass]\n",
    "    (or ((klass :methods) method-name)\n",
    "        (if-not (= #'OBJECT klass)\n",
    "            (find-method method-name (klass :parent)))))\n",
    "\n",
    "; Adjusting the 'new-class' function accordingly\n",
    "\n",
    "(defn new-class [class-name parent methods]\n",
    "    (fn klass [command & args]\n",
    "        (case command\n",
    "            :name (name class-name)\n",
    "            :parent parent\n",
    "            :new (new-object klass)\n",
    "            :methods methods\n",
    "            :method (let [[method-name] args] \n",
    "                (find-method method-name klass)))))\n"
   ]
  },
  {
   "cell_type": "code",
   "execution_count": 137,
   "metadata": {},
   "outputs": [
    {
     "data": {
      "text/plain": [
       "#'user/donna"
      ]
     },
     "execution_count": 137,
     "metadata": {},
     "output_type": "execute_result"
    }
   ],
   "source": [
    "; Now the class and the subclass can be defined as follows\n",
    "\n",
    "(defclass Person\n",
    "    (method age [] \n",
    "        (* 2 10))\n",
    "    (method about [diff]\n",
    "        (str \"I was born about \" (+ diff (this :age)) \" years ago\")))\n",
    "\n",
    "(defclass Woman (extends Person)\n",
    "    (method greet [v] \n",
    "        (str \"Hello, \" v))\n",
    "    (method age [] \n",
    "        (* 2 9)))\n",
    "\n",
    "(def donna (Woman :new))\n"
   ]
  },
  {
   "cell_type": "code",
   "execution_count": 139,
   "metadata": {},
   "outputs": [
    {
     "data": {
      "text/plain": [
       "\"I was born about 21 years ago\""
      ]
     },
     "execution_count": 139,
     "metadata": {},
     "output_type": "execute_result"
    }
   ],
   "source": [
    "; With the last changes, all the methods calls work as expected\n",
    "\n",
    "(donna :about 3)\n"
   ]
  }
 ],
 "metadata": {
  "kernelspec": {
   "display_name": "Clojure (clojupyter=0.3.2=1)",
   "language": "clojure",
   "name": "python397jvsc74a57bd089a790bea3b9cadff6bf73491f7cf161e4e94bfc015afe6a535623fbe4142b79"
  },
  "language_info": {
   "file_extension": ".clj",
   "mimetype": "text/x-clojure",
   "name": "clojure",
   "version": "1.10.1"
  },
  "orig_nbformat": 4
 },
 "nbformat": 4,
 "nbformat_minor": 2
}
