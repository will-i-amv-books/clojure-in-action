{
 "cells": [
  {
   "cell_type": "markdown",
   "metadata": {},
   "source": [
    "# More on Functional Programming"
   ]
  },
  {
   "cell_type": "markdown",
   "metadata": {},
   "source": [
    "## Using higher-order functions\n"
   ]
  },
  {
   "cell_type": "markdown",
   "metadata": {},
   "source": [
    "Collecting results of functions"
   ]
  },
  {
   "cell_type": "code",
   "execution_count": 1,
   "metadata": {},
   "outputs": [
    {
     "data": {
      "text/plain": [
       "(1 4 9 16 25 36)"
      ]
     },
     "execution_count": 1,
     "metadata": {},
     "output_type": "execute_result"
    }
   ],
   "source": [
    "; A function that returns the square of each element of a list\n",
    "\n",
    "(defn square [x]\n",
    "    (* x x))\n",
    "\n",
    "(defn square-all [numbers]\n",
    "    (if (empty? numbers)\n",
    "        nil \n",
    "    (cons (square (first numbers))\n",
    "          (square-all (rest numbers)))))\n",
    "\n",
    "(square-all [1 2 3 4 5 6])\n"
   ]
  },
  {
   "cell_type": "code",
   "execution_count": 2,
   "metadata": {},
   "outputs": [
    {
     "data": {
      "text/plain": [
       "(1 8 27 64 125 216)"
      ]
     },
     "execution_count": 2,
     "metadata": {},
     "output_type": "execute_result"
    }
   ],
   "source": [
    "; A function that returns the cube of each element of a list\n",
    "\n",
    "(defn cube [x]\n",
    "    (* x x x))\n",
    "\n",
    "(defn cube-all [numbers]\n",
    "    (if (empty? numbers)\n",
    "        ()\n",
    "    (cons (cube (first numbers))\n",
    "          (cube-all (rest numbers)))))\n",
    "\n",
    "(cube-all [1 2 3 4 5 6])"
   ]
  },
  {
   "cell_type": "code",
   "execution_count": 3,
   "metadata": {},
   "outputs": [
    {
     "data": {
      "text/plain": [
       "#'user/do-to-all"
      ]
     },
     "execution_count": 3,
     "metadata": {},
     "output_type": "execute_result"
    }
   ],
   "source": [
    "; A HOF 'do-to-all' that generalizes tha las 2 functions\n",
    "\n",
    "(defn do-to-all [func numbers]\n",
    "    (if (empty? numbers)\n",
    "        ()\n",
    "    (cons (func (first numbers))\n",
    "          (do-to-all func (rest numbers)))))\n"
   ]
  },
  {
   "cell_type": "code",
   "execution_count": 4,
   "metadata": {},
   "outputs": [
    {
     "data": {
      "text/plain": [
       "(1 4 9 16 25 36)"
      ]
     },
     "execution_count": 4,
     "metadata": {},
     "output_type": "execute_result"
    }
   ],
   "source": [
    "; The new function 'do-to-all' can get the square of each element\n",
    "\n",
    "(do-to-all square [1 2 3 4 5 6])"
   ]
  },
  {
   "cell_type": "code",
   "execution_count": 5,
   "metadata": {},
   "outputs": [
    {
     "data": {
      "text/plain": [
       "(1 8 27 64 125 216)"
      ]
     },
     "execution_count": 5,
     "metadata": {},
     "output_type": "execute_result"
    }
   ],
   "source": [
    "; The new function 'do-to-all' can get the cube of each element\n",
    "\n",
    "(do-to-all cube [1 2 3 4 5 6])\n"
   ]
  },
  {
   "cell_type": "code",
   "execution_count": 6,
   "metadata": {},
   "outputs": [
    {
     "data": {
      "text/plain": [
       "(1 8 27 64 125 216)"
      ]
     },
     "execution_count": 6,
     "metadata": {},
     "output_type": "execute_result"
    }
   ],
   "source": [
    "; In summary, 'do-to-all' is a custom implementation of 'map'\n",
    "\n",
    "(map cube [1 2 3 4 5 6])\n"
   ]
  },
  {
   "cell_type": "code",
   "execution_count": 7,
   "metadata": {},
   "outputs": [
    {
     "name": "stderr",
     "output_type": "stream",
     "text": [
      "Execution error (StackOverflowError) at user/do-to-all (REPL:6).\n",
      "null\n"
     ]
    },
    {
     "ename": "class java.lang.StackOverflowError",
     "evalue": "",
     "output_type": "error",
     "traceback": [
      " RT.java:   692 clojure.lang.RT/first",
      "core.clj:    55 clojure.core$first__5384/invokeStatic"
     ]
    }
   ],
   "source": [
    "; But 'do-to-all' blows the stack with large numbers\n",
    "\n",
    "(do-to-all square (range 11000))\n"
   ]
  },
  {
   "cell_type": "code",
   "execution_count": 17,
   "metadata": {},
   "outputs": [
    {
     "data": {
      "text/plain": [
       "#'user/do-to-all-2"
      ]
     },
     "execution_count": 17,
     "metadata": {},
     "output_type": "execute_result"
    }
   ],
   "source": [
    "; A new implementation of 'do-to-all' using lazy sequences\n",
    "\n",
    "(defn do-to-all-2 [func numbers]\n",
    "    (lazy-seq \n",
    "        (if (empty? numbers)\n",
    "            ()\n",
    "        (cons (func (first numbers))\n",
    "              (do-to-all-2 func (rest numbers))))))\n"
   ]
  },
  {
   "cell_type": "code",
   "execution_count": 18,
   "metadata": {},
   "outputs": [
    {
     "data": {
      "text/plain": [
       "(100000000 100020001 100040004 100060009 100080016 100100025 100120036 100140049 100160064 100180081)"
      ]
     },
     "execution_count": 18,
     "metadata": {},
     "output_type": "execute_result"
    }
   ],
   "source": [
    "; Testing with a large number again (doesn't blow the stack anymore)\n",
    "\n",
    "(take 10 (drop 10000 (do-to-all-2 square (range 11000))))\n"
   ]
  },
  {
   "cell_type": "markdown",
   "metadata": {},
   "source": [
    "Reduce list of things"
   ]
  },
  {
   "cell_type": "code",
   "execution_count": 19,
   "metadata": {},
   "outputs": [
    {
     "data": {
      "text/plain": [
       "39"
      ]
     },
     "execution_count": 19,
     "metadata": {},
     "output_type": "execute_result"
    }
   ],
   "source": [
    "; A function that returns the sum of a list of numbers\n",
    "\n",
    "(defn total-of [numbers]\n",
    "    (loop [nums numbers sum 0]\n",
    "        (if (empty? nums)\n",
    "            sum\n",
    "            (recur (rest nums) (+ sum (first nums))))))\n",
    "\n",
    "(total-of [5 7 9 3 4 1 2 8])"
   ]
  },
  {
   "cell_type": "code",
   "execution_count": 20,
   "metadata": {},
   "outputs": [
    {
     "data": {
      "text/plain": [
       "9"
      ]
     },
     "execution_count": 20,
     "metadata": {},
     "output_type": "execute_result"
    }
   ],
   "source": [
    "; A couple of functions that returns the biggest number of a list of numbers\n",
    "\n",
    "(defn larger-of [x y]\n",
    "    (if (> x y) x y))\n",
    "\n",
    "(defn largest-of [numbers]\n",
    "    (loop [l numbers candidate (first numbers)]\n",
    "        (if (empty? l)\n",
    "            candidate\n",
    "            (recur (rest l) (larger-of candidate (first l))))))\n",
    "\n",
    "(largest-of [5 7 9 3 4 1 2 8])"
   ]
  },
  {
   "cell_type": "code",
   "execution_count": 21,
   "metadata": {},
   "outputs": [
    {
     "data": {
      "text/plain": [
       "#'user/compute-across"
      ]
     },
     "execution_count": 21,
     "metadata": {},
     "output_type": "execute_result"
    }
   ],
   "source": [
    "; A HOF 'compute-across' that generalizes the last 2 functions\n",
    "\n",
    "(defn compute-across [func elements value]\n",
    "    (if (empty? elements)\n",
    "        value\n",
    "        (recur func (rest elements) (func value (first elements)))))\n"
   ]
  },
  {
   "cell_type": "code",
   "execution_count": 22,
   "metadata": {},
   "outputs": [
    {
     "data": {
      "text/plain": [
       "39"
      ]
     },
     "execution_count": 22,
     "metadata": {},
     "output_type": "execute_result"
    }
   ],
   "source": [
    "; 'compute-across' can compute the sum of a list of numbers\n",
    "\n",
    "(defn total-of-2 [numbers]\n",
    "    (compute-across + numbers 0))\n",
    "\n",
    "(total-of-2 [5 7 9 3 4 1 2 8])"
   ]
  },
  {
   "cell_type": "code",
   "execution_count": 23,
   "metadata": {},
   "outputs": [
    {
     "data": {
      "text/plain": [
       "9"
      ]
     },
     "execution_count": 23,
     "metadata": {},
     "output_type": "execute_result"
    }
   ],
   "source": [
    "; 'compute-across' can also get the biggest number of a list of numbers\n",
    "\n",
    "(defn largest-of-2 [numbers]\n",
    "    (compute-across larger-of numbers (first numbers)))\n",
    "\n",
    "(largest-of [5 7 9 3 4 1 2 8])\n"
   ]
  },
  {
   "cell_type": "code",
   "execution_count": 24,
   "metadata": {},
   "outputs": [
    {
     "data": {
      "text/plain": [
       "39"
      ]
     },
     "execution_count": 24,
     "metadata": {},
     "output_type": "execute_result"
    }
   ],
   "source": [
    "; ; In summary, 'compute-across' is a custom implementation of 'reduce'\n",
    "\n",
    "(reduce + [5 7 9 3 4 1 2 8])"
   ]
  },
  {
   "cell_type": "code",
   "execution_count": 25,
   "metadata": {},
   "outputs": [
    {
     "data": {
      "text/plain": [
       "9"
      ]
     },
     "execution_count": 25,
     "metadata": {},
     "output_type": "execute_result"
    }
   ],
   "source": [
    "(reduce max [5 7 9 3 4 1 2 8])\n"
   ]
  },
  {
   "cell_type": "markdown",
   "metadata": {},
   "source": [
    "Filtering lists of things\n"
   ]
  },
  {
   "cell_type": "code",
   "execution_count": 26,
   "metadata": {},
   "outputs": [
    {
     "data": {
      "text/plain": [
       "[7 9 8]"
      ]
     },
     "execution_count": 26,
     "metadata": {},
     "output_type": "execute_result"
    }
   ],
   "source": [
    "; A function that returns a list of the numbers greater than a given number\n",
    "\n",
    "(defn all-greater-than [threshold numbers]\n",
    "    (compute-across #(if (> %2 threshold) (conj %1 %2) %1) numbers [])) ; '%' are the anon function args\n",
    "\n",
    "(all-greater-than 5 [5 7 9 3 4 1 2 8])"
   ]
  },
  {
   "cell_type": "code",
   "execution_count": 27,
   "metadata": {},
   "outputs": [
    {
     "data": {
      "text/plain": [
       "[3 4 1 2]"
      ]
     },
     "execution_count": 27,
     "metadata": {},
     "output_type": "execute_result"
    }
   ],
   "source": [
    "; A function that returns a list of the numbers smaller than a given number\n",
    "\n",
    "(defn all-lesser-than [threshold numbers]\n",
    "    (compute-across #(if (< %2 threshold) (conj %1 %2) %1) numbers []))\n",
    "\n",
    "(all-lesser-than 5 [5 7 9 3 4 1 2 8])"
   ]
  },
  {
   "cell_type": "code",
   "execution_count": 28,
   "metadata": {},
   "outputs": [
    {
     "data": {
      "text/plain": [
       "#'user/select-if"
      ]
     },
     "execution_count": 28,
     "metadata": {},
     "output_type": "execute_result"
    }
   ],
   "source": [
    "; A HOF 'select-if' that generalizes the 2 last functions\n",
    "\n",
    "(defn select-if [pred elements]\n",
    "    (compute-across #(if (pred %2) (conj %1 %2) %1) elements []))"
   ]
  },
  {
   "cell_type": "code",
   "execution_count": 29,
   "metadata": {},
   "outputs": [
    {
     "data": {
      "text/plain": [
       "[4 2 8]"
      ]
     },
     "execution_count": 29,
     "metadata": {},
     "output_type": "execute_result"
    }
   ],
   "source": [
    "; 'select-if' can get all the even numbers\n",
    "\n",
    "(select-if even? [5 7 9 3 4 1 2 8])"
   ]
  },
  {
   "cell_type": "code",
   "execution_count": 30,
   "metadata": {},
   "outputs": [
    {
     "data": {
      "text/plain": [
       "[5 7 9 3 1]"
      ]
     },
     "execution_count": 30,
     "metadata": {},
     "output_type": "execute_result"
    }
   ],
   "source": [
    "; 'select-if' can get all the odd numbers\n",
    "\n",
    "(select-if odd? [5 7 9 3 4 1 2 8])"
   ]
  },
  {
   "cell_type": "code",
   "execution_count": 31,
   "metadata": {},
   "outputs": [
    {
     "data": {
      "text/plain": [
       "[7 9 8]"
      ]
     },
     "execution_count": 31,
     "metadata": {},
     "output_type": "execute_result"
    }
   ],
   "source": [
    "; 'all-greater-than' can be implemented in terms of 'select'if'\n",
    "\n",
    "(defn all-greater-than-v2 [threshold numbers]\n",
    "    (select-if #(> % threshold) numbers))\n",
    "\n",
    "(all-greater-than-v2 5 [5 7 9 3 4 1 2 8])"
   ]
  },
  {
   "cell_type": "code",
   "execution_count": 32,
   "metadata": {},
   "outputs": [
    {
     "data": {
      "text/plain": [
       "[3 4 1 2]"
      ]
     },
     "execution_count": 32,
     "metadata": {},
     "output_type": "execute_result"
    }
   ],
   "source": [
    "; 'all-lesser-than' can be implemented in terms of 'select'if'\n",
    "\n",
    "(defn all-lesser-than-v2 [threshold numbers]\n",
    "    (select-if #(< % threshold) numbers))\n",
    "\n",
    "\n",
    "(all-lesser-than-v2 5 [5 7 9 3 4 1 2 8])"
   ]
  },
  {
   "cell_type": "code",
   "execution_count": 33,
   "metadata": {},
   "outputs": [
    {
     "data": {
      "text/plain": [
       "(4 2 8)"
      ]
     },
     "execution_count": 33,
     "metadata": {},
     "output_type": "execute_result"
    }
   ],
   "source": [
    "; In summary, 'select-if' is a custom implementation of 'filter'\n",
    "\n",
    "(filter even? [5 7 9 3 4 1 2 8])"
   ]
  },
  {
   "cell_type": "code",
   "execution_count": 34,
   "metadata": {},
   "outputs": [
    {
     "data": {
      "text/plain": [
       "(5 7 9 3 1)"
      ]
     },
     "execution_count": 34,
     "metadata": {},
     "output_type": "execute_result"
    }
   ],
   "source": [
    "(filter odd? [5 7 9 3 4 1 2 8])"
   ]
  },
  {
   "cell_type": "markdown",
   "metadata": {},
   "source": [
    "## Partial application\n"
   ]
  },
  {
   "cell_type": "code",
   "execution_count": 35,
   "metadata": {},
   "outputs": [
    {
     "data": {
      "text/plain": [
       "109.500M"
      ]
     },
     "execution_count": 35,
     "metadata": {},
     "output_type": "execute_result"
    }
   ],
   "source": [
    "; A tax calculator function\n",
    "\n",
    "(defn price-with-tax [tax-rate amount]\n",
    "    (->> (/ tax-rate 100)\n",
    "         (+ 1)\n",
    "         (* amount)))\n",
    "\n",
    "(price-with-tax 9.5M 100)\n"
   ]
  },
  {
   "cell_type": "code",
   "execution_count": 36,
   "metadata": {},
   "outputs": [
    {
     "data": {
      "text/plain": [
       "#'user/prices"
      ]
     },
     "execution_count": 36,
     "metadata": {},
     "output_type": "execute_result"
    }
   ],
   "source": [
    "; The last function can be used to get the prices\n",
    "; accounting for California's and New York's tax rates\n",
    "-\n",
    "(defn price-with-ca-tax [price]\n",
    "    (price-with-tax 9.25M price))\n",
    "\n",
    "(defn price-with-ny-tax [price]\n",
    "    (price-with-tax 8.0M price))\n",
    "\n",
    "(def prices [100 200 300 400 500])\n"
   ]
  },
  {
   "cell_type": "code",
   "execution_count": 37,
   "metadata": {},
   "outputs": [
    {
     "data": {
      "text/plain": [
       "(109.2500M 218.5000M 327.7500M 437.0000M 546.2500M)"
      ]
     },
     "execution_count": 37,
     "metadata": {},
     "output_type": "execute_result"
    }
   ],
   "source": [
    "(map price-with-ca-tax prices)\n"
   ]
  },
  {
   "cell_type": "code",
   "execution_count": 38,
   "metadata": {},
   "outputs": [
    {
     "data": {
      "text/plain": [
       "(108.00M 216.00M 324.00M 432.00M 540.00M)"
      ]
     },
     "execution_count": 38,
     "metadata": {},
     "output_type": "execute_result"
    }
   ],
   "source": [
    "(map price-with-ny-tax prices)\n"
   ]
  },
  {
   "cell_type": "code",
   "execution_count": 39,
   "metadata": {},
   "outputs": [
    {
     "data": {
      "text/plain": [
       "#'user/price-calculator-for-tax"
      ]
     },
     "execution_count": 39,
     "metadata": {},
     "output_type": "execute_result"
    }
   ],
   "source": [
    "; A function 'price-calculator-for-tax' that generalizes 'price-with-ca-tax' and 'price-with-ny-tax'\n",
    "\n",
    "(defn price-calculator-for-tax [state-tax]\n",
    "    (fn [price]\n",
    "        (price-with-tax state-tax price)))\n",
    "\n",
    "\n"
   ]
  },
  {
   "cell_type": "code",
   "execution_count": 40,
   "metadata": {},
   "outputs": [
    {
     "data": {
      "text/plain": [
       "(109.2500M 218.5000M 327.7500M 437.0000M 546.2500M)"
      ]
     },
     "execution_count": 40,
     "metadata": {},
     "output_type": "execute_result"
    }
   ],
   "source": [
    "; 'price-with-ca-tax-2' is a 'partially applied' function \n",
    "; with CA's tax rate as a partial arg\n",
    "\n",
    "(def price-with-ca-tax-2 (price-calculator-for-tax 9.25M)) ; Note the function definition as a var\n",
    "\n",
    "; The results are the same as the 1st version\n",
    "\n",
    "(map price-with-ca-tax-2 prices)\n"
   ]
  },
  {
   "cell_type": "code",
   "execution_count": 41,
   "metadata": {},
   "outputs": [
    {
     "data": {
      "text/plain": [
       "(108.00M 216.00M 324.00M 432.00M 540.00M)"
      ]
     },
     "execution_count": 41,
     "metadata": {},
     "output_type": "execute_result"
    }
   ],
   "source": [
    "; 'price-with-ny-tax-2' is a 'partially applied' function \n",
    "; with NY's tax rate as a partial arg\n",
    "\n",
    "(def price-with-ny-tax-2 (price-calculator-for-tax 8.0M)) ; Note the function definition as a var\n",
    "; The results are the same as the 1st version\n",
    "\n",
    "(map price-with-ny-tax-2 prices)\n"
   ]
  },
  {
   "cell_type": "code",
   "execution_count": 42,
   "metadata": {},
   "outputs": [
    {
     "data": {
      "text/plain": [
       "#'user/of-n-args"
      ]
     },
     "execution_count": 42,
     "metadata": {},
     "output_type": "execute_result"
    }
   ],
   "source": [
    "; A simple function of arity 5 that concatenates the args as a string\n",
    "\n",
    "(defn of-n-args [a b c d e] \n",
    "    (str a b c d e ))\n"
   ]
  },
  {
   "cell_type": "code",
   "execution_count": 43,
   "metadata": {},
   "outputs": [
    {
     "data": {
      "text/plain": [
       "\"123ab\""
      ]
     },
     "execution_count": 43,
     "metadata": {},
     "output_type": "execute_result"
    }
   ],
   "source": [
    "; Partially applying to the last function the args a, b, c\n",
    "\n",
    "(defn of-k-args [d e]\n",
    "    (of-n-args 1 2 3 d e))\n",
    "\n",
    "(of-k-args \\a \\b)\n"
   ]
  },
  {
   "cell_type": "code",
   "execution_count": 44,
   "metadata": {},
   "outputs": [
    {
     "data": {
      "text/plain": [
       "#'user/partially-applied"
      ]
     },
     "execution_count": 44,
     "metadata": {},
     "output_type": "execute_result"
    }
   ],
   "source": [
    "; A general form of a function that can partially apply \n",
    "; 'n-minus-k-args' to the function 'of-n-args' \n",
    "\n",
    "(defn partially-applied [of-n-args & n-minus-k-args]\n",
    "    (fn [& k-args]\n",
    "        (apply of-n-args (concat n-minus-k-args k-args))))\n"
   ]
  },
  {
   "cell_type": "code",
   "execution_count": 58,
   "metadata": {},
   "outputs": [
    {
     "data": {
      "text/plain": [
       "\"abc45\""
      ]
     },
     "execution_count": 58,
     "metadata": {},
     "output_type": "execute_result"
    }
   ],
   "source": [
    "; Partially applying the first 3 args of 'of-n-args'\n",
    "\n",
    "(def of-2-args (partially-applied of-n-args \\a \\b \\c))\n",
    "\n",
    "(of-2-args 4 5)\n"
   ]
  },
  {
   "cell_type": "code",
   "execution_count": 59,
   "metadata": {},
   "outputs": [
    {
     "data": {
      "text/plain": [
       "\"ab345\""
      ]
     },
     "execution_count": 59,
     "metadata": {},
     "output_type": "execute_result"
    }
   ],
   "source": [
    "; Partially applying the first 2 args of 'of-n-args'\n",
    "\n",
    "(def of-3-args (partially-applied of-n-args \\a \\b))\n",
    "\n",
    "(of-3-args 3 4 5)\n"
   ]
  },
  {
   "cell_type": "code",
   "execution_count": 60,
   "metadata": {},
   "outputs": [
    {
     "data": {
      "text/plain": [
       "\"abc45\""
      ]
     },
     "execution_count": 60,
     "metadata": {},
     "output_type": "execute_result"
    }
   ],
   "source": [
    "; The function 'of-n-args' is a custom implementation of the 'partial' Clojure function\n",
    "\n",
    "(def of-2-args (partial of-n-args \\a \\b \\c))\n",
    "\n",
    "(of-2-args 4 5)"
   ]
  },
  {
   "cell_type": "code",
   "execution_count": 48,
   "metadata": {},
   "outputs": [
    {
     "data": {
      "text/plain": [
       "\"ab345\""
      ]
     },
     "execution_count": 48,
     "metadata": {},
     "output_type": "execute_result"
    }
   ],
   "source": [
    "(def of-3-args (partial of-n-args \\a \\b))\n",
    "\n",
    "(of-3-args 3 4 5)\n"
   ]
  },
  {
   "cell_type": "code",
   "execution_count": 61,
   "metadata": {},
   "outputs": [
    {
     "data": {
      "text/plain": [
       "#'user/select-if"
      ]
     },
     "execution_count": 61,
     "metadata": {},
     "output_type": "execute_result"
    }
   ],
   "source": [
    "; The select-if function defined in the previous section\n",
    "\n",
    "(defn select-if [pred elements]\n",
    "    (compute-across #(if (pred %2) (conj %1 %2) %1) elements []))\n"
   ]
  },
  {
   "cell_type": "code",
   "execution_count": 62,
   "metadata": {},
   "outputs": [
    {
     "data": {
      "text/plain": [
       "#'user/numbers"
      ]
     },
     "execution_count": 62,
     "metadata": {},
     "output_type": "execute_result"
    }
   ],
   "source": [
    "; Rewriting 'select-if' to take an arbitrary initial container\n",
    "\n",
    "(defn select-into-if [container pred elements]\n",
    "    (compute-across #(if (pred %2) (conj %1 %2) %1) elements container))\n",
    "\n",
    "(def numbers [4 9 5 7 6 3 8])\n"
   ]
  },
  {
   "cell_type": "code",
   "execution_count": 52,
   "metadata": {},
   "outputs": [
    {
     "data": {
      "text/plain": [
       "[4 5 6 3]"
      ]
     },
     "execution_count": 52,
     "metadata": {},
     "output_type": "execute_result"
    }
   ],
   "source": [
    "; Passing a vector as initial value to 'select-into-if' and evaluating it\n",
    "\n",
    "(select-into-if [] #(< % 7) numbers)\n"
   ]
  },
  {
   "cell_type": "code",
   "execution_count": 63,
   "metadata": {},
   "outputs": [
    {
     "data": {
      "text/plain": [
       "(3 6 5 4)"
      ]
     },
     "execution_count": 63,
     "metadata": {},
     "output_type": "execute_result"
    }
   ],
   "source": [
    "; Passing a list as initial value to 'select-into-if' and evaluating it\n",
    "; (see how the order of the sequence changes)\n",
    "\n",
    "(select-into-if () #(< % 7) numbers)\n"
   ]
  },
  {
   "cell_type": "code",
   "execution_count": 55,
   "metadata": {},
   "outputs": [
    {
     "data": {
      "text/plain": [
       "[5 3 6 8]"
      ]
     },
     "execution_count": 55,
     "metadata": {},
     "output_type": "execute_result"
    }
   ],
   "source": [
    "; The 'select-up' function can be defined to return the filtered results in the same order,\n",
    "; using a vector as the initial container\n",
    "\n",
    "(def select-up (partial select-into-if []))\n",
    "\n",
    "(select-up #(< % 9) [5 3 9 6 8])\n",
    "\n"
   ]
  },
  {
   "cell_type": "code",
   "execution_count": 64,
   "metadata": {},
   "outputs": [
    {
     "data": {
      "text/plain": [
       "(8 6 3 5)"
      ]
     },
     "execution_count": 64,
     "metadata": {},
     "output_type": "execute_result"
    }
   ],
   "source": [
    "; The 'select-down' function can be defined to return the filtered results with the inverted order,\n",
    "; using a list as the initial container\n",
    "\n",
    "(def select-down (partial select-into-if ()))\n",
    "\n",
    "(select-down #(< % 9) [5 3 9 6 8])\n"
   ]
  }
 ],
 "metadata": {
  "kernelspec": {
   "display_name": "Clojure (clojupyter=0.3.2=1)",
   "language": "clojure",
   "name": "python397jvsc74a57bd089a790bea3b9cadff6bf73491f7cf161e4e94bfc015afe6a535623fbe4142b79"
  },
  "language_info": {
   "file_extension": ".clj",
   "mimetype": "text/x-clojure",
   "name": "clojure",
   "version": "1.10.1"
  },
  "orig_nbformat": 4
 },
 "nbformat": 4,
 "nbformat_minor": 2
}
