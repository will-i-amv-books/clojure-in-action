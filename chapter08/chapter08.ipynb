{
 "cells": [
  {
   "cell_type": "markdown",
   "metadata": {},
   "source": [
    "# More on Functional Programming"
   ]
  },
  {
   "cell_type": "markdown",
   "metadata": {},
   "source": [
    "## Using higher-order functions\n"
   ]
  },
  {
   "cell_type": "markdown",
   "metadata": {},
   "source": [
    "Collecting results of functions"
   ]
  },
  {
   "cell_type": "code",
   "execution_count": 1,
   "metadata": {},
   "outputs": [
    {
     "data": {
      "text/plain": [
       "(1 4 9 16 25 36)"
      ]
     },
     "execution_count": 1,
     "metadata": {},
     "output_type": "execute_result"
    }
   ],
   "source": [
    "; A function that returns the square of each element of a list\n",
    "\n",
    "(defn square [x]\n",
    "    (* x x))\n",
    "\n",
    "(defn square-all [numbers]\n",
    "    (if (empty? numbers)\n",
    "        nil \n",
    "    (cons (square (first numbers))\n",
    "          (square-all (rest numbers)))))\n",
    "\n",
    "(square-all [1 2 3 4 5 6])\n"
   ]
  },
  {
   "cell_type": "code",
   "execution_count": 2,
   "metadata": {},
   "outputs": [
    {
     "data": {
      "text/plain": [
       "(1 8 27 64 125 216)"
      ]
     },
     "execution_count": 2,
     "metadata": {},
     "output_type": "execute_result"
    }
   ],
   "source": [
    "; A function that returns the cube of each element of a list\n",
    "\n",
    "(defn cube [x]\n",
    "    (* x x x))\n",
    "\n",
    "(defn cube-all [numbers]\n",
    "    (if (empty? numbers)\n",
    "        ()\n",
    "    (cons (cube (first numbers))\n",
    "          (cube-all (rest numbers)))))\n",
    "\n",
    "(cube-all [1 2 3 4 5 6])"
   ]
  },
  {
   "cell_type": "code",
   "execution_count": 3,
   "metadata": {},
   "outputs": [
    {
     "data": {
      "text/plain": [
       "#'user/do-to-all"
      ]
     },
     "execution_count": 3,
     "metadata": {},
     "output_type": "execute_result"
    }
   ],
   "source": [
    "; A HOF 'do-to-all' that generalizes tha las 2 functions\n",
    "\n",
    "(defn do-to-all [func numbers]\n",
    "    (if (empty? numbers)\n",
    "        ()\n",
    "    (cons (func (first numbers))\n",
    "          (do-to-all func (rest numbers)))))\n"
   ]
  },
  {
   "cell_type": "code",
   "execution_count": 4,
   "metadata": {},
   "outputs": [
    {
     "data": {
      "text/plain": [
       "(1 4 9 16 25 36)"
      ]
     },
     "execution_count": 4,
     "metadata": {},
     "output_type": "execute_result"
    }
   ],
   "source": [
    "; The new function 'do-to-all' can get the square of each element\n",
    "\n",
    "(do-to-all square [1 2 3 4 5 6])"
   ]
  },
  {
   "cell_type": "code",
   "execution_count": 5,
   "metadata": {},
   "outputs": [
    {
     "data": {
      "text/plain": [
       "(1 8 27 64 125 216)"
      ]
     },
     "execution_count": 5,
     "metadata": {},
     "output_type": "execute_result"
    }
   ],
   "source": [
    "; The new function 'do-to-all' can get the cube of each element\n",
    "\n",
    "(do-to-all cube [1 2 3 4 5 6])\n"
   ]
  },
  {
   "cell_type": "code",
   "execution_count": 7,
   "metadata": {},
   "outputs": [
    {
     "data": {
      "text/plain": [
       "(1 8 27 64 125 216)"
      ]
     },
     "execution_count": 7,
     "metadata": {},
     "output_type": "execute_result"
    }
   ],
   "source": [
    "; In summary, 'do-to-all' is a custom implementation of 'map'\n",
    "\n",
    "(map cube [1 2 3 4 5 6])\n"
   ]
  },
  {
   "cell_type": "code",
   "execution_count": 8,
   "metadata": {},
   "outputs": [
    {
     "name": "stderr",
     "output_type": "stream",
     "text": [
      "Execution error (StackOverflowError) at user/do-to-all (REPL:7).\n",
      "null\n"
     ]
    },
    {
     "ename": "class java.lang.StackOverflowError",
     "evalue": "",
     "output_type": "error",
     "traceback": [
      "LongRange.java:    62 clojure.lang.LongRange/<init>",
      "LongRange.java:   145 clojure.lang.LongRange/next",
      "     ASeq.java:   131 clojure.lang.ASeq/more",
      "       RT.java:   722 clojure.lang.RT/more",
      "      core.clj:    73 clojure.core$rest__5388/invokeStatic"
     ]
    }
   ],
   "source": [
    "; But 'do-to-all' blows the stack with large numbers\n",
    "\n",
    "(do-to-all square (range 11000))\n"
   ]
  },
  {
   "cell_type": "code",
   "execution_count": 11,
   "metadata": {},
   "outputs": [
    {
     "data": {
      "text/plain": [
       "#'user/do-to-all-2"
      ]
     },
     "execution_count": 11,
     "metadata": {},
     "output_type": "execute_result"
    }
   ],
   "source": [
    "; A new implementation of 'do-to-all' using lazy sequences\n",
    "\n",
    "(defn do-to-all-2 [func numbers]\n",
    "    (lazy-seq \n",
    "        (if (empty? numbers)\n",
    "            ()\n",
    "        (cons (func (first numbers))\n",
    "              (do-to-all func (rest numbers))))))\n"
   ]
  },
  {
   "cell_type": "code",
   "execution_count": 16,
   "metadata": {},
   "outputs": [
    {
     "data": {
      "text/plain": [
       "(100000000 100020001 100040004 100060009 100080016 100100025 100120036 100140049 100160064 100180081)"
      ]
     },
     "execution_count": 16,
     "metadata": {},
     "output_type": "execute_result"
    }
   ],
   "source": [
    "; Testing with a large number again (doesn't blow the stack anymore)\n",
    "\n",
    "(take 10 (drop 10000 (do-to-all-2 square (range 11000))))\n"
   ]
  },
  {
   "cell_type": "markdown",
   "metadata": {},
   "source": [
    "Reduce list of things"
   ]
  },
  {
   "cell_type": "code",
   "execution_count": 17,
   "metadata": {},
   "outputs": [
    {
     "data": {
      "text/plain": [
       "39"
      ]
     },
     "execution_count": 17,
     "metadata": {},
     "output_type": "execute_result"
    }
   ],
   "source": [
    "; A function that returns the sum of a list of numbers\n",
    "\n",
    "(defn total-of [numbers]\n",
    "    (loop [nums numbers sum 0]\n",
    "        (if (empty? nums)\n",
    "            sum\n",
    "            (recur (rest nums) (+ sum (first nums))))))\n",
    "\n",
    "(total-of [5 7 9 3 4 1 2 8])"
   ]
  },
  {
   "cell_type": "code",
   "execution_count": 20,
   "metadata": {},
   "outputs": [
    {
     "data": {
      "text/plain": [
       "9"
      ]
     },
     "execution_count": 20,
     "metadata": {},
     "output_type": "execute_result"
    }
   ],
   "source": [
    "; A couple of functions that returns the biggest number of a list of numbers\n",
    "\n",
    "(defn larger-of [x y]\n",
    "    (if (> x y) x y))\n",
    "\n",
    "(defn largest-of [numbers]\n",
    "    (loop [l numbers candidate (first numbers)]\n",
    "        (if (empty? l)\n",
    "            candidate\n",
    "            (recur (rest l) (larger-of candidate (first l))))))\n",
    "\n",
    "(largest-of [5 7 9 3 4 1 2 8])"
   ]
  },
  {
   "cell_type": "code",
   "execution_count": 22,
   "metadata": {},
   "outputs": [
    {
     "data": {
      "text/plain": [
       "#'user/compute-across"
      ]
     },
     "execution_count": 22,
     "metadata": {},
     "output_type": "execute_result"
    }
   ],
   "source": [
    "; A HOF 'compute-across' that generalizes the last 2 functions\n",
    "\n",
    "(defn compute-across [func elements value]\n",
    "    (if (empty? elements)\n",
    "        value\n",
    "        (recur func (rest elements) (func value (first elements)))))\n"
   ]
  },
  {
   "cell_type": "code",
   "execution_count": 23,
   "metadata": {},
   "outputs": [
    {
     "data": {
      "text/plain": [
       "39"
      ]
     },
     "execution_count": 23,
     "metadata": {},
     "output_type": "execute_result"
    }
   ],
   "source": [
    "; 'compute-across' can compute the sum of a list of numbers\n",
    "\n",
    "(defn total-of-2 [numbers]\n",
    "    (compute-across + numbers 0))\n",
    "\n",
    "(total-of-2 [5 7 9 3 4 1 2 8])"
   ]
  },
  {
   "cell_type": "code",
   "execution_count": 25,
   "metadata": {},
   "outputs": [
    {
     "data": {
      "text/plain": [
       "9"
      ]
     },
     "execution_count": 25,
     "metadata": {},
     "output_type": "execute_result"
    }
   ],
   "source": [
    "; 'compute-across' can also get the biggest number of a list of numbers\n",
    "\n",
    "(defn largest-of-2 [numbers]\n",
    "    (compute-across larger-of numbers (first numbers)))\n",
    "\n",
    "(largest-of [5 7 9 3 4 1 2 8])\n"
   ]
  },
  {
   "cell_type": "code",
   "execution_count": 39,
   "metadata": {},
   "outputs": [
    {
     "data": {
      "text/plain": [
       "39"
      ]
     },
     "execution_count": 39,
     "metadata": {},
     "output_type": "execute_result"
    }
   ],
   "source": [
    "; ; In summary, 'compute-across' is a custom implementation of 'reduce'\n",
    "\n",
    "(reduce + [5 7 9 3 4 1 2 8])"
   ]
  },
  {
   "cell_type": "code",
   "execution_count": 40,
   "metadata": {},
   "outputs": [
    {
     "data": {
      "text/plain": [
       "9"
      ]
     },
     "execution_count": 40,
     "metadata": {},
     "output_type": "execute_result"
    }
   ],
   "source": [
    "(reduce max [5 7 9 3 4 1 2 8])\n"
   ]
  },
  {
   "cell_type": "markdown",
   "metadata": {},
   "source": [
    "Filtering lists of things\n"
   ]
  },
  {
   "cell_type": "code",
   "execution_count": 44,
   "metadata": {},
   "outputs": [
    {
     "data": {
      "text/plain": [
       "[7 9 8]"
      ]
     },
     "execution_count": 44,
     "metadata": {},
     "output_type": "execute_result"
    }
   ],
   "source": [
    "; A function that returns a list of the numbers greater than a given number\n",
    "\n",
    "(defn all-greater-than [threshold numbers]\n",
    "    (compute-across #(if (> %2 threshold) (conj %1 %2) %1) numbers [])) ; '%' are the anon function args\n",
    "\n",
    "(all-greater-than 5 [5 7 9 3 4 1 2 8])"
   ]
  },
  {
   "cell_type": "code",
   "execution_count": 46,
   "metadata": {},
   "outputs": [
    {
     "data": {
      "text/plain": [
       "[3 4 1 2]"
      ]
     },
     "execution_count": 46,
     "metadata": {},
     "output_type": "execute_result"
    }
   ],
   "source": [
    "; A function that returns a list of the numbers smaller than a given number\n",
    "\n",
    "(defn all-lesser-than [threshold numbers]\n",
    "    (compute-across #(if (< %2 threshold) (conj %1 %2) %1) numbers []))\n",
    "\n",
    "(all-lesser-than 5 [5 7 9 3 4 1 2 8])"
   ]
  },
  {
   "cell_type": "code",
   "execution_count": 48,
   "metadata": {},
   "outputs": [
    {
     "data": {
      "text/plain": [
       "#'user/select-if"
      ]
     },
     "execution_count": 48,
     "metadata": {},
     "output_type": "execute_result"
    }
   ],
   "source": [
    "; A HOF 'select-if' that generalizes the 2 last functions\n",
    "\n",
    "(defn select-if [pred elements]\n",
    "    (compute-across #(if (pred %2) (conj %1 %2) %1) elements []))"
   ]
  },
  {
   "cell_type": "code",
   "execution_count": 53,
   "metadata": {},
   "outputs": [
    {
     "data": {
      "text/plain": [
       "[4 2 8]"
      ]
     },
     "execution_count": 53,
     "metadata": {},
     "output_type": "execute_result"
    }
   ],
   "source": [
    "; 'select-if' can get all the even numbers\n",
    "\n",
    "(select-if even? [5 7 9 3 4 1 2 8])"
   ]
  },
  {
   "cell_type": "code",
   "execution_count": 52,
   "metadata": {},
   "outputs": [
    {
     "data": {
      "text/plain": [
       "[5 7 9 3 1]"
      ]
     },
     "execution_count": 52,
     "metadata": {},
     "output_type": "execute_result"
    }
   ],
   "source": [
    "; 'select-if' can get all the odd numbers\n",
    "\n",
    "(select-if odd? [5 7 9 3 4 1 2 8])"
   ]
  },
  {
   "cell_type": "code",
   "execution_count": 54,
   "metadata": {},
   "outputs": [
    {
     "data": {
      "text/plain": [
       "[7 9 8]"
      ]
     },
     "execution_count": 54,
     "metadata": {},
     "output_type": "execute_result"
    }
   ],
   "source": [
    "; 'all-greater-than' can be implemented in terms of 'select'if'\n",
    "\n",
    "(defn all-greater-than-v2 [threshold numbers]\n",
    "    (select-if #(> % threshold) numbers))\n",
    "\n",
    "(all-greater-than-v2 5 [5 7 9 3 4 1 2 8])"
   ]
  },
  {
   "cell_type": "code",
   "execution_count": 56,
   "metadata": {},
   "outputs": [
    {
     "data": {
      "text/plain": [
       "[3 4 1 2]"
      ]
     },
     "execution_count": 56,
     "metadata": {},
     "output_type": "execute_result"
    }
   ],
   "source": [
    "; 'all-lesser-than' can be implemented in terms of 'select'if'\n",
    "\n",
    "(defn all-lesser-than-v2 [threshold numbers]\n",
    "    (select-if #(< % threshold) numbers))\n",
    "\n",
    "\n",
    "(all-lesser-than-v2 5 [5 7 9 3 4 1 2 8])"
   ]
  },
  {
   "cell_type": "code",
   "execution_count": 57,
   "metadata": {},
   "outputs": [
    {
     "data": {
      "text/plain": [
       "(4 2 8)"
      ]
     },
     "execution_count": 57,
     "metadata": {},
     "output_type": "execute_result"
    }
   ],
   "source": [
    "; In summary, 'select-if' is a custom implementation of 'filter'\n",
    "\n",
    "(filter even? [5 7 9 3 4 1 2 8])"
   ]
  },
  {
   "cell_type": "code",
   "execution_count": 58,
   "metadata": {},
   "outputs": [
    {
     "data": {
      "text/plain": [
       "(5 7 9 3 1)"
      ]
     },
     "execution_count": 58,
     "metadata": {},
     "output_type": "execute_result"
    }
   ],
   "source": [
    "(filter odd? [5 7 9 3 4 1 2 8])"
   ]
  },
  {
   "cell_type": "markdown",
   "metadata": {},
   "source": [
    "## Partial application\n"
   ]
  }
 ],
 "metadata": {
  "kernelspec": {
   "display_name": "Clojure (clojupyter=0.3.2=1)",
   "language": "clojure",
   "name": "python397jvsc74a57bd089a790bea3b9cadff6bf73491f7cf161e4e94bfc015afe6a535623fbe4142b79"
  },
  "language_info": {
   "file_extension": ".clj",
   "mimetype": "text/x-clojure",
   "name": "clojure",
   "version": "1.10.1"
  },
  "orig_nbformat": 4
 },
 "nbformat": 4,
 "nbformat_minor": 2
}
