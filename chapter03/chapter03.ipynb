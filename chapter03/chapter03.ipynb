{
 "cells": [
  {
   "cell_type": "markdown",
   "metadata": {},
   "source": [
    "# Building blocks of Clojure"
   ]
  },
  {
   "cell_type": "markdown",
   "metadata": {},
   "source": [
    "## Metadata"
   ]
  },
  {
   "cell_type": "code",
   "execution_count": 97,
   "metadata": {},
   "outputs": [
    {
     "data": {
      "text/plain": [
       "{:command \"delete-table\", :subject \"users\"}"
      ]
     },
     "execution_count": 97,
     "metadata": {},
     "output_type": "execute_result"
    }
   ],
   "source": [
    "; Using the with-meta function to add metadata to a map\n",
    "(def untrusted (with-meta \n",
    "    {:command \"delete-table\" :subject \"users\"}\n",
    "    {:safe false :io true})) ; Metadata\n",
    "\n",
    "untrusted"
   ]
  },
  {
   "cell_type": "code",
   "execution_count": 98,
   "metadata": {},
   "outputs": [
    {
     "data": {
      "text/plain": [
       "{:command \"delete-table\", :subject \"users\"}"
      ]
     },
     "execution_count": 98,
     "metadata": {},
     "output_type": "execute_result"
    }
   ],
   "source": [
    "; Using the '^' macro to add metadata to a map\n",
    "\n",
    "(def untrusted \n",
    "    ^{:safe false :io true} \n",
    "    {:command \"delete-table\" :subject \"users\"})\n",
    "\n",
    "untrusted"
   ]
  },
  {
   "cell_type": "code",
   "execution_count": 99,
   "metadata": {},
   "outputs": [
    {
     "data": {
      "text/plain": [
       "#'user/untrusted-not-working"
      ]
     },
     "execution_count": 99,
     "metadata": {},
     "output_type": "execute_result"
    }
   ],
   "source": [
    "; If using the '^' macro with a list, \n",
    "; the metadata won't take effect at runtime\n",
    "\n",
    "(def untrusted-not-working \n",
    "    ^{:safe false :io true} \n",
    "    (hash-map :command \"delete-table\" :subject \"users\"))\n"
   ]
  },
  {
   "cell_type": "code",
   "execution_count": 100,
   "metadata": {},
   "outputs": [
    {
     "data": {
      "text/plain": [
       "true"
      ]
     },
     "execution_count": 100,
     "metadata": {},
     "output_type": "execute_result"
    }
   ],
   "source": [
    "; Metadata doesn't affect value equality\n",
    "\n",
    "(def trusted {:command \"delete-table\" :subject \"users\"}) \n",
    "(= trusted untrusted) "
   ]
  },
  {
   "cell_type": "code",
   "execution_count": 101,
   "metadata": {},
   "outputs": [
    {
     "data": {
      "text/plain": [
       "{:safe false, :io true}"
      ]
     },
     "execution_count": 101,
     "metadata": {},
     "output_type": "execute_result"
    }
   ],
   "source": [
    "; Using the meta function to examine metadata\n",
    "(meta untrusted)\n"
   ]
  },
  {
   "cell_type": "code",
   "execution_count": 102,
   "metadata": {},
   "outputs": [
    {
     "data": {
      "text/plain": [
       "{:safe false, :io true}"
      ]
     },
     "execution_count": 102,
     "metadata": {},
     "output_type": "execute_result"
    }
   ],
   "source": [
    "; When new values are created from those that have metadata, \n",
    "; the metadata is copied over to the new data\n",
    "\n",
    "(def still-untrusted (assoc untrusted :complete? false))\n",
    "(meta still-untrusted)\n"
   ]
  },
  {
   "cell_type": "code",
   "execution_count": 103,
   "metadata": {},
   "outputs": [
    {
     "data": {
      "text/plain": [
       "#'user/testing-meta"
      ]
     },
     "execution_count": 103,
     "metadata": {},
     "output_type": "execute_result"
    }
   ],
   "source": [
    "; Functions and macros can also be defined with metadata\n",
    "\n",
    "(defn ^{:safe true \n",
    "        :console true\n",
    "        :doc \"testing metadata for functions\"} \n",
    "    testing-meta\n",
    "    [] \n",
    "    (println \"Hello from meta!\"))\n"
   ]
  },
  {
   "cell_type": "code",
   "execution_count": 104,
   "metadata": {},
   "outputs": [
    {
     "data": {
      "text/plain": [
       "nil"
      ]
     },
     "execution_count": 104,
     "metadata": {},
     "output_type": "execute_result"
    }
   ],
   "source": [
    "; Trying to use the meta function directly to check that \n",
    "; the metadata was set correctly won't work\n",
    "\n",
    "(meta testing-meta)"
   ]
  },
  {
   "cell_type": "code",
   "execution_count": 105,
   "metadata": {},
   "outputs": [
    {
     "data": {
      "text/plain": [
       "{:ns #namespace[user], :name testing-meta, :file \"NO_SOURCE_PATH\", :column 1, :line 3, :console true, :safe true, :arglists ([]), :doc \"testing metadata for functions\"}"
      ]
     },
     "execution_count": 105,
     "metadata": {},
     "output_type": "execute_result"
    }
   ],
   "source": [
    "; To access the metadata,  pass the testing-meta var to the meta function.\n",
    "(meta (var testing-meta))"
   ]
  },
  {
   "cell_type": "markdown",
   "metadata": {},
   "source": [
    "Defining a function without Java type hints"
   ]
  },
  {
   "cell_type": "code",
   "execution_count": 106,
   "metadata": {},
   "outputs": [
    {
     "name": "stderr",
     "output_type": "stream",
     "text": [
      "Reflection warning, NO_SOURCE_PATH:4:25 - reference to field length can't be resolved.\n"
     ]
    },
    {
     "data": {
      "text/plain": [
       "#'user/string-length"
      ]
     },
     "execution_count": 106,
     "metadata": {},
     "output_type": "execute_result"
    }
   ],
   "source": [
    "; Setting a warning to alert when \"Reflection\" is used\n",
    "(set! *warn-on-reflection* true) \n",
    "\n",
    "(defn string-length [x] (.length x))\n"
   ]
  },
  {
   "cell_type": "code",
   "execution_count": 107,
   "metadata": {},
   "outputs": [
    {
     "name": "stdout",
     "output_type": "stream",
     "text": [
      "\"Elapsed time: 54.126 msecs\"\n"
     ]
    },
    {
     "data": {
      "text/plain": [
       "50000"
      ]
     },
     "execution_count": 107,
     "metadata": {},
     "output_type": "execute_result"
    }
   ],
   "source": [
    "; Function call without type hints (slow)\n",
    "\n",
    "(time (reduce + (map string-length (repeat 10000 \"12345\"))))"
   ]
  },
  {
   "cell_type": "markdown",
   "metadata": {},
   "source": [
    "Defining a function with Java type hints"
   ]
  },
  {
   "cell_type": "code",
   "execution_count": 108,
   "metadata": {},
   "outputs": [
    {
     "data": {
      "text/plain": [
       "#'user/fast-string-length"
      ]
     },
     "execution_count": 108,
     "metadata": {},
     "output_type": "execute_result"
    }
   ],
   "source": [
    "(defn fast-string-length [^String x] (.length x)) \n"
   ]
  },
  {
   "cell_type": "code",
   "execution_count": 109,
   "metadata": {},
   "outputs": [
    {
     "name": "stdout",
     "output_type": "stream",
     "text": [
      "\"Elapsed time: 3.1097 msecs\"\n"
     ]
    },
    {
     "data": {
      "text/plain": [
       "50000"
      ]
     },
     "execution_count": 109,
     "metadata": {},
     "output_type": "execute_result"
    }
   ],
   "source": [
    "; Function call with type hints (fast)\n",
    "\n",
    "(time (reduce + (map fast-string-length (repeat 10000 \"12345\"))))"
   ]
  },
  {
   "cell_type": "code",
   "execution_count": 110,
   "metadata": {},
   "outputs": [
    {
     "data": {
      "text/plain": [
       "{:tag String}"
      ]
     },
     "execution_count": 110,
     "metadata": {},
     "output_type": "execute_result"
    }
   ],
   "source": [
    "; The type hints of args is stored as metadata\n",
    "\n",
    "(meta (first (first (:arglists (meta #'fast-string-length))))) \n"
   ]
  },
  {
   "cell_type": "markdown",
   "metadata": {},
   "source": [
    "Type hinting primitive types"
   ]
  },
  {
   "cell_type": "code",
   "execution_count": 111,
   "metadata": {},
   "outputs": [
    {
     "data": {
      "text/plain": [
       "\"[Ljava.math.BigDecimal;\""
      ]
     },
     "execution_count": 111,
     "metadata": {},
     "output_type": "execute_result"
    }
   ],
   "source": [
    "; Getting the Java Class name of BigDecimal\n",
    "\n",
    "(defn array-type [klass]\n",
    "    (.getName (class (make-array klass 0)))) \n",
    "\n",
    "(array-type BigDecimal)"
   ]
  },
  {
   "cell_type": "code",
   "execution_count": 112,
   "metadata": {},
   "outputs": [
    {
     "data": {
      "text/plain": [
       "#'user/bigdec-arr"
      ]
     },
     "execution_count": 112,
     "metadata": {},
     "output_type": "execute_result"
    }
   ],
   "source": [
    "; Using the name \"[Ljava.math.BigDecimal;\" as type hint\n",
    "\n",
    "(def bigdec-arr \n",
    "    ^\"[Ljava.math.BigDecimal;\" \n",
    "    (into-array BigDecimal [1.0M]))\n"
   ]
  },
  {
   "cell_type": "markdown",
   "metadata": {},
   "source": [
    "## Java exceptions: try and throw\n"
   ]
  },
  {
   "cell_type": "code",
   "execution_count": 113,
   "metadata": {},
   "outputs": [
    {
     "data": {
      "text/plain": [
       "#'user/average"
      ]
     },
     "execution_count": 113,
     "metadata": {},
     "output_type": "execute_result"
    }
   ],
   "source": [
    "; A function that calculates the average of a collection of numbers\n",
    "\n",
    "(defn average [numbers]\n",
    "    (let [total (apply + numbers)]\n",
    "        (/ total (count numbers))))"
   ]
  },
  {
   "cell_type": "code",
   "execution_count": 114,
   "metadata": {},
   "outputs": [
    {
     "name": "stderr",
     "output_type": "stream",
     "text": [
      "Execution error (ArithmeticException) at user/average (REPL:5).\n",
      "Divide by zero\n"
     ]
    },
    {
     "ename": "class java.lang.ArithmeticException",
     "evalue": "",
     "output_type": "error",
     "traceback": [
      "Numbers.java:   188 clojure.lang.Numbers/divide",
      "    core.clj:  3214 clojure.core$eval/invokeStatic",
      "    core.clj:  3210 clojure.core$eval/invoke",
      "    main.clj:   437 clojure.main$repl$read_eval_print__9086$fn__9089/invoke",
      "    main.clj:   458 clojure.main$repl$fn__9095/invoke",
      "    main.clj:   368 clojure.main$repl/doInvoke",
      " RestFn.java:  1523 clojure.lang.RestFn/invoke",
      "    AFn.java:    22 clojure.lang.AFn/run",
      "    AFn.java:    22 clojure.lang.AFn/run",
      " Thread.java:   745 java.lang.Thread/run"
     ]
    }
   ],
   "source": [
    "; Calling the average function with an empty sequence throws an exception\n",
    "\n",
    "(average [])"
   ]
  },
  {
   "cell_type": "code",
   "execution_count": 115,
   "metadata": {},
   "outputs": [
    {
     "name": "stdout",
     "output_type": "stream",
     "text": [
      "Divided by zero!\n"
     ]
    },
    {
     "data": {
      "text/plain": [
       "0"
      ]
     },
     "execution_count": 115,
     "metadata": {},
     "output_type": "execute_result"
    }
   ],
   "source": [
    "; Wrapping the last function with a try/catch expression\n",
    "\n",
    "(defn safe-average [numbers]\n",
    "    (let [total (apply + numbers)]\n",
    "        (try\n",
    "            (/ total (count numbers))\n",
    "        (catch ArithmeticException e \n",
    "            (println \"Divided by zero!\")\n",
    "        0))))\n",
    "\n",
    "(safe-average [])"
   ]
  },
  {
   "cell_type": "code",
   "execution_count": 116,
   "metadata": {},
   "outputs": [
    {
     "data": {
      "text/plain": [
       "\"\""
      ]
     },
     "execution_count": 116,
     "metadata": {},
     "output_type": "execute_result"
    }
   ],
   "source": [
    "; The general form of using try/catch/finally is straightforward:\n",
    "\n",
    "\"\"\"\n",
    "(try expr* catch-clause* finally-clause?)\n",
    "\"\"\""
   ]
  },
  {
   "cell_type": "code",
   "execution_count": 117,
   "metadata": {},
   "outputs": [
    {
     "name": "stdout",
     "output_type": "stream",
     "text": [
      "Attempting division... done.\n"
     ]
    },
    {
     "data": {
      "text/plain": [
       "\"Runtime exception!\""
      ]
     },
     "execution_count": 117,
     "metadata": {},
     "output_type": "execute_result"
    }
   ],
   "source": [
    "; Using several catch and a finally clauses\n",
    "\n",
    "(try\n",
    "    (print \"Attempting division... \")\n",
    "    (/ 1 0)\n",
    "(catch RuntimeException e \"Runtime exception!\") \n",
    "(catch ArithmeticException e \"DIVIDE BY ZERO!\")  \n",
    "(catch Throwable e \"Unknown exception encountered!\") \n",
    "(finally \n",
    "    (println \"done.\")))\n"
   ]
  },
  {
   "cell_type": "code",
   "execution_count": 118,
   "metadata": {},
   "outputs": [
    {
     "name": "stdout",
     "output_type": "stream",
     "text": [
      "Attempting division... done.\n"
     ]
    },
    {
     "name": "stderr",
     "output_type": "stream",
     "text": [
      "Execution error (ArithmeticException) at user/eval4359 (REPL:4).\n",
      "Divide by zero\n"
     ]
    },
    {
     "ename": "class java.lang.ArithmeticException",
     "evalue": "",
     "output_type": "error",
     "traceback": [
      "Numbers.java:   188 clojure.lang.Numbers/divide",
      "    core.clj:  3214 clojure.core$eval/invokeStatic",
      "    core.clj:  3210 clojure.core$eval/invoke",
      "    main.clj:   437 clojure.main$repl$read_eval_print__9086$fn__9089/invoke",
      "    main.clj:   458 clojure.main$repl$fn__9095/invoke",
      "    main.clj:   368 clojure.main$repl/doInvoke",
      " RestFn.java:  1523 clojure.lang.RestFn/invoke",
      "    AFn.java:    22 clojure.lang.AFn/run",
      "    AFn.java:    22 clojure.lang.AFn/run",
      " Thread.java:   745 java.lang.Thread/run"
     ]
    }
   ],
   "source": [
    "; The finally clause can be used without catch clauses\n",
    "(try\n",
    "    (print \"Attempting division... \")\n",
    "    (/ 1 0)\n",
    "(finally\n",
    "    (println \"done.\")))\n"
   ]
  },
  {
   "cell_type": "code",
   "execution_count": 119,
   "metadata": {},
   "outputs": [
    {
     "name": "stderr",
     "output_type": "stream",
     "text": [
      "Execution error at user/eval4361 (REPL:2).\n",
      "this is an error!\n"
     ]
    },
    {
     "ename": "class java.lang.Exception",
     "evalue": "",
     "output_type": "error",
     "traceback": [
      "   core.clj:  3214 clojure.core$eval/invokeStatic",
      "   core.clj:  3210 clojure.core$eval/invoke",
      "   main.clj:   437 clojure.main$repl$read_eval_print__9086$fn__9089/invoke",
      "   main.clj:   458 clojure.main$repl$fn__9095/invoke",
      "   main.clj:   368 clojure.main$repl/doInvoke",
      "RestFn.java:  1523 clojure.lang.RestFn/invoke",
      "   AFn.java:    22 clojure.lang.AFn/run",
      "   AFn.java:    22 clojure.lang.AFn/run",
      "Thread.java:   745 java.lang.Thread/run"
     ]
    }
   ],
   "source": [
    "; Throwing exceptions\n",
    "(throw (Exception. \"this is an error!\"))"
   ]
  },
  {
   "cell_type": "markdown",
   "metadata": {},
   "source": [
    "## Functions"
   ]
  },
  {
   "cell_type": "markdown",
   "metadata": {},
   "source": [
    "### Function definitions"
   ]
  },
  {
   "cell_type": "code",
   "execution_count": 120,
   "metadata": {},
   "outputs": [
    {
     "data": {
      "text/plain": [
       "nil"
      ]
     },
     "execution_count": 120,
     "metadata": {},
     "output_type": "execute_result"
    }
   ],
   "source": [
    "(use '[clojure.repl :only (doc)])"
   ]
  },
  {
   "cell_type": "code",
   "execution_count": 121,
   "metadata": {},
   "outputs": [
    {
     "data": {
      "text/plain": [
       "\"\""
      ]
     },
     "execution_count": 121,
     "metadata": {},
     "output_type": "execute_result"
    }
   ],
   "source": [
    "; Syntax of the defn macro\n",
    "\"\"\"\n",
    "(defn function-name\n",
    "    doc-string?\n",
    "    metadata-map?\n",
    "    [parameter-list*]\n",
    "    conditions-map?\n",
    "    body-expressions*) \n",
    "\"\"\""
   ]
  },
  {
   "cell_type": "code",
   "execution_count": 122,
   "metadata": {},
   "outputs": [
    {
     "data": {
      "text/plain": [
       "#'user/total-cost"
      ]
     },
     "execution_count": 122,
     "metadata": {},
     "output_type": "execute_result"
    }
   ],
   "source": [
    "; A basic function definition\n",
    "\n",
    "(defn total-cost [item-cost number-of-items]\n",
    "    (* item-cost number-of-items))"
   ]
  },
  {
   "cell_type": "code",
   "execution_count": 123,
   "metadata": {},
   "outputs": [
    {
     "data": {
      "text/plain": [
       "#'user/total-cost"
      ]
     },
     "execution_count": 123,
     "metadata": {},
     "output_type": "execute_result"
    }
   ],
   "source": [
    "; The defn macro expands the last function definition as follows\n",
    "\n",
    "(def total-cost (fn [item-cost number-of-items]\n",
    "    (* item-cost number-of-items)))\n"
   ]
  },
  {
   "cell_type": "code",
   "execution_count": 124,
   "metadata": {},
   "outputs": [
    {
     "name": "stdout",
     "output_type": "stream",
     "text": [
      "-------------------------\n",
      "user/total-cost\n",
      "([item-cost number-of-items])\n",
      "  return line-item total of the item and quantity provided\n"
     ]
    },
    {
     "data": {
      "text/plain": [
       "nil"
      ]
     },
     "execution_count": 124,
     "metadata": {},
     "output_type": "execute_result"
    }
   ],
   "source": [
    "; Adding docstring at function definition\n",
    "(defn total-cost \n",
    "    \"return line-item total of the item and quantity provided\" \n",
    "    [item-cost number-of-items]\n",
    "    (* item-cost number-of-items))\n",
    "\n",
    "(doc total-cost)"
   ]
  },
  {
   "cell_type": "markdown",
   "metadata": {},
   "source": [
    "Adding metadata to functions"
   ]
  },
  {
   "cell_type": "code",
   "execution_count": 125,
   "metadata": {},
   "outputs": [
    {
     "data": {
      "text/plain": [
       "{:arglists ([]), :a 1, :line 2, :column 7, :file \"NO_SOURCE_PATH\", :name myfn-attr-map, :ns #namespace[user]}"
      ]
     },
     "execution_count": 125,
     "metadata": {},
     "output_type": "execute_result"
    }
   ],
   "source": [
    "; Adding metadata without using ^\n",
    "(meta (defn myfn-attr-map {:a 1} [])) "
   ]
  },
  {
   "cell_type": "code",
   "execution_count": 126,
   "metadata": {},
   "outputs": [
    {
     "data": {
      "text/plain": [
       "{:a 1, :arglists ([]), :line 2, :column 7, :file \"NO_SOURCE_PATH\", :name myfn-metadata, :ns #namespace[user]}"
      ]
     },
     "execution_count": 126,
     "metadata": {},
     "output_type": "execute_result"
    }
   ],
   "source": [
    "; Adding metadata with ^\n",
    "(meta (defn ^{:a 1} myfn-metadata []))"
   ]
  },
  {
   "cell_type": "code",
   "execution_count": 127,
   "metadata": {},
   "outputs": [
    {
     "data": {
      "text/plain": [
       "{:a 2, :arglists ([]), :b 3, :line 2, :column 7, :file \"NO_SOURCE_PATH\", :name myfn-both, :ns #namespace[user]}"
      ]
     },
     "execution_count": 127,
     "metadata": {},
     "output_type": "execute_result"
    }
   ],
   "source": [
    "; When adding duplicate metadata, the last version is used\n",
    "(meta (defn ^{:a 1} myfn-both {:a 2 :b 3} [])) "
   ]
  },
  {
   "cell_type": "code",
   "execution_count": 128,
   "metadata": {},
   "outputs": [
    {
     "data": {
      "text/plain": [
       "{:ns #namespace[user], :name myfn-redundant-docs, :file \"NO_SOURCE_PATH\", :column 7, :line 2, :b 3, :arglists ([]), :doc \"doc 3\", :a 2}"
      ]
     },
     "execution_count": 128,
     "metadata": {},
     "output_type": "execute_result"
    }
   ],
   "source": [
    "; When adding duplicate docstrings, the last version is used\n",
    "(meta (defn ^{:a 1 :doc \"doc 1\"} myfn-redundant-docs \"doc 2\" {:a 2 :b 3 :doc \"doc 3\"} [])) "
   ]
  },
  {
   "cell_type": "markdown",
   "metadata": {},
   "source": [
    "Adding conditional to functions"
   ]
  },
  {
   "cell_type": "code",
   "execution_count": 129,
   "metadata": {},
   "outputs": [
    {
     "data": {
      "text/plain": [
       "#'user/item-total"
      ]
     },
     "execution_count": 129,
     "metadata": {},
     "output_type": "execute_result"
    }
   ],
   "source": [
    "; Adding pre and post conditionals to functions\n",
    "(defn item-total [price quantity discount-percentage]\n",
    "    {:pre [(> price 0) (> quantity 0)]\n",
    "     :post [(> % 0)]}\n",
    "    (->> (/ discount-percentage 100)\n",
    "         (- 1)\n",
    "         (* price quantity)\n",
    "         float))\n"
   ]
  },
  {
   "cell_type": "code",
   "execution_count": 130,
   "metadata": {},
   "outputs": [
    {
     "data": {
      "text/plain": [
       "#function[clojure.core/-]"
      ]
     },
     "execution_count": 130,
     "metadata": {},
     "output_type": "execute_result"
    }
   ],
   "source": [
    "; Testing pre conditionals with a valid input\n",
    "(item-total 100 2 10)-"
   ]
  },
  {
   "cell_type": "code",
   "execution_count": 131,
   "metadata": {},
   "outputs": [
    {
     "name": "stderr",
     "output_type": "stream",
     "text": [
      "Execution error (AssertionError) at user/item-total (REPL:2).\n",
      "Assert failed: (> quantity 0)\n"
     ]
    },
    {
     "ename": "class java.lang.AssertionError",
     "evalue": "",
     "output_type": "error",
     "traceback": [
      "   core.clj:  3214 clojure.core$eval/invokeStatic",
      "   core.clj:  3210 clojure.core$eval/invoke",
      "   main.clj:   437 clojure.main$repl$read_eval_print__9086$fn__9089/invoke",
      "   main.clj:   458 clojure.main$repl$fn__9095/invoke",
      "   main.clj:   368 clojure.main$repl/doInvoke",
      "RestFn.java:  1523 clojure.lang.RestFn/invoke",
      "   AFn.java:    22 clojure.lang.AFn/run",
      "   AFn.java:    22 clojure.lang.AFn/run",
      "Thread.java:   745 java.lang.Thread/run"
     ]
    }
   ],
   "source": [
    "; Testing pre conditionals with an invalid input\n",
    "(item-total 100 -2 10)"
   ]
  },
  {
   "cell_type": "code",
   "execution_count": null,
   "metadata": {},
   "outputs": [
    {
     "name": "stderr",
     "output_type": "stream",
     "text": [
      "Execution error (AssertionError) at user/item-total (REPL:2).\n",
      "Assert failed: (> % 0)\n"
     ]
    },
    {
     "ename": "class java.lang.AssertionError",
     "evalue": "",
     "output_type": "error",
     "traceback": [
      "   core.clj:  3214 clojure.core$eval/invokeStatic",
      "   core.clj:  3210 clojure.core$eval/invoke",
      "   main.clj:   437 clojure.main$repl$read_eval_print__9086$fn__9089/invoke",
      "   main.clj:   458 clojure.main$repl$fn__9095/invoke",
      "   main.clj:   368 clojure.main$repl/doInvoke",
      "RestFn.java:  1523 clojure.lang.RestFn/invoke",
      "   AFn.java:    22 clojure.lang.AFn/run",
      "   AFn.java:    22 clojure.lang.AFn/run",
      "Thread.java:   745 java.lang.Thread/run"
     ]
    }
   ],
   "source": [
    "; Testing the post conditional with an invalid input\n",
    "(item-total 100 2 110)\n"
   ]
  },
  {
   "cell_type": "markdown",
   "metadata": {},
   "source": [
    "Multiple 'arity' of functions"
   ]
  },
  {
   "cell_type": "code",
   "execution_count": 132,
   "metadata": {},
   "outputs": [
    {
     "data": {
      "text/plain": [
       "\"\""
      ]
     },
     "execution_count": 132,
     "metadata": {},
     "output_type": "execute_result"
    }
   ],
   "source": [
    "; The general form of overloaded functions is as follows\n",
    "\"\"\"\n",
    "(defn function-name \n",
    "    ;; Note that each argument+body pair is enclosed in a list.\n",
    "    ([arg1] body-executed-for-one-argument-call)\n",
    "    ([arg1 arg2] body-executed-for-two-argument-call)\n",
    "    ;; More cases may follow.)\n",
    "\"\"\""
   ]
  },
  {
   "cell_type": "code",
   "execution_count": 133,
   "metadata": {},
   "outputs": [
    {
     "data": {
      "text/plain": [
       "#'user/total-cost"
      ]
     },
     "execution_count": 133,
     "metadata": {},
     "output_type": "execute_result"
    }
   ],
   "source": [
    "; Example of an overloaded function\n",
    "(defn total-cost \n",
    "    ([item-cost number-of-items]\n",
    "        (* item-cost number-of-items))\n",
    "    ([item-cost]\n",
    "        (total-cost item-cost 1))) ; Calling the 2-ary version from the 1-ary one\n"
   ]
  },
  {
   "cell_type": "markdown",
   "metadata": {},
   "source": [
    "Variadic functions"
   ]
  },
  {
   "cell_type": "code",
   "execution_count": 134,
   "metadata": {},
   "outputs": [
    {
     "data": {
      "text/plain": [
       "\"\""
      ]
     },
     "execution_count": 134,
     "metadata": {},
     "output_type": "execute_result"
    }
   ],
   "source": [
    "; The general form of variadic functions is as follows\n",
    "\"\"\"\n",
    "(defn name-of-variadic-function [param-1 param-2 & rest-args]\n",
    "    (body-of-function))\n",
    "\"\"\""
   ]
  },
  {
   "cell_type": "code",
   "execution_count": 135,
   "metadata": {},
   "outputs": [
    {
     "data": {
      "text/plain": [
       "#'user/total-all-numbers"
      ]
     },
     "execution_count": 135,
     "metadata": {},
     "output_type": "execute_result"
    }
   ],
   "source": [
    "; Using the & symbol to define a variadic function\n",
    "\n",
    "(defn total-all-numbers [& numbers]\n",
    "    (apply + numbers))"
   ]
  },
  {
   "cell_type": "code",
   "execution_count": 136,
   "metadata": {},
   "outputs": [
    {
     "data": {
      "text/plain": [
       "#'user/many-arities"
      ]
     },
     "execution_count": 136,
     "metadata": {},
     "output_type": "execute_result"
    }
   ],
   "source": [
    "; A variadic function with other nonvariadic arities\n",
    "(defn many-arities\n",
    "    ([] 0)\n",
    "    ([a] 1)\n",
    "    ([a b c] 3)\n",
    "    ([a b c & more] \"variadic\"))\n"
   ]
  },
  {
   "cell_type": "code",
   "execution_count": 137,
   "metadata": {},
   "outputs": [
    {
     "data": {
      "text/plain": [
       "0"
      ]
     },
     "execution_count": 137,
     "metadata": {},
     "output_type": "execute_result"
    }
   ],
   "source": [
    "; >Testing it with 0 args\n",
    "(many-arities)"
   ]
  },
  {
   "cell_type": "code",
   "execution_count": 138,
   "metadata": {},
   "outputs": [
    {
     "data": {
      "text/plain": [
       "1"
      ]
     },
     "execution_count": 138,
     "metadata": {},
     "output_type": "execute_result"
    }
   ],
   "source": [
    "; Testing it with 1 arg\n",
    "(many-arities \"one argument\")"
   ]
  },
  {
   "cell_type": "code",
   "execution_count": 139,
   "metadata": {},
   "outputs": [
    {
     "name": "stderr",
     "output_type": "stream",
     "text": [
      "Execution error (ArityException) at user/eval4398 (REPL:2).\n",
      "Wrong number of args (2) passed to: user/many-arities\n"
     ]
    },
    {
     "ename": "class clojure.lang.ArityException",
     "evalue": "",
     "output_type": "error",
     "traceback": [
      "   AFn.java:   429 clojure.lang.AFn/throwArity",
      "RestFn.java:   427 clojure.lang.RestFn/invoke",
      "   core.clj:  3214 clojure.core$eval/invokeStatic",
      "   core.clj:  3210 clojure.core$eval/invoke",
      "   main.clj:   437 clojure.main$repl$read_eval_print__9086$fn__9089/invoke",
      "   main.clj:   458 clojure.main$repl$fn__9095/invoke",
      "   main.clj:   368 clojure.main$repl/doInvoke",
      "RestFn.java:  1523 clojure.lang.RestFn/invoke",
      "   AFn.java:    22 clojure.lang.AFn/run",
      "   AFn.java:    22 clojure.lang.AFn/run",
      "Thread.java:   745 java.lang.Thread/run"
     ]
    }
   ],
   "source": [
    "; Testing it with 2 args (this case is not defined)\n",
    "(many-arities \"two\" \"arguments\")"
   ]
  },
  {
   "cell_type": "code",
   "execution_count": 140,
   "metadata": {},
   "outputs": [
    {
     "data": {
      "text/plain": [
       "3"
      ]
     },
     "execution_count": 140,
     "metadata": {},
     "output_type": "execute_result"
    }
   ],
   "source": [
    "; Testing it with 3 args\n",
    "(many-arities \"three\" \"argu-\" \"ments\")"
   ]
  },
  {
   "cell_type": "code",
   "execution_count": 141,
   "metadata": {},
   "outputs": [
    {
     "data": {
      "text/plain": [
       "\"variadic\""
      ]
     },
     "execution_count": 141,
     "metadata": {},
     "output_type": "execute_result"
    }
   ],
   "source": [
    "; Testing it with more than 3 args\n",
    "(many-arities \"many\" \"more\" \"argu-\" \"ments\")"
   ]
  },
  {
   "cell_type": "markdown",
   "metadata": {},
   "source": [
    "### Recursive functions"
   ]
  },
  {
   "cell_type": "markdown",
   "metadata": {},
   "source": [
    "Self-Recursive functions"
   ]
  },
  {
   "cell_type": "code",
   "execution_count": 142,
   "metadata": {},
   "outputs": [
    {
     "name": "stdout",
     "output_type": "stream",
     "text": [
      "count-down: 500\n",
      "count-down: 400\n",
      "count-down: 300\n",
      "count-down: 200\n",
      "count-down: 100\n"
     ]
    },
    {
     "data": {
      "text/plain": [
       "nil"
      ]
     },
     "execution_count": 142,
     "metadata": {},
     "output_type": "execute_result"
    }
   ],
   "source": [
    "; A recursive function that will blow the stack with big args\n",
    "(defn count-down [n]\n",
    "    (when-not (zero? n)\n",
    "        (when (zero? (rem n 100)) \n",
    "            (println \"count-down:\" n))\n",
    "        (count-down (dec n)))) \n",
    "\n",
    ";(count-down 100000) ; This will throw StackOverflowError\n",
    "(count-down 500)"
   ]
  },
  {
   "cell_type": "code",
   "execution_count": 143,
   "metadata": {},
   "outputs": [
    {
     "name": "stdout",
     "output_type": "stream",
     "text": [
      "count-down: 500\n",
      "count-down: 400\n",
      "count-down: 300\n",
      "count-down: 200\n",
      "count-down: 100\n"
     ]
    },
    {
     "data": {
      "text/plain": [
       "nil"
      ]
     },
     "execution_count": 143,
     "metadata": {},
     "output_type": "execute_result"
    }
   ],
   "source": [
    "; Rewriting the last function with recur, which won't blow the stack\n",
    "(defn count-downr [n]\n",
    "    (when-not (zero? n)\n",
    "        (if (zero? (rem n 100))\n",
    "            (println \"count-down:\" n))\n",
    "        (recur (dec n))))\n",
    "\n",
    ";(count-downr 100000) ; This won't throw StackOverflowError, but will kill the jupyter kernel. Try it at the REPL\n",
    "(count-downr 500)\n"
   ]
  },
  {
   "cell_type": "markdown",
   "metadata": {},
   "source": [
    "Mutually recursive functions"
   ]
  },
  {
   "cell_type": "code",
   "execution_count": 144,
   "metadata": {},
   "outputs": [
    {
     "name": "stdout",
     "output_type": "stream",
     "text": [
      "cat: 500\n",
      "cat: 400\n",
      "cat: 300\n",
      "cat: 200\n",
      "cat: 100\n"
     ]
    },
    {
     "data": {
      "text/plain": [
       "nil"
      ]
     },
     "execution_count": 144,
     "metadata": {},
     "output_type": "execute_result"
    }
   ],
   "source": [
    "; Mutually recursive functions that can blow the stack\n",
    "(declare hat)\n",
    "(defn cat [n]\n",
    "    (when-not (zero? n)\n",
    "        (when (zero? (rem n 100))\n",
    "            (println \"cat:\" n))\n",
    "        (hat (dec n)))) ; Calling hat\n",
    "\n",
    "(defn hat [n]\n",
    "    (when-not (zero? n)\n",
    "        (if (zero? (rem n 100))\n",
    "            (println \"hat:\" n))\n",
    "        (cat (dec n)))) ; Calling cat\n",
    "\n",
    "; (cat 5000000) ; This will throw StackOverflowError\n",
    "(cat 500)"
   ]
  },
  {
   "cell_type": "code",
   "execution_count": 145,
   "metadata": {},
   "outputs": [
    {
     "name": "stdout",
     "output_type": "stream",
     "text": [
      "catt: 500\n",
      "catt: 400\n",
      "catt: 300\n",
      "catt: 200\n",
      "catt: 100\n"
     ]
    },
    {
     "data": {
      "text/plain": [
       "nil"
      ]
     },
     "execution_count": 145,
     "metadata": {},
     "output_type": "execute_result"
    }
   ],
   "source": [
    "; Calling mutually recursive functions with the trampoline function\n",
    "\n",
    "(declare hatt)\n",
    "(defn catt [n]\n",
    "    (when-not (zero? n)\n",
    "        (when (zero? (rem n 100))\n",
    "            (println \"catt:\" n))\n",
    "        (fn [] (hatt (dec n)))))\n",
    "\n",
    "(defn hatt [n]\n",
    "    (when-not (zero? n)\n",
    "        (when (zero? (rem n 100))\n",
    "            (println \"hatt:\" n))\n",
    "        (fn [] (catt (dec n)))))\n",
    "\n",
    "; (trampoline catt 5000000) ; This won't throw StackOverflowError, but will kill the jupyter kernel. Try it at the REPL\n",
    "(trampoline catt 500)\n"
   ]
  },
  {
   "cell_type": "code",
   "execution_count": 146,
   "metadata": {},
   "outputs": [
    {
     "data": {
      "text/plain": [
       "#'user/trampoline"
      ]
     },
     "execution_count": 146,
     "metadata": {},
     "output_type": "execute_result"
    }
   ],
   "source": [
    "; Internal workings of the trampoline function\n",
    "(defn trampoline\n",
    "    ([f]\n",
    "        (let [ret (f)]\n",
    "            (if (fn? ret) ; fn? means 'Is my argument a function?'\n",
    "                (recur ret)\n",
    "            ret)))\n",
    "    ([f & args]\n",
    "    (trampoline (fn [] (apply f args)))))"
   ]
  },
  {
   "cell_type": "markdown",
   "metadata": {},
   "source": [
    "Calling functions"
   ]
  },
  {
   "cell_type": "code",
   "execution_count": 147,
   "metadata": {},
   "outputs": [
    {
     "data": {
      "text/plain": [
       "15"
      ]
     },
     "execution_count": 147,
     "metadata": {},
     "output_type": "execute_result"
    }
   ],
   "source": [
    "; Standard function call\n",
    "(+ 1 2 3 4 5)"
   ]
  },
  {
   "cell_type": "code",
   "execution_count": 148,
   "metadata": {},
   "outputs": [
    {
     "data": {
      "text/plain": [
       "199.75M"
      ]
     },
     "execution_count": 148,
     "metadata": {},
     "output_type": "execute_result"
    }
   ],
   "source": [
    "; Applying a function to a sequence of args with apply\n",
    "\n",
    "(def list-of-expenses [39.95M 39.95M 39.95M 39.95M 39.95M]) \n",
    "(apply + list-of-expenses) \n"
   ]
  },
  {
   "cell_type": "markdown",
   "metadata": {},
   "source": [
    "### Higher order functions"
   ]
  },
  {
   "cell_type": "markdown",
   "metadata": {},
   "source": [
    "every?"
   ]
  },
  {
   "cell_type": "code",
   "execution_count": 149,
   "metadata": {},
   "outputs": [
    {
     "data": {
      "text/plain": [
       "false"
      ]
     },
     "execution_count": 149,
     "metadata": {},
     "output_type": "execute_result"
    }
   ],
   "source": [
    ";Checking if all sequence elements evaluate to True with every?\n",
    "\n",
    "(def bools [true true true false false])\n",
    "(every? true? bools) "
   ]
  },
  {
   "cell_type": "markdown",
   "metadata": {},
   "source": [
    "some"
   ]
  },
  {
   "cell_type": "code",
   "execution_count": 150,
   "metadata": {},
   "outputs": [
    {
     "data": {
      "text/plain": [
       "true"
      ]
     },
     "execution_count": 150,
     "metadata": {},
     "output_type": "execute_result"
    }
   ],
   "source": [
    ";Checking if at least 1 sequence element evaluates to True with some\n",
    "\n",
    "(def bools [true true true false false])\n",
    "(some true? bools) \n"
   ]
  },
  {
   "cell_type": "markdown",
   "metadata": {},
   "source": [
    "constantly"
   ]
  },
  {
   "cell_type": "code",
   "execution_count": 151,
   "metadata": {},
   "outputs": [
    {
     "data": {
      "text/plain": [
       "#'user/two"
      ]
     },
     "execution_count": 151,
     "metadata": {},
     "output_type": "execute_result"
    }
   ],
   "source": [
    "; Returning a fixed constant with constantly\n",
    "\n",
    "(def two (constantly 2)) ; same as (defn two [& more] 2)"
   ]
  },
  {
   "cell_type": "code",
   "execution_count": 152,
   "metadata": {},
   "outputs": [
    {
     "data": {
      "text/plain": [
       "2"
      ]
     },
     "execution_count": 152,
     "metadata": {},
     "output_type": "execute_result"
    }
   ],
   "source": [
    "(two 1)"
   ]
  },
  {
   "cell_type": "code",
   "execution_count": 153,
   "metadata": {},
   "outputs": [
    {
     "data": {
      "text/plain": [
       "2"
      ]
     },
     "execution_count": 153,
     "metadata": {},
     "output_type": "execute_result"
    }
   ],
   "source": [
    "(two :a :b :c)\n"
   ]
  },
  {
   "cell_type": "markdown",
   "metadata": {},
   "source": [
    "complement"
   ]
  },
  {
   "cell_type": "code",
   "execution_count": 154,
   "metadata": {},
   "outputs": [
    {
     "data": {
      "text/plain": [
       "true"
      ]
     },
     "execution_count": 154,
     "metadata": {},
     "output_type": "execute_result"
    }
   ],
   "source": [
    "; A function that ckecks is the 1st arg is greater than teh 2nd\n",
    "(defn greater? [x y]\n",
    "    (> x y))\n",
    "\n",
    "(greater? 10 5)"
   ]
  },
  {
   "cell_type": "code",
   "execution_count": 155,
   "metadata": {},
   "outputs": [
    {
     "data": {
      "text/plain": [
       "true"
      ]
     },
     "execution_count": 155,
     "metadata": {},
     "output_type": "execute_result"
    }
   ],
   "source": [
    "; Taking the original function and returning the logically opposite value with complement\n",
    "(def smaller? (complement greater?))\n",
    "\n",
    "(smaller? 5 10)"
   ]
  },
  {
   "cell_type": "markdown",
   "metadata": {},
   "source": [
    "comp"
   ]
  },
  {
   "cell_type": "code",
   "execution_count": 156,
   "metadata": {},
   "outputs": [
    {
     "data": {
      "text/plain": [
       "\"true\""
      ]
     },
     "execution_count": 156,
     "metadata": {},
     "output_type": "execute_result"
    }
   ],
   "source": [
    "; Composing functions with comp\n",
    "\n",
    "(def opp-zero-str (comp str not zero?)) ; Checks if the argument is nonzero\n",
    "\n",
    "(opp-zero-str 1)"
   ]
  },
  {
   "cell_type": "markdown",
   "metadata": {},
   "source": [
    "partial"
   ]
  },
  {
   "cell_type": "code",
   "execution_count": 157,
   "metadata": {},
   "outputs": [
    {
     "data": {
      "text/plain": [
       "#'user/above-threshold?"
      ]
     },
     "execution_count": 157,
     "metadata": {},
     "output_type": "execute_result"
    }
   ],
   "source": [
    "; A function that checks if some number is above a threshold\n",
    "(defn above-threshold? [threshold number]\n",
    "    (> number threshold))\n"
   ]
  },
  {
   "cell_type": "code",
   "execution_count": 158,
   "metadata": {},
   "outputs": [
    {
     "data": {
      "text/plain": [
       "(6 7 8 9)"
      ]
     },
     "execution_count": 158,
     "metadata": {},
     "output_type": "execute_result"
    }
   ],
   "source": [
    "; Partially applying the above-threshold? function with threshold 5, \n",
    "; Then using it to filter a sequence\n",
    "\n",
    "(filter (partial above-threshold? 5) [ 1 2 3 4 5 6 7 8 9])"
   ]
  },
  {
   "cell_type": "markdown",
   "metadata": {},
   "source": [
    "memoize"
   ]
  },
  {
   "cell_type": "code",
   "execution_count": 159,
   "metadata": {},
   "outputs": [
    {
     "name": "stdout",
     "output_type": "stream",
     "text": [
      "\"Elapsed time: 1000.9461 msecs\"\n"
     ]
    },
    {
     "data": {
      "text/plain": [
       "35"
      ]
     },
     "execution_count": 159,
     "metadata": {},
     "output_type": "execute_result"
    }
   ],
   "source": [
    "; Calling an artificially slow function (sleeps 1s before computing the result)\n",
    "(defn slow-calc [n m]\n",
    "    (Thread/sleep 1000)\n",
    "    (* n m))\n",
    "\n",
    "(time (slow-calc 5 7))\n"
   ]
  },
  {
   "cell_type": "code",
   "execution_count": 160,
   "metadata": {},
   "outputs": [
    {
     "data": {
      "text/plain": [
       "#'user/fast-calc"
      ]
     },
     "execution_count": 160,
     "metadata": {},
     "output_type": "execute_result"
    }
   ],
   "source": [
    "; Creating a new function that uses the memoize function to cache past computations\n",
    "\n",
    "(def fast-calc (memoize slow-calc))"
   ]
  },
  {
   "cell_type": "code",
   "execution_count": 161,
   "metadata": {},
   "outputs": [
    {
     "name": "stdout",
     "output_type": "stream",
     "text": [
      "\"Elapsed time: 1000.5854 msecs\"\n"
     ]
    },
    {
     "data": {
      "text/plain": [
       "35"
      ]
     },
     "execution_count": 161,
     "metadata": {},
     "output_type": "execute_result"
    }
   ],
   "source": [
    "; Calling it the 1st time (slow)\n",
    "\n",
    "(time (fast-calc 5 7))"
   ]
  },
  {
   "cell_type": "code",
   "execution_count": 162,
   "metadata": {},
   "outputs": [
    {
     "name": "stdout",
     "output_type": "stream",
     "text": [
      "\"Elapsed time: 0.18 msecs\"\n"
     ]
    },
    {
     "data": {
      "text/plain": [
       "35"
      ]
     },
     "execution_count": 162,
     "metadata": {},
     "output_type": "execute_result"
    }
   ],
   "source": [
    "; Calling it the 2nd time (fast)\n",
    "\n",
    "(time (fast-calc 5 7))"
   ]
  },
  {
   "cell_type": "markdown",
   "metadata": {},
   "source": [
    "Writing higher order functions"
   ]
  },
  {
   "cell_type": "code",
   "execution_count": 163,
   "metadata": {},
   "outputs": [
    {
     "data": {
      "text/plain": [
       "#'user/users"
      ]
     },
     "execution_count": 163,
     "metadata": {},
     "output_type": "execute_result"
    }
   ],
   "source": [
    "; A mapping that will be sorted in various ways\n",
    "\n",
    "(def users \n",
    "    [{:username \"kyle\"\n",
    "      :firstname \"Kyle\"\n",
    "      :lastname \"Smith\"\n",
    "      :balance 175.00M ; Use BigDecimals for money!\n",
    "      :member-since \"2009-04-16\"}\n",
    "     {:username \"zak\"\n",
    "      :firstname \"Zackary\"\n",
    "      :lastname \"Jones\"\n",
    "      :balance 12.95M\n",
    "      :member-since \"2009-02-01\"}\n",
    "     {:username \"rob\"\n",
    "      :firstname \"Robert\"\n",
    "      :lastname \"Jones\"\n",
    "      :balance 98.50M\n",
    "      :member-since \"2009-03-30\"}])\n"
   ]
  },
  {
   "cell_type": "code",
   "execution_count": 164,
   "metadata": {},
   "outputs": [
    {
     "data": {
      "text/plain": [
       "({:username \"kyle\", :firstname \"Kyle\", :lastname \"Smith\", :balance 175.00M, :member-since \"2009-04-16\"} {:username \"rob\", :firstname \"Robert\", :lastname \"Jones\", :balance 98.50M, :member-since \"2009-03-30\"} {:username \"zak\", :firstname \"Zackary\", :lastname \"Jones\", :balance 12.95M, :member-since \"2009-02-01\"})"
      ]
     },
     "execution_count": 164,
     "metadata": {},
     "output_type": "execute_result"
    }
   ],
   "source": [
    "; Sort all the sequence by the user key\n",
    "\n",
    "(sort-by :username users)"
   ]
  },
  {
   "cell_type": "code",
   "execution_count": 165,
   "metadata": {},
   "outputs": [
    {
     "data": {
      "text/plain": [
       "#'user/sorter-using"
      ]
     },
     "execution_count": 165,
     "metadata": {},
     "output_type": "execute_result"
    }
   ],
   "source": [
    ";A HOF that sorts a sequence by an arbitrary key\n",
    "\n",
    "(defn sorter-using [ordering-fn]\n",
    "    (fn [collection]\n",
    "        (sort-by ordering-fn collection)))\n"
   ]
  },
  {
   "cell_type": "code",
   "execution_count": 166,
   "metadata": {},
   "outputs": [
    {
     "data": {
      "text/plain": [
       "#'user/lastname-firstname"
      ]
     },
     "execution_count": 166,
     "metadata": {},
     "output_type": "execute_result"
    }
   ],
   "source": [
    "; A function that selects the lastname and firstname as keys\n",
    "\n",
    "(defn lastname-firstname [user]\n",
    "    [(user :lastname) (user :firstname)])"
   ]
  },
  {
   "cell_type": "code",
   "execution_count": 167,
   "metadata": {},
   "outputs": [
    {
     "data": {
      "text/plain": [
       "#'user/balance"
      ]
     },
     "execution_count": 167,
     "metadata": {},
     "output_type": "execute_result"
    }
   ],
   "source": [
    "; A function that selects the balance as key\n",
    "\n",
    "(defn balance [user] \n",
    "    (user :balance))"
   ]
  },
  {
   "cell_type": "code",
   "execution_count": 168,
   "metadata": {},
   "outputs": [
    {
     "data": {
      "text/plain": [
       "#'user/username"
      ]
     },
     "execution_count": 168,
     "metadata": {},
     "output_type": "execute_result"
    }
   ],
   "source": [
    "; A function that selects the username as key\n",
    "\n",
    "(defn username [user] \n",
    "    (user :username))"
   ]
  },
  {
   "cell_type": "code",
   "execution_count": 169,
   "metadata": {},
   "outputs": [
    {
     "data": {
      "text/plain": [
       "({:username \"zak\", :firstname \"Zackary\", :lastname \"Jones\", :balance 12.95M, :member-since \"2009-02-01\"} {:username \"rob\", :firstname \"Robert\", :lastname \"Jones\", :balance 98.50M, :member-since \"2009-03-30\"} {:username \"kyle\", :firstname \"Kyle\", :lastname \"Smith\", :balance 175.00M, :member-since \"2009-04-16\"})"
      ]
     },
     "execution_count": 169,
     "metadata": {},
     "output_type": "execute_result"
    }
   ],
   "source": [
    "; Using the sorter HOF and the balance key function\n",
    "; to get the users sorted by balance\n",
    "\n",
    "(def poorest-first \n",
    "    (sorter-using balance))\n",
    "\n",
    "(poorest-first users)"
   ]
  },
  {
   "cell_type": "code",
   "execution_count": 170,
   "metadata": {},
   "outputs": [
    {
     "data": {
      "text/plain": [
       "({:username \"kyle\", :firstname \"Kyle\", :lastname \"Smith\", :balance 175.00M, :member-since \"2009-04-16\"} {:username \"rob\", :firstname \"Robert\", :lastname \"Jones\", :balance 98.50M, :member-since \"2009-03-30\"} {:username \"zak\", :firstname \"Zackary\", :lastname \"Jones\", :balance 12.95M, :member-since \"2009-02-01\"})"
      ]
     },
     "execution_count": 170,
     "metadata": {},
     "output_type": "execute_result"
    }
   ],
   "source": [
    "; Using the sorter HOF and the username key function\n",
    "; to get the users sorted by name\n",
    "\n",
    "(def alphabetically \n",
    "    (sorter-using username))\n",
    "\n",
    "(alphabetically users)"
   ]
  },
  {
   "cell_type": "code",
   "execution_count": 171,
   "metadata": {},
   "outputs": [
    {
     "data": {
      "text/plain": [
       "({:username \"rob\", :firstname \"Robert\", :lastname \"Jones\", :balance 98.50M, :member-since \"2009-03-30\"} {:username \"zak\", :firstname \"Zackary\", :lastname \"Jones\", :balance 12.95M, :member-since \"2009-02-01\"} {:username \"kyle\", :firstname \"Kyle\", :lastname \"Smith\", :balance 175.00M, :member-since \"2009-04-16\"})"
      ]
     },
     "execution_count": 171,
     "metadata": {},
     "output_type": "execute_result"
    }
   ],
   "source": [
    "; Using the sorter HOF and the lastname-firstname key function\n",
    "; to get the users sorted by last name\n",
    "\n",
    "(def last-then-firstname \n",
    "    (sorter-using lastname-firstname))\n",
    "\n",
    "(last-then-firstname users)"
   ]
  },
  {
   "cell_type": "code",
   "execution_count": 172,
   "metadata": {},
   "outputs": [
    {
     "data": {
      "text/plain": [
       "([\"Jones\" \"Robert\"] [\"Jones\" \"Zackary\"] [\"Smith\" \"Kyle\"])"
      ]
     },
     "execution_count": 172,
     "metadata": {},
     "output_type": "execute_result"
    }
   ],
   "source": [
    "; The last function sorts like the following functions\n",
    "\n",
    "(sort (map lastname-firstname users))"
   ]
  },
  {
   "cell_type": "markdown",
   "metadata": {},
   "source": [
    "### Anonymous functions"
   ]
  },
  {
   "cell_type": "code",
   "execution_count": 173,
   "metadata": {},
   "outputs": [
    {
     "data": {
      "text/plain": [
       "#function[user/eval4476/fn--4477]"
      ]
     },
     "execution_count": 173,
     "metadata": {},
     "output_type": "execute_result"
    }
   ],
   "source": [
    "; Creating an anonymous function with the fn macro\n",
    "\n",
    "(fn [item-cost number-of-items]\n",
    "    (* item-cost number-of-items))"
   ]
  },
  {
   "cell_type": "code",
   "execution_count": 174,
   "metadata": {},
   "outputs": [
    {
     "data": {
      "text/plain": [
       "(\"2009-04-16\" \"2009-02-01\" \"2009-03-30\")"
      ]
     },
     "execution_count": 174,
     "metadata": {},
     "output_type": "execute_result"
    }
   ],
   "source": [
    "; Using map with an anonymous function to get the join date of users\n",
    "\n",
    "(map (fn [user] (user :member-since)) users)"
   ]
  },
  {
   "cell_type": "code",
   "execution_count": 175,
   "metadata": {},
   "outputs": [
    {
     "data": {
      "text/plain": [
       "(\"2009-04-16\" \"2009-02-01\" \"2009-03-30\")"
      ]
     },
     "execution_count": 175,
     "metadata": {},
     "output_type": "execute_result"
    }
   ],
   "source": [
    "; Using the # reader macro as a shortcut for anonymous functions\n",
    "\n",
    "(map #(% :member-since) users) ; The anonymous function is #(% :member-since)\n"
   ]
  },
  {
   "cell_type": "markdown",
   "metadata": {},
   "source": [
    "Applying anonymous functions to sequences of variable length\n"
   ]
  },
  {
   "cell_type": "code",
   "execution_count": 176,
   "metadata": {},
   "outputs": [
    {
     "data": {
      "text/plain": [
       "[(1 2 3 4 5)]"
      ]
     },
     "execution_count": 176,
     "metadata": {},
     "output_type": "execute_result"
    }
   ],
   "source": [
    "(#(vector %&) 1 2 3 4 5)"
   ]
  },
  {
   "cell_type": "code",
   "execution_count": 177,
   "metadata": {},
   "outputs": [
    {
     "data": {
      "text/plain": [
       "[1 (2 3 4 5)]"
      ]
     },
     "execution_count": 177,
     "metadata": {},
     "output_type": "execute_result"
    }
   ],
   "source": [
    "(#(vector %1 %&) 1 2 3 4 5)"
   ]
  },
  {
   "cell_type": "code",
   "execution_count": 178,
   "metadata": {},
   "outputs": [
    {
     "data": {
      "text/plain": [
       "[1 2 (3 4 5)]"
      ]
     },
     "execution_count": 178,
     "metadata": {},
     "output_type": "execute_result"
    }
   ],
   "source": [
    "(#(vector %1 %2 %&) 1 2 3 4 5)"
   ]
  },
  {
   "cell_type": "code",
   "execution_count": 179,
   "metadata": {},
   "outputs": [
    {
     "data": {
      "text/plain": [
       "[1 2 nil]"
      ]
     },
     "execution_count": 179,
     "metadata": {},
     "output_type": "execute_result"
    }
   ],
   "source": [
    "(#(vector %1 %2 %&) 1 2)"
   ]
  },
  {
   "cell_type": "markdown",
   "metadata": {},
   "source": [
    "### Keywords"
   ]
  },
  {
   "cell_type": "code",
   "execution_count": 180,
   "metadata": {},
   "outputs": [
    {
     "data": {
      "text/plain": [
       "#'user/person"
      ]
     },
     "execution_count": 180,
     "metadata": {},
     "output_type": "execute_result"
    }
   ],
   "source": [
    "; Using keywords in maps\n",
    "\n",
    "(def person {:username \"zak\"\n",
    "             :balance 12.95\n",
    "             :member-since \"2009-02-01\"})\n"
   ]
  },
  {
   "cell_type": "code",
   "execution_count": 181,
   "metadata": {},
   "outputs": [
    {
     "data": {
      "text/plain": [
       "\"zak\""
      ]
     },
     "execution_count": 181,
     "metadata": {},
     "output_type": "execute_result"
    }
   ],
   "source": [
    "; Finding the value associated to the username key\n",
    "\n",
    "(person :username)\n"
   ]
  },
  {
   "cell_type": "code",
   "execution_count": 182,
   "metadata": {},
   "outputs": [
    {
     "data": {
      "text/plain": [
       "\"zak\""
      ]
     },
     "execution_count": 182,
     "metadata": {},
     "output_type": "execute_result"
    }
   ],
   "source": [
    "; Finding the value associated to the username key - alternative syntax\n",
    "\n",
    "(:username person)\n"
   ]
  },
  {
   "cell_type": "code",
   "execution_count": 183,
   "metadata": {},
   "outputs": [
    {
     "data": {
      "text/plain": [
       "(\"2009-04-16\" \"2009-02-01\" \"2009-03-30\")"
      ]
     },
     "execution_count": 183,
     "metadata": {},
     "output_type": "execute_result"
    }
   ],
   "source": [
    "; An anonymous function used in the last section\n",
    "\n",
    "(map #(% :member-since) users)\n"
   ]
  },
  {
   "cell_type": "code",
   "execution_count": 184,
   "metadata": {},
   "outputs": [
    {
     "data": {
      "text/plain": [
       "(\"2009-04-16\" \"2009-02-01\" \"2009-03-30\")"
      ]
     },
     "execution_count": 184,
     "metadata": {},
     "output_type": "execute_result"
    }
   ],
   "source": [
    "; Rewriting the last function using the keyword as function\n",
    "\n",
    "(map :member-since users)"
   ]
  },
  {
   "cell_type": "code",
   "execution_count": 185,
   "metadata": {},
   "outputs": [
    {
     "data": {
      "text/plain": [
       "nil"
      ]
     },
     "execution_count": 185,
     "metadata": {},
     "output_type": "execute_result"
    }
   ],
   "source": [
    "; Looking up a non-existing key\n",
    "\n",
    "(:login person)"
   ]
  },
  {
   "cell_type": "code",
   "execution_count": 186,
   "metadata": {},
   "outputs": [
    {
     "data": {
      "text/plain": [
       ":not-found"
      ]
     },
     "execution_count": 186,
     "metadata": {},
     "output_type": "execute_result"
    }
   ],
   "source": [
    "; Setting up a default value in case of a non-existing key\n",
    "\n",
    "(:login person :not-found)\n"
   ]
  },
  {
   "cell_type": "markdown",
   "metadata": {},
   "source": [
    "### Symbols"
   ]
  },
  {
   "cell_type": "code",
   "execution_count": 187,
   "metadata": {},
   "outputs": [
    {
     "data": {
      "text/plain": [
       "#'user/expense"
      ]
     },
     "execution_count": 187,
     "metadata": {},
     "output_type": "execute_result"
    }
   ],
   "source": [
    "; Defining a map with symbol literals\n",
    "\n",
    "(def expense {'name \"Snow Leopard\" 'cost 29.95M})\n"
   ]
  },
  {
   "cell_type": "code",
   "execution_count": 188,
   "metadata": {},
   "outputs": [
    {
     "data": {
      "text/plain": [
       "\"Snow Leopard\""
      ]
     },
     "execution_count": 188,
     "metadata": {},
     "output_type": "execute_result"
    }
   ],
   "source": [
    "; Using a symbol to look up a value of a map\n",
    "(expense 'name)\n"
   ]
  },
  {
   "cell_type": "code",
   "execution_count": 189,
   "metadata": {},
   "outputs": [
    {
     "data": {
      "text/plain": [
       "\"Snow Leopard\""
      ]
     },
     "execution_count": 189,
     "metadata": {},
     "output_type": "execute_result"
    }
   ],
   "source": [
    "; Using a symbol to look up a value of a map - alternative syntax\n",
    "('name expense)"
   ]
  },
  {
   "cell_type": "code",
   "execution_count": 190,
   "metadata": {},
   "outputs": [
    {
     "data": {
      "text/plain": [
       ":absent"
      ]
     },
     "execution_count": 190,
     "metadata": {},
     "output_type": "execute_result"
    }
   ],
   "source": [
    "; All operations that can be done with keywords are also possible with symbols\n",
    "('vendor expense :absent)"
   ]
  },
  {
   "cell_type": "markdown",
   "metadata": {},
   "source": [
    "Vectors as functions of their indices"
   ]
  },
  {
   "cell_type": "code",
   "execution_count": 191,
   "metadata": {},
   "outputs": [
    {
     "data": {
      "text/plain": [
       "#'user/names"
      ]
     },
     "execution_count": 191,
     "metadata": {},
     "output_type": "execute_result"
    }
   ],
   "source": [
    "; A simple vector\n",
    "\n",
    "(def names [\"kyle\" \"zak\" \"rob\"])\n"
   ]
  },
  {
   "cell_type": "code",
   "execution_count": 192,
   "metadata": {},
   "outputs": [
    {
     "data": {
      "text/plain": [
       "\"zak\""
      ]
     },
     "execution_count": 192,
     "metadata": {},
     "output_type": "execute_result"
    }
   ],
   "source": [
    "; Looking up a vector item by its index\n",
    "\n",
    "(names 1)"
   ]
  },
  {
   "cell_type": "code",
   "execution_count": 193,
   "metadata": {},
   "outputs": [
    {
     "name": "stderr",
     "output_type": "stream",
     "text": [
      "Execution error (IndexOutOfBoundsException) at user/eval4548 (REPL:3).\n",
      "null\n"
     ]
    },
    {
     "ename": "class java.lang.IndexOutOfBoundsException",
     "evalue": "",
     "output_type": "error",
     "traceback": [
      " PersistentVector.java:   158 clojure.lang.PersistentVector/arrayFor",
      " PersistentVector.java:   162 clojure.lang.PersistentVector/nth",
      "APersistentVector.java:   293 clojure.lang.APersistentVector/invoke",
      "              core.clj:  3214 clojure.core$eval/invokeStatic",
      "              core.clj:  3210 clojure.core$eval/invoke",
      "              main.clj:   437 clojure.main$repl$read_eval_print__9086$fn__9089/invoke",
      "              main.clj:   458 clojure.main$repl$fn__9095/invoke",
      "              main.clj:   368 clojure.main$repl/doInvoke",
      "           RestFn.java:  1523 clojure.lang.RestFn/invoke",
      "              AFn.java:    22 clojure.lang.AFn/run  ",
      "              AFn.java:    22 clojure.lang.AFn/run  ",
      "           Thread.java:   745 java.lang.Thread/run  "
     ]
    }
   ],
   "source": [
    "; Looking up a vector item by an invalid index\n",
    "\n",
    "(names 10)\n"
   ]
  }
 ],
 "metadata": {
  "kernelspec": {
   "display_name": "Clojure (clojupyter=0.3.2=1)",
   "language": "clojure",
   "name": "python397jvsc74a57bd089a790bea3b9cadff6bf73491f7cf161e4e94bfc015afe6a535623fbe4142b79"
  },
  "language_info": {
   "file_extension": ".clj",
   "mimetype": "text/x-clojure",
   "name": "clojure",
   "version": "1.10.1"
  },
  "orig_nbformat": 4
 },
 "nbformat": 4,
 "nbformat_minor": 2
}
