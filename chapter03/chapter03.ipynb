{
 "cells": [
  {
   "cell_type": "markdown",
   "metadata": {},
   "source": [
    "# Building blocks of Clojure"
   ]
  },
  {
   "cell_type": "markdown",
   "metadata": {},
   "source": [
    "## Metadata"
   ]
  },
  {
   "cell_type": "code",
   "execution_count": null,
   "metadata": {},
   "outputs": [],
   "source": [
    "; Using the with-meta function to add metadata to a map\n",
    "(def untrusted (with-meta \n",
    "    {:command \"delete-table\" :subject \"users\"}\n",
    "    {:safe false :io true})) ; Metadata\n",
    "\n",
    "untrusted"
   ]
  },
  {
   "cell_type": "code",
   "execution_count": null,
   "metadata": {},
   "outputs": [],
   "source": [
    "; Using the '^' macro to add metadata to a map\n",
    "\n",
    "(def untrusted \n",
    "    ^{:safe false :io true} \n",
    "    {:command \"delete-table\" :subject \"users\"})\n",
    "\n",
    "untrusted"
   ]
  },
  {
   "cell_type": "code",
   "execution_count": null,
   "metadata": {},
   "outputs": [],
   "source": [
    "; If using the '^' macro with a list, \n",
    "; the metadata won't take effect at runtime\n",
    "\n",
    "(def untrusted-not-working \n",
    "    ^{:safe false :io true} \n",
    "    (hash-map :command \"delete-table\" :subject \"users\"))\n"
   ]
  },
  {
   "cell_type": "code",
   "execution_count": null,
   "metadata": {},
   "outputs": [],
   "source": [
    "; Metadata doesn't affect value equality\n",
    "\n",
    "(def trusted {:command \"delete-table\" :subject \"users\"}) \n",
    "(= trusted untrusted) "
   ]
  },
  {
   "cell_type": "code",
   "execution_count": null,
   "metadata": {},
   "outputs": [],
   "source": [
    "; Using the meta function to examine metadata\n",
    "(meta untrusted)\n"
   ]
  },
  {
   "cell_type": "code",
   "execution_count": null,
   "metadata": {},
   "outputs": [],
   "source": [
    "; When new values are created from those that have metadata, \n",
    "; the metadata is copied over to the new data\n",
    "\n",
    "(def still-untrusted (assoc untrusted :complete? false))\n",
    "(meta still-untrusted)\n"
   ]
  },
  {
   "cell_type": "code",
   "execution_count": null,
   "metadata": {},
   "outputs": [],
   "source": [
    "; Functions and macros can also be defined with metadata\n",
    "\n",
    "(defn ^{:safe true \n",
    "        :console true\n",
    "        :doc \"testing metadata for functions\"} \n",
    "    testing-meta\n",
    "    [] \n",
    "    (println \"Hello from meta!\"))\n"
   ]
  },
  {
   "cell_type": "code",
   "execution_count": null,
   "metadata": {},
   "outputs": [],
   "source": [
    "; Trying to use the meta function directly to check that \n",
    "; the metadata was set correctly won't work\n",
    "\n",
    "(meta testing-meta)"
   ]
  },
  {
   "cell_type": "code",
   "execution_count": null,
   "metadata": {},
   "outputs": [],
   "source": [
    "; To access the metadata,  pass the testing-meta var to the meta function.\n",
    "(meta (var testing-meta))"
   ]
  },
  {
   "cell_type": "markdown",
   "metadata": {},
   "source": [
    "Defining a function without Java type hints"
   ]
  },
  {
   "cell_type": "code",
   "execution_count": null,
   "metadata": {},
   "outputs": [],
   "source": [
    "; Setting a warning to alert when \"Reflection\" is used\n",
    "(set! *warn-on-reflection* true) \n",
    "\n",
    "(defn string-length [x] (.length x))\n"
   ]
  },
  {
   "cell_type": "code",
   "execution_count": null,
   "metadata": {},
   "outputs": [],
   "source": [
    "; Function call without type hints (slow)\n",
    "\n",
    "(time (reduce + (map string-length (repeat 10000 \"12345\"))))"
   ]
  },
  {
   "cell_type": "markdown",
   "metadata": {},
   "source": [
    "Defining a function with Java type hints"
   ]
  },
  {
   "cell_type": "code",
   "execution_count": null,
   "metadata": {},
   "outputs": [],
   "source": [
    "(defn fast-string-length [^String x] (.length x)) \n"
   ]
  },
  {
   "cell_type": "code",
   "execution_count": null,
   "metadata": {},
   "outputs": [],
   "source": [
    "; Function call with type hints (fast)\n",
    "\n",
    "(time (reduce + (map fast-string-length (repeat 10000 \"12345\"))))"
   ]
  },
  {
   "cell_type": "code",
   "execution_count": null,
   "metadata": {},
   "outputs": [],
   "source": [
    "; The type hints of args is stored as metadata\n",
    "\n",
    "(meta (first (first (:arglists (meta #'fast-string-length))))) \n"
   ]
  },
  {
   "cell_type": "markdown",
   "metadata": {},
   "source": [
    "Type hinting primitive types"
   ]
  },
  {
   "cell_type": "code",
   "execution_count": null,
   "metadata": {},
   "outputs": [],
   "source": [
    "; Getting the Java Class name of BigDecimal\n",
    "\n",
    "(defn array-type [klass]\n",
    "    (.getName (class (make-array klass 0)))) \n",
    "\n",
    "(array-type BigDecimal)"
   ]
  },
  {
   "cell_type": "code",
   "execution_count": null,
   "metadata": {},
   "outputs": [],
   "source": [
    "; Using the name \"[Ljava.math.BigDecimal;\" as type hint\n",
    "\n",
    "(def bigdec-arr \n",
    "    ^\"[Ljava.math.BigDecimal;\" \n",
    "    (into-array BigDecimal [1.0M]))\n"
   ]
  },
  {
   "cell_type": "markdown",
   "metadata": {},
   "source": [
    "## Java exceptions: try and throw\n"
   ]
  },
  {
   "cell_type": "code",
   "execution_count": null,
   "metadata": {},
   "outputs": [],
   "source": [
    "; A function that calculates the average of a collection of numbers\n",
    "\n",
    "(defn average [numbers]\n",
    "    (let [total (apply + numbers)]\n",
    "        (/ total (count numbers))))"
   ]
  },
  {
   "cell_type": "code",
   "execution_count": null,
   "metadata": {},
   "outputs": [],
   "source": [
    "; Calling the average function with an empty sequence throws an exception\n",
    "\n",
    "(average [])"
   ]
  },
  {
   "cell_type": "code",
   "execution_count": null,
   "metadata": {},
   "outputs": [],
   "source": [
    "; Wrapping the last function with a try/catch expression\n",
    "\n",
    "(defn safe-average [numbers]\n",
    "    (let [total (apply + numbers)]\n",
    "        (try\n",
    "            (/ total (count numbers))\n",
    "        (catch ArithmeticException e \n",
    "            (println \"Divided by zero!\")\n",
    "        0))))\n",
    "\n",
    "(safe-average [])"
   ]
  },
  {
   "cell_type": "code",
   "execution_count": null,
   "metadata": {},
   "outputs": [],
   "source": [
    "; The general form of using try/catch/finally is straightforward:\n",
    "\n",
    "\"\"\"\n",
    "(try expr* catch-clause* finally-clause?)\n",
    "\"\"\""
   ]
  },
  {
   "cell_type": "code",
   "execution_count": null,
   "metadata": {},
   "outputs": [],
   "source": [
    "; Using several catch and a finally clauses\n",
    "\n",
    "(try\n",
    "    (print \"Attempting division... \")\n",
    "    (/ 1 0)\n",
    "(catch RuntimeException e \"Runtime exception!\") \n",
    "(catch ArithmeticException e \"DIVIDE BY ZERO!\")  \n",
    "(catch Throwable e \"Unknown exception encountered!\") \n",
    "(finally \n",
    "    (println \"done.\")))\n"
   ]
  },
  {
   "cell_type": "code",
   "execution_count": null,
   "metadata": {},
   "outputs": [],
   "source": [
    "; The finally clause can be used without catch clauses\n",
    "(try\n",
    "    (print \"Attempting division... \")\n",
    "    (/ 1 0)\n",
    "(finally\n",
    "    (println \"done.\")))\n"
   ]
  },
  {
   "cell_type": "code",
   "execution_count": null,
   "metadata": {},
   "outputs": [],
   "source": [
    "; Throwing exceptions\n",
    "(throw (Exception. \"this is an error!\"))"
   ]
  },
  {
   "cell_type": "markdown",
   "metadata": {},
   "source": [
    "## Functions"
   ]
  },
  {
   "cell_type": "markdown",
   "metadata": {},
   "source": [
    "Function definitions"
   ]
  },
  {
   "cell_type": "code",
   "execution_count": null,
   "metadata": {},
   "outputs": [],
   "source": [
    "(use '[clojure.repl :only (doc)])"
   ]
  },
  {
   "cell_type": "code",
   "execution_count": null,
   "metadata": {},
   "outputs": [],
   "source": [
    "; Syntax of the defn macro\n",
    "\"\"\"\n",
    "(defn function-name\n",
    "    doc-string?\n",
    "    metadata-map?\n",
    "    [parameter-list*]\n",
    "    conditions-map?\n",
    "    body-expressions*) \n",
    "\"\"\""
   ]
  },
  {
   "cell_type": "code",
   "execution_count": null,
   "metadata": {},
   "outputs": [],
   "source": [
    "; A basic function definition\n",
    "\n",
    "(defn total-cost [item-cost number-of-items]\n",
    "    (* item-cost number-of-items))"
   ]
  },
  {
   "cell_type": "code",
   "execution_count": null,
   "metadata": {},
   "outputs": [],
   "source": [
    "; The defn macro expands the last function definition as follows\n",
    "\n",
    "(def total-cost (fn [item-cost number-of-items]\n",
    "    (* item-cost number-of-items)))\n"
   ]
  },
  {
   "cell_type": "code",
   "execution_count": null,
   "metadata": {},
   "outputs": [],
   "source": [
    "; Adding docstring at function definition\n",
    "(defn total-cost \n",
    "    \"return line-item total of the item and quantity provided\" \n",
    "    [item-cost number-of-items]\n",
    "    (* item-cost number-of-items))\n",
    "\n",
    "(doc total-cost)"
   ]
  },
  {
   "cell_type": "markdown",
   "metadata": {},
   "source": [
    "Adding metadata to functions"
   ]
  },
  {
   "cell_type": "code",
   "execution_count": null,
   "metadata": {},
   "outputs": [],
   "source": [
    "; Adding metadata without using ^\n",
    "(meta (defn myfn-attr-map {:a 1} [])) "
   ]
  },
  {
   "cell_type": "code",
   "execution_count": null,
   "metadata": {},
   "outputs": [],
   "source": [
    "; Adding metadata with ^\n",
    "(meta (defn ^{:a 1} myfn-metadata []))"
   ]
  },
  {
   "cell_type": "code",
   "execution_count": null,
   "metadata": {},
   "outputs": [],
   "source": [
    "; When adding duplicate metadata, the last version is used\n",
    "(meta (defn ^{:a 1} myfn-both {:a 2 :b 3} [])) "
   ]
  },
  {
   "cell_type": "code",
   "execution_count": null,
   "metadata": {},
   "outputs": [],
   "source": [
    "; When adding duplicate docstrings, the last version is used\n",
    "(meta (defn ^{:a 1 :doc \"doc 1\"} myfn-redundant-docs \"doc 2\" {:a 2 :b 3 :doc \"doc 3\"} [])) "
   ]
  },
  {
   "cell_type": "markdown",
   "metadata": {},
   "source": [
    "Adding conditional to functions"
   ]
  },
  {
   "cell_type": "code",
   "execution_count": null,
   "metadata": {},
   "outputs": [],
   "source": [
    "; Adding pre and post conditionals to functions\n",
    "(defn item-total [price quantity discount-percentage]\n",
    "    {:pre [(> price 0) (> quantity 0)]\n",
    "     :post [(> % 0)]}\n",
    "    (->> (/ discount-percentage 100)\n",
    "         (- 1)\n",
    "         (* price quantity)\n",
    "         float))\n"
   ]
  },
  {
   "cell_type": "code",
   "execution_count": null,
   "metadata": {},
   "outputs": [],
   "source": [
    "; Testing pre conditionals with a valid input\n",
    "(item-total 100 2 10)-"
   ]
  },
  {
   "cell_type": "code",
   "execution_count": null,
   "metadata": {},
   "outputs": [],
   "source": [
    "; Testing pre conditionals with an invalid input\n",
    "(item-total 100 -2 10)"
   ]
  },
  {
   "cell_type": "code",
   "execution_count": null,
   "metadata": {},
   "outputs": [],
   "source": [
    "; Testing the post conditional with an invalid input\n",
    "(item-total 100 2 110)\n"
   ]
  },
  {
   "cell_type": "markdown",
   "metadata": {},
   "source": [
    "Multiple 'arity' of functions"
   ]
  },
  {
   "cell_type": "code",
   "execution_count": null,
   "metadata": {},
   "outputs": [],
   "source": [
    "; The general form of overloaded functions is as follows\n",
    "\"\"\"\n",
    "(defn function-name \n",
    "    ;; Note that each argument+body pair is enclosed in a list.\n",
    "    ([arg1] body-executed-for-one-argument-call)\n",
    "    ([arg1 arg2] body-executed-for-two-argument-call)\n",
    "    ;; More cases may follow.)\n",
    "\"\"\""
   ]
  },
  {
   "cell_type": "code",
   "execution_count": null,
   "metadata": {},
   "outputs": [],
   "source": [
    "; Example of an overloaded function\n",
    "(defn total-cost \n",
    "    ([item-cost number-of-items]\n",
    "        (* item-cost number-of-items))\n",
    "    ([item-cost]\n",
    "        (total-cost item-cost 1))) ; Calling the 2-ary version from the 1-ary one\n"
   ]
  },
  {
   "cell_type": "markdown",
   "metadata": {},
   "source": [
    "Variadic functions"
   ]
  },
  {
   "cell_type": "code",
   "execution_count": null,
   "metadata": {},
   "outputs": [],
   "source": [
    "; The general form of variadic functions is as follows\n",
    "\"\"\"\n",
    "(defn name-of-variadic-function [param-1 param-2 & rest-args]\n",
    "    (body-of-function))\n",
    "\"\"\""
   ]
  },
  {
   "cell_type": "code",
   "execution_count": null,
   "metadata": {},
   "outputs": [],
   "source": [
    "; Using the & symbol to define a variadic function\n",
    "\n",
    "(defn total-all-numbers [& numbers]\n",
    "    (apply + numbers))"
   ]
  },
  {
   "cell_type": "code",
   "execution_count": null,
   "metadata": {},
   "outputs": [],
   "source": [
    "; A variadic function with other nonvariadic arities\n",
    "(defn many-arities\n",
    "    ([] 0)\n",
    "    ([a] 1)\n",
    "    ([a b c] 3)\n",
    "    ([a b c & more] \"variadic\"))\n"
   ]
  },
  {
   "cell_type": "code",
   "execution_count": null,
   "metadata": {},
   "outputs": [],
   "source": [
    "; >Testing it with 0 args\n",
    "(many-arities)"
   ]
  },
  {
   "cell_type": "code",
   "execution_count": null,
   "metadata": {},
   "outputs": [],
   "source": [
    "; Testing it with 1 arg\n",
    "(many-arities \"one argument\")"
   ]
  },
  {
   "cell_type": "code",
   "execution_count": null,
   "metadata": {},
   "outputs": [],
   "source": [
    "; Testing it with 2 args (this case is not defined)\n",
    "(many-arities \"two\" \"arguments\")"
   ]
  },
  {
   "cell_type": "code",
   "execution_count": null,
   "metadata": {},
   "outputs": [],
   "source": [
    "; Testing it with 3 args\n",
    "(many-arities \"three\" \"argu-\" \"ments\")"
   ]
  },
  {
   "cell_type": "code",
   "execution_count": null,
   "metadata": {},
   "outputs": [],
   "source": [
    "; Testing it with more than 3 args\n",
    "(many-arities \"many\" \"more\" \"argu-\" \"ments\")"
   ]
  },
  {
   "cell_type": "markdown",
   "metadata": {},
   "source": [
    "Self-Recursive functions"
   ]
  },
  {
   "cell_type": "code",
   "execution_count": null,
   "metadata": {},
   "outputs": [],
   "source": [
    "; A recursive function that will blow the stack with big args\n",
    "(defn count-down [n]\n",
    "    (when-not (zero? n)\n",
    "        (when (zero? (rem n 100)) \n",
    "            (println \"count-down:\" n))\n",
    "        (count-down (dec n)))) \n",
    "\n",
    ";(count-down 100000) ; This will throw StackOverflowError\n",
    "(count-down 500)"
   ]
  },
  {
   "cell_type": "code",
   "execution_count": null,
   "metadata": {},
   "outputs": [],
   "source": [
    "; Rewriting the last function with recur, which won't blow the stack\n",
    "(defn count-downr [n]\n",
    "    (when-not (zero? n)\n",
    "        (if (zero? (rem n 100))\n",
    "            (println \"count-down:\" n))\n",
    "        (recur (dec n))))\n",
    "\n",
    ";(count-downr 100000) ; This won't throw StackOverflowError, but will kill the jupyter kernel. Try it at the REPL\n",
    "(count-downr 500)\n"
   ]
  },
  {
   "cell_type": "markdown",
   "metadata": {},
   "source": [
    "Mutually recursive functions"
   ]
  },
  {
   "cell_type": "code",
   "execution_count": null,
   "metadata": {},
   "outputs": [],
   "source": [
    "; Mutually recursive functions that can blow the stack\n",
    "(declare hat)\n",
    "(defn cat [n]\n",
    "    (when-not (zero? n)\n",
    "        (when (zero? (rem n 100))\n",
    "            (println \"cat:\" n))\n",
    "        (hat (dec n)))) ; Calling hat\n",
    "\n",
    "(defn hat [n]\n",
    "    (when-not (zero? n)\n",
    "        (if (zero? (rem n 100))\n",
    "            (println \"hat:\" n))\n",
    "        (cat (dec n)))) ; Calling cat\n",
    "\n",
    "; (cat 5000000) ; This will throw StackOverflowError\n",
    "(cat 500)"
   ]
  },
  {
   "cell_type": "code",
   "execution_count": null,
   "metadata": {},
   "outputs": [],
   "source": [
    "; Calling mutually recursive functions with the trampoline function\n",
    "\n",
    "(declare hatt)\n",
    "(defn catt [n]\n",
    "    (when-not (zero? n)\n",
    "        (when (zero? (rem n 100))\n",
    "            (println \"catt:\" n))\n",
    "        (fn [] (hatt (dec n)))))\n",
    "\n",
    "(defn hatt [n]\n",
    "    (when-not (zero? n)\n",
    "        (when (zero? (rem n 100))\n",
    "            (println \"hatt:\" n))\n",
    "        (fn [] (catt (dec n)))))\n",
    "\n",
    "; (trampoline catt 5000000) ; This won't throw StackOverflowError, but will kill the jupyter kernel. Try it at the REPL\n",
    "(trampoline catt 500)\n"
   ]
  },
  {
   "cell_type": "code",
   "execution_count": null,
   "metadata": {},
   "outputs": [],
   "source": [
    "; Internal workings of the trampoline function\n",
    "(defn trampoline\n",
    "    ([f]\n",
    "        (let [ret (f)]\n",
    "            (if (fn? ret) ; fn? means 'Is my argument a function?'\n",
    "                (recur ret)\n",
    "            ret)))\n",
    "    ([f & args]\n",
    "    (trampoline (fn [] (apply f args)))))"
   ]
  },
  {
   "cell_type": "markdown",
   "metadata": {},
   "source": [
    "Calling functions"
   ]
  },
  {
   "cell_type": "code",
   "execution_count": null,
   "metadata": {},
   "outputs": [],
   "source": [
    "; Standard function call\n",
    "(+ 1 2 3 4 5)"
   ]
  },
  {
   "cell_type": "code",
   "execution_count": null,
   "metadata": {},
   "outputs": [],
   "source": [
    "; Applying a function to a sequence of args with apply\n",
    "\n",
    "(def list-of-expenses [39.95M 39.95M 39.95M 39.95M 39.95M]) \n",
    "(apply + list-of-expenses) \n"
   ]
  },
  {
   "cell_type": "markdown",
   "metadata": {},
   "source": [
    "Higher order functions"
   ]
  },
  {
   "cell_type": "markdown",
   "metadata": {},
   "source": [
    "every?"
   ]
  },
  {
   "cell_type": "code",
   "execution_count": null,
   "metadata": {},
   "outputs": [],
   "source": [
    ";Checking if all sequence elements evaluate to True with every?\n",
    "\n",
    "(def bools [true true true false false])\n",
    "(every? true? bools) "
   ]
  },
  {
   "cell_type": "markdown",
   "metadata": {},
   "source": [
    "some"
   ]
  },
  {
   "cell_type": "code",
   "execution_count": null,
   "metadata": {},
   "outputs": [],
   "source": [
    ";Checking if at least 1 sequence element evaluates to True with some\n",
    "\n",
    "(def bools [true true true false false])\n",
    "(some true? bools) \n"
   ]
  },
  {
   "cell_type": "markdown",
   "metadata": {},
   "source": [
    "constantly"
   ]
  },
  {
   "cell_type": "code",
   "execution_count": null,
   "metadata": {},
   "outputs": [],
   "source": [
    "; Returning a fixed constant with constantly\n",
    "\n",
    "(def two (constantly 2)) ; same as (defn two [& more] 2)"
   ]
  },
  {
   "cell_type": "code",
   "execution_count": null,
   "metadata": {},
   "outputs": [],
   "source": [
    "(two 1)"
   ]
  },
  {
   "cell_type": "code",
   "execution_count": null,
   "metadata": {},
   "outputs": [],
   "source": [
    "(two :a :b :c)\n"
   ]
  },
  {
   "cell_type": "markdown",
   "metadata": {},
   "source": [
    "complement"
   ]
  },
  {
   "cell_type": "code",
   "execution_count": null,
   "metadata": {},
   "outputs": [],
   "source": [
    "; A function that ckecks is the 1st arg is greater than teh 2nd\n",
    "(defn greater? [x y]\n",
    "    (> x y))\n",
    "\n",
    "(greater? 10 5)"
   ]
  },
  {
   "cell_type": "code",
   "execution_count": null,
   "metadata": {},
   "outputs": [],
   "source": [
    "; Taking the original function and returning the logically opposite value with complement\n",
    "(def smaller? (complement greater?))\n",
    "\n",
    "(smaller? 5 10)"
   ]
  },
  {
   "cell_type": "markdown",
   "metadata": {},
   "source": [
    "comp"
   ]
  },
  {
   "cell_type": "code",
   "execution_count": null,
   "metadata": {},
   "outputs": [],
   "source": [
    "; Composing functions with comp\n",
    "\n",
    "(def opp-zero-str (comp str not zero?)) ; Checks if the argument is nonzero\n",
    "\n",
    "(opp-zero-str 1)"
   ]
  },
  {
   "cell_type": "markdown",
   "metadata": {},
   "source": [
    "partial"
   ]
  },
  {
   "cell_type": "code",
   "execution_count": null,
   "metadata": {},
   "outputs": [],
   "source": [
    "; A function that checks if some number is above a threshold\n",
    "(defn above-threshold? [threshold number]\n",
    "    (> number threshold))\n"
   ]
  },
  {
   "cell_type": "code",
   "execution_count": null,
   "metadata": {},
   "outputs": [],
   "source": [
    "; Partially applying the above-threshold? function with threshold 5, \n",
    "; Then using it to filter a sequence\n",
    "\n",
    "(filter (partial above-threshold? 5) [ 1 2 3 4 5 6 7 8 9])"
   ]
  },
  {
   "cell_type": "markdown",
   "metadata": {},
   "source": [
    "memoize"
   ]
  },
  {
   "cell_type": "code",
   "execution_count": 2,
   "metadata": {},
   "outputs": [
    {
     "name": "stdout",
     "output_type": "stream",
     "text": [
      "\"Elapsed time: 1000.8107 msecs\"\n"
     ]
    },
    {
     "data": {
      "text/plain": [
       "35"
      ]
     },
     "execution_count": 2,
     "metadata": {},
     "output_type": "execute_result"
    }
   ],
   "source": [
    "; Calling an artificially slow function (sleeps 1s before computing the result)\n",
    "(defn slow-calc [n m]\n",
    "    (Thread/sleep 1000)\n",
    "    (* n m))\n",
    "\n",
    "(time (slow-calc 5 7))\n"
   ]
  },
  {
   "cell_type": "code",
   "execution_count": 4,
   "metadata": {},
   "outputs": [
    {
     "data": {
      "text/plain": [
       "#'user/fast-calc"
      ]
     },
     "execution_count": 4,
     "metadata": {},
     "output_type": "execute_result"
    }
   ],
   "source": [
    "; Creating a new function that uses the memoize function to cache past computations\n",
    "\n",
    "(def fast-calc (memoize slow-calc))"
   ]
  },
  {
   "cell_type": "code",
   "execution_count": 5,
   "metadata": {},
   "outputs": [
    {
     "name": "stdout",
     "output_type": "stream",
     "text": [
      "\"Elapsed time: 1000.4732 msecs\"\n"
     ]
    },
    {
     "data": {
      "text/plain": [
       "35"
      ]
     },
     "execution_count": 5,
     "metadata": {},
     "output_type": "execute_result"
    }
   ],
   "source": [
    "; Calling it the 1st time (slow)\n",
    "\n",
    "(time (fast-calc 5 7))"
   ]
  },
  {
   "cell_type": "code",
   "execution_count": 6,
   "metadata": {},
   "outputs": [
    {
     "name": "stdout",
     "output_type": "stream",
     "text": [
      "\"Elapsed time: 0.1219 msecs\"\n"
     ]
    },
    {
     "data": {
      "text/plain": [
       "35"
      ]
     },
     "execution_count": 6,
     "metadata": {},
     "output_type": "execute_result"
    }
   ],
   "source": [
    "; Calling it the 2nd time (fast)\n",
    "\n",
    "(time (fast-calc 5 7))"
   ]
  },
  {
   "cell_type": "markdown",
   "metadata": {},
   "source": [
    "Writing higher order functions"
   ]
  },
  {
   "cell_type": "code",
   "execution_count": 9,
   "metadata": {},
   "outputs": [
    {
     "data": {
      "text/plain": [
       "#'user/users"
      ]
     },
     "execution_count": 9,
     "metadata": {},
     "output_type": "execute_result"
    }
   ],
   "source": [
    "; A mapping that will be sorted in various ways\n",
    "\n",
    "(def users \n",
    "    [{:username \"kyle\"\n",
    "      :firstname \"Kyle\"\n",
    "      :lastname \"Smith\"\n",
    "      :balance 175.00M ; Use BigDecimals for money!\n",
    "      :member-since \"2009-04-16\"}\n",
    "     {:username \"zak\"\n",
    "      :firstname \"Zackary\"\n",
    "      :lastname \"Jones\"\n",
    "      :balance 12.95M\n",
    "      :member-since \"2009-02-01\"}\n",
    "     {:username \"rob\"\n",
    "      :firstname \"Robert\"\n",
    "      :lastname \"Jones\"\n",
    "      :balance 98.50M\n",
    "      :member-since \"2009-03-30\"}])\n"
   ]
  },
  {
   "cell_type": "code",
   "execution_count": 27,
   "metadata": {},
   "outputs": [
    {
     "data": {
      "text/plain": [
       "({:username \"kyle\", :firstname \"Kyle\", :lastname \"Smith\", :balance 175.00M, :member-since \"2009-04-16\"} {:username \"rob\", :firstname \"Robert\", :lastname \"Jones\", :balance 98.50M, :member-since \"2009-03-30\"} {:username \"zak\", :firstname \"Zackary\", :lastname \"Jones\", :balance 12.95M, :member-since \"2009-02-01\"})"
      ]
     },
     "execution_count": 27,
     "metadata": {},
     "output_type": "execute_result"
    }
   ],
   "source": [
    "; Sort all the sequence by the user key\n",
    "\n",
    "(sort-by username users)"
   ]
  },
  {
   "cell_type": "code",
   "execution_count": 40,
   "metadata": {},
   "outputs": [
    {
     "data": {
      "text/plain": [
       "(\"kyle\" \"rob\" \"zak\")"
      ]
     },
     "execution_count": 40,
     "metadata": {},
     "output_type": "execute_result"
    }
   ],
   "source": [
    "; The last function sorts like the following functions\n",
    "\n",
    "(sort (map username users))"
   ]
  },
  {
   "cell_type": "code",
   "execution_count": 31,
   "metadata": {},
   "outputs": [
    {
     "data": {
      "text/plain": [
       "#'user/sorter-using"
      ]
     },
     "execution_count": 31,
     "metadata": {},
     "output_type": "execute_result"
    }
   ],
   "source": [
    ";A HOF that sorts a sequence by an arbitrary key\n",
    "\n",
    "(defn sorter-using [ordering-fn]\n",
    "    (fn [collection]\n",
    "        (sort-by ordering-fn collection)))\n"
   ]
  },
  {
   "cell_type": "code",
   "execution_count": 30,
   "metadata": {},
   "outputs": [
    {
     "data": {
      "text/plain": [
       "#'user/lastname-firstname"
      ]
     },
     "execution_count": 30,
     "metadata": {},
     "output_type": "execute_result"
    }
   ],
   "source": [
    "; A function that selects the lastname and firstname as keys\n",
    "\n",
    "(defn lastname-firstname [user]\n",
    "    [(user :lastname) (user :firstname)])"
   ]
  },
  {
   "cell_type": "code",
   "execution_count": 29,
   "metadata": {},
   "outputs": [
    {
     "data": {
      "text/plain": [
       "#'user/balance"
      ]
     },
     "execution_count": 29,
     "metadata": {},
     "output_type": "execute_result"
    }
   ],
   "source": [
    "; A function that selects the balance as key\n",
    "\n",
    "(defn balance [user] \n",
    "    (user :balance))"
   ]
  },
  {
   "cell_type": "code",
   "execution_count": 33,
   "metadata": {},
   "outputs": [
    {
     "data": {
      "text/plain": [
       "#'user/username"
      ]
     },
     "execution_count": 33,
     "metadata": {},
     "output_type": "execute_result"
    }
   ],
   "source": [
    "; A function that selects the username as key\n",
    "\n",
    "(defn username [user] \n",
    "    (user :username))"
   ]
  },
  {
   "cell_type": "code",
   "execution_count": 34,
   "metadata": {},
   "outputs": [
    {
     "data": {
      "text/plain": [
       "({:username \"zak\", :firstname \"Zackary\", :lastname \"Jones\", :balance 12.95M, :member-since \"2009-02-01\"} {:username \"rob\", :firstname \"Robert\", :lastname \"Jones\", :balance 98.50M, :member-since \"2009-03-30\"} {:username \"kyle\", :firstname \"Kyle\", :lastname \"Smith\", :balance 175.00M, :member-since \"2009-04-16\"})"
      ]
     },
     "execution_count": 34,
     "metadata": {},
     "output_type": "execute_result"
    }
   ],
   "source": [
    "; Using the sorter HOF and the balance key function\n",
    "; to get the users sorted by balance\n",
    "\n",
    "(def poorest-first \n",
    "    (sorter-using balance))\n",
    "\n",
    "(poorest-first users)"
   ]
  },
  {
   "cell_type": "code",
   "execution_count": 35,
   "metadata": {},
   "outputs": [
    {
     "data": {
      "text/plain": [
       "({:username \"kyle\", :firstname \"Kyle\", :lastname \"Smith\", :balance 175.00M, :member-since \"2009-04-16\"} {:username \"rob\", :firstname \"Robert\", :lastname \"Jones\", :balance 98.50M, :member-since \"2009-03-30\"} {:username \"zak\", :firstname \"Zackary\", :lastname \"Jones\", :balance 12.95M, :member-since \"2009-02-01\"})"
      ]
     },
     "execution_count": 35,
     "metadata": {},
     "output_type": "execute_result"
    }
   ],
   "source": [
    "; Using the sorter HOF and the username key function\n",
    "; to get the users sorted by name\n",
    "\n",
    "(def alphabetically \n",
    "    (sorter-using username))\n",
    "\n",
    "(alphabetically users)"
   ]
  },
  {
   "cell_type": "code",
   "execution_count": 36,
   "metadata": {},
   "outputs": [
    {
     "data": {
      "text/plain": [
       "({:username \"rob\", :firstname \"Robert\", :lastname \"Jones\", :balance 98.50M, :member-since \"2009-03-30\"} {:username \"zak\", :firstname \"Zackary\", :lastname \"Jones\", :balance 12.95M, :member-since \"2009-02-01\"} {:username \"kyle\", :firstname \"Kyle\", :lastname \"Smith\", :balance 175.00M, :member-since \"2009-04-16\"})"
      ]
     },
     "execution_count": 36,
     "metadata": {},
     "output_type": "execute_result"
    }
   ],
   "source": [
    "; Using the sorter HOF and the lastname-firstname key function\n",
    "; to get the users sorted by last name\n",
    "\n",
    "(def last-then-firstname \n",
    "    (sorter-using lastname-firstname))\n",
    "\n",
    "(last-then-firstname users)"
   ]
  },
  {
   "cell_type": "code",
   "execution_count": 39,
   "metadata": {},
   "outputs": [
    {
     "data": {
      "text/plain": [
       "([\"Jones\" \"Robert\"] [\"Jones\" \"Zackary\"] [\"Smith\" \"Kyle\"])"
      ]
     },
     "execution_count": 39,
     "metadata": {},
     "output_type": "execute_result"
    }
   ],
   "source": [
    "; The last function sorts like the following functions\n",
    "\n",
    "(sort (map lastname-firstname users))"
   ]
  },
  {
   "cell_type": "markdown",
   "metadata": {},
   "source": [
    "Anonymous functions"
   ]
  },
  {
   "cell_type": "code",
   "execution_count": 43,
   "metadata": {},
   "outputs": [
    {
     "data": {
      "text/plain": [
       "#function[user/eval4171/fn--4172]"
      ]
     },
     "execution_count": 43,
     "metadata": {},
     "output_type": "execute_result"
    }
   ],
   "source": [
    "; Creating an anonymous function with the fn macro\n",
    "\n",
    "(fn [item-cost number-of-items]\n",
    "    (* item-cost number-of-items))"
   ]
  },
  {
   "cell_type": "code",
   "execution_count": 46,
   "metadata": {},
   "outputs": [
    {
     "data": {
      "text/plain": [
       "(\"2009-04-16\" \"2009-02-01\" \"2009-03-30\")"
      ]
     },
     "execution_count": 46,
     "metadata": {},
     "output_type": "execute_result"
    }
   ],
   "source": [
    "; Using map with an anonymous function to get the join date of users\n",
    "\n",
    "(map (fn [user] (user :member-since)) users)"
   ]
  },
  {
   "cell_type": "code",
   "execution_count": 49,
   "metadata": {},
   "outputs": [
    {
     "data": {
      "text/plain": [
       "(\"2009-04-16\" \"2009-02-01\" \"2009-03-30\")"
      ]
     },
     "execution_count": 49,
     "metadata": {},
     "output_type": "execute_result"
    }
   ],
   "source": [
    "; Using the # reader macro as a shortcut for anonymous functions\n",
    "\n",
    "(map #(% :member-since) users) ; The anonymous function is #(% :member-since)\n"
   ]
  },
  {
   "cell_type": "markdown",
   "metadata": {},
   "source": [
    "Applying anonymous functions to sequences of variable length\n"
   ]
  },
  {
   "cell_type": "code",
   "execution_count": 57,
   "metadata": {},
   "outputs": [
    {
     "data": {
      "text/plain": [
       "[(1 2 3 4 5)]"
      ]
     },
     "execution_count": 57,
     "metadata": {},
     "output_type": "execute_result"
    }
   ],
   "source": [
    "(#(vector %&) 1 2 3 4 5)"
   ]
  },
  {
   "cell_type": "code",
   "execution_count": 58,
   "metadata": {},
   "outputs": [
    {
     "data": {
      "text/plain": [
       "[1 (2 3 4 5)]"
      ]
     },
     "execution_count": 58,
     "metadata": {},
     "output_type": "execute_result"
    }
   ],
   "source": [
    "(#(vector %1 %&) 1 2 3 4 5)"
   ]
  },
  {
   "cell_type": "code",
   "execution_count": 59,
   "metadata": {},
   "outputs": [
    {
     "data": {
      "text/plain": [
       "[1 2 (3 4 5)]"
      ]
     },
     "execution_count": 59,
     "metadata": {},
     "output_type": "execute_result"
    }
   ],
   "source": [
    "(#(vector %1 %2 %&) 1 2 3 4 5)"
   ]
  },
  {
   "cell_type": "code",
   "execution_count": 60,
   "metadata": {},
   "outputs": [
    {
     "data": {
      "text/plain": [
       "[1 2 nil]"
      ]
     },
     "execution_count": 60,
     "metadata": {},
     "output_type": "execute_result"
    }
   ],
   "source": [
    "(#(vector %1 %2 %&) 1 2)"
   ]
  }
 ],
 "metadata": {
  "kernelspec": {
   "display_name": "Clojure (clojupyter=0.3.2=1)",
   "language": "clojure",
   "name": "python397jvsc74a57bd089a790bea3b9cadff6bf73491f7cf161e4e94bfc015afe6a535623fbe4142b79"
  },
  "language_info": {
   "file_extension": ".clj",
   "mimetype": "text/x-clojure",
   "name": "clojure",
   "version": "1.10.1"
  },
  "orig_nbformat": 4
 },
 "nbformat": 4,
 "nbformat_minor": 2
}
