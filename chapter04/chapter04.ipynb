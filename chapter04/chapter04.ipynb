{
 "cells": [
  {
   "cell_type": "markdown",
   "metadata": {},
   "source": [
    "# Multimethod polymorphism"
   ]
  },
  {
   "cell_type": "markdown",
   "metadata": {},
   "source": [
    "## Polymorphism and its types"
   ]
  },
  {
   "cell_type": "markdown",
   "metadata": {},
   "source": [
    "### Ad-hoc polymorphism"
   ]
  },
  {
   "cell_type": "markdown",
   "metadata": {},
   "source": [
    "\"closed-dispatch\" polymorphism"
   ]
  },
  {
   "cell_type": "code",
   "execution_count": 1,
   "metadata": {},
   "outputs": [
    {
     "data": {
      "text/plain": [
       "#'user/ad-hoc-type-namer"
      ]
     },
     "execution_count": 1,
     "metadata": {},
     "output_type": "execute_result"
    }
   ],
   "source": [
    "; A function that ckecks the type of 'thing' argument \n",
    "; to call different functions based on the type\n",
    "\n",
    "(defn ad-hoc-type-namer [thing]\n",
    "    (condp = (type thing) \n",
    "        java.lang.String \"string\" \n",
    "        clojure.lang.PersistentVector \"vector\"))\n"
   ]
  },
  {
   "cell_type": "code",
   "execution_count": 2,
   "metadata": {},
   "outputs": [
    {
     "data": {
      "text/plain": [
       "\"string\""
      ]
     },
     "execution_count": 2,
     "metadata": {},
     "output_type": "execute_result"
    }
   ],
   "source": [
    "; Passing a string parameter\n",
    "\n",
    "(ad-hoc-type-namer \"I'm a string\")"
   ]
  },
  {
   "cell_type": "code",
   "execution_count": 3,
   "metadata": {},
   "outputs": [
    {
     "data": {
      "text/plain": [
       "\"vector\""
      ]
     },
     "execution_count": 3,
     "metadata": {},
     "output_type": "execute_result"
    }
   ],
   "source": [
    "; Passing a vector parameter\n",
    "\n",
    "(ad-hoc-type-namer [])"
   ]
  },
  {
   "cell_type": "code",
   "execution_count": 4,
   "metadata": {},
   "outputs": [
    {
     "name": "stderr",
     "output_type": "stream",
     "text": [
      "Execution error (IllegalArgumentException) at user/ad-hoc-type-namer (REPL:5).\n",
      "No matching clause: class clojure.lang.PersistentArrayMap\n"
     ]
    },
    {
     "ename": "class java.lang.IllegalArgumentException",
     "evalue": "",
     "output_type": "error",
     "traceback": [
      "   core.clj:  3214 clojure.core$eval/invokeStatic",
      "   core.clj:  3210 clojure.core$eval/invoke",
      "   main.clj:   437 clojure.main$repl$read_eval_print__9086$fn__9089/invoke",
      "   main.clj:   458 clojure.main$repl$fn__9095/invoke",
      "   main.clj:   368 clojure.main$repl/doInvoke",
      "RestFn.java:  1523 clojure.lang.RestFn/invoke",
      "   AFn.java:    22 clojure.lang.AFn/run",
      "   AFn.java:    22 clojure.lang.AFn/run",
      "Thread.java:   745 java.lang.Thread/run"
     ]
    }
   ],
   "source": [
    "; If there’s a type this function doesn’t know how to handle, an exception is thrown\n",
    "\n",
    "(ad-hoc-type-namer {}) "
   ]
  },
  {
   "cell_type": "markdown",
   "metadata": {},
   "source": [
    "\"open-dispatch\" polymorphism"
   ]
  },
  {
   "cell_type": "code",
   "execution_count": 5,
   "metadata": {},
   "outputs": [
    {
     "data": {
      "text/plain": [
       "#'user/type-namer-implementations"
      ]
     },
     "execution_count": 5,
     "metadata": {},
     "output_type": "execute_result"
    }
   ],
   "source": [
    "; Pull type implementations out into a separate map\n",
    "\n",
    "(def type-namer-implementations \n",
    "    {java.lang.String (fn [thing] \"string\")\n",
    "     clojure.lang.PersistentVector (fn [thing] \"vector\")})\n"
   ]
  },
  {
   "cell_type": "code",
   "execution_count": 6,
   "metadata": {},
   "outputs": [
    {
     "data": {
      "text/plain": [
       "#'user/open-ad-hoc-type-namer"
      ]
     },
     "execution_count": 6,
     "metadata": {},
     "output_type": "execute_result"
    }
   ],
   "source": [
    "; A function that ckecks the type of 'thing' argument \n",
    "; to call different functions based on the type, \n",
    "; without a fixed set of types to ckeck\n",
    " \n",
    "(defn open-ad-hoc-type-namer [thing]\n",
    "    (let [dispatch-value (type thing)] \n",
    "        ; Use a dispatch value as key to implementation map\n",
    "        (if-let [implementation (get type-namer-implementations dispatch-value)] \n",
    "            (implementation thing) \n",
    "            (throw (IllegalArgumentException. (str \"No implementation found for \" dispatch-value))))))\n"
   ]
  },
  {
   "cell_type": "code",
   "execution_count": 7,
   "metadata": {},
   "outputs": [
    {
     "data": {
      "text/plain": [
       "\"string\""
      ]
     },
     "execution_count": 7,
     "metadata": {},
     "output_type": "execute_result"
    }
   ],
   "source": [
    "; Passing a parameter of string type\n",
    "\n",
    "(open-ad-hoc-type-namer \"I'm a string\") "
   ]
  },
  {
   "cell_type": "code",
   "execution_count": 8,
   "metadata": {},
   "outputs": [
    {
     "data": {
      "text/plain": [
       "\"vector\""
      ]
     },
     "execution_count": 8,
     "metadata": {},
     "output_type": "execute_result"
    }
   ],
   "source": [
    "; Passing a parameter of vector type\n",
    "\n",
    "(open-ad-hoc-type-namer []) "
   ]
  },
  {
   "cell_type": "code",
   "execution_count": 9,
   "metadata": {},
   "outputs": [
    {
     "name": "stderr",
     "output_type": "stream",
     "text": [
      "Execution error (IllegalArgumentException) at user/open-ad-hoc-type-namer (REPL:10).\n",
      "No implementation found for class clojure.lang.PersistentArrayMap\n"
     ]
    },
    {
     "ename": "class java.lang.IllegalArgumentException",
     "evalue": "",
     "output_type": "error",
     "traceback": [
      "   core.clj:  3214 clojure.core$eval/invokeStatic",
      "   core.clj:  3210 clojure.core$eval/invoke",
      "   main.clj:   437 clojure.main$repl$read_eval_print__9086$fn__9089/invoke",
      "   main.clj:   458 clojure.main$repl$fn__9095/invoke",
      "   main.clj:   368 clojure.main$repl/doInvoke",
      "RestFn.java:  1523 clojure.lang.RestFn/invoke",
      "   AFn.java:    22 clojure.lang.AFn/run",
      "   AFn.java:    22 clojure.lang.AFn/run",
      "Thread.java:   745 java.lang.Thread/run"
     ]
    }
   ],
   "source": [
    "; Passing a parameter of map type (it will throw an exception)\n",
    "\n",
    "(open-ad-hoc-type-namer {}) "
   ]
  },
  {
   "cell_type": "code",
   "execution_count": 10,
   "metadata": {},
   "outputs": [
    {
     "data": {
      "text/plain": [
       "#'user/type-namer-implementations"
      ]
     },
     "execution_count": 10,
     "metadata": {},
     "output_type": "execute_result"
    }
   ],
   "source": [
    "; Adding a 'map' type to a the map of types\n",
    "\n",
    "(def type-namer-implementations \n",
    "    (assoc type-namer-implementations clojure.lang.PersistentArrayMap (fn [thing] \"map\")))\n"
   ]
  },
  {
   "cell_type": "code",
   "execution_count": 11,
   "metadata": {},
   "outputs": [
    {
     "data": {
      "text/plain": [
       "\"map\""
      ]
     },
     "execution_count": 11,
     "metadata": {},
     "output_type": "execute_result"
    }
   ],
   "source": [
    "; Passing a parameter of map type again (it won't throw an exception now)\n",
    "\n",
    "(open-ad-hoc-type-namer {})"
   ]
  },
  {
   "cell_type": "markdown",
   "metadata": {},
   "source": [
    "### Subtype polymorphism"
   ]
  },
  {
   "cell_type": "markdown",
   "metadata": {},
   "source": [
    "Checking types with ad-hoc polymorphism"
   ]
  },
  {
   "cell_type": "code",
   "execution_count": 12,
   "metadata": {},
   "outputs": [
    {
     "data": {
      "text/plain": [
       "#'user/map-type-namer"
      ]
     },
     "execution_count": 12,
     "metadata": {},
     "output_type": "execute_result"
    }
   ],
   "source": [
    "; A function that checks if its argument is map-like\n",
    "\n",
    "(defn map-type-namer [thing] \n",
    "    (condp = (type thing)\n",
    "        clojure.lang.PersistentArrayMap \"map\"\n",
    "        clojure.lang.PersistentHashMap \"map\")) ; Notice the code duplication"
   ]
  },
  {
   "cell_type": "code",
   "execution_count": 13,
   "metadata": {},
   "outputs": [
    {
     "data": {
      "text/plain": [
       "\"map\""
      ]
     },
     "execution_count": 13,
     "metadata": {},
     "output_type": "execute_result"
    }
   ],
   "source": [
    "; Passing a parameter of hash-map type (recognized)\n",
    "\n",
    "(map-type-namer (hash-map))"
   ]
  },
  {
   "cell_type": "code",
   "execution_count": 14,
   "metadata": {},
   "outputs": [
    {
     "data": {
      "text/plain": [
       "\"map\""
      ]
     },
     "execution_count": 14,
     "metadata": {},
     "output_type": "execute_result"
    }
   ],
   "source": [
    "; Passing a parameter of array-map type (recognized)\n",
    "\n",
    "(map-type-namer (array-map))"
   ]
  },
  {
   "cell_type": "code",
   "execution_count": 15,
   "metadata": {},
   "outputs": [
    {
     "name": "stderr",
     "output_type": "stream",
     "text": [
      "Execution error (IllegalArgumentException) at user/map-type-namer (REPL:4).\n",
      "No matching clause: class clojure.lang.PersistentTreeMap\n"
     ]
    },
    {
     "ename": "class java.lang.IllegalArgumentException",
     "evalue": "",
     "output_type": "error",
     "traceback": [
      "   core.clj:  3214 clojure.core$eval/invokeStatic",
      "   core.clj:  3210 clojure.core$eval/invoke",
      "   main.clj:   437 clojure.main$repl$read_eval_print__9086$fn__9089/invoke",
      "   main.clj:   458 clojure.main$repl$fn__9095/invoke",
      "   main.clj:   368 clojure.main$repl/doInvoke",
      "RestFn.java:  1523 clojure.lang.RestFn/invoke",
      "   AFn.java:    22 clojure.lang.AFn/run",
      "   AFn.java:    22 clojure.lang.AFn/run",
      "Thread.java:   745 java.lang.Thread/run"
     ]
    }
   ],
   "source": [
    "; Passing a parameter of sorted-map type (unrecognized)\n",
    "\n",
    "(map-type-namer (sorted-map)) "
   ]
  },
  {
   "cell_type": "markdown",
   "metadata": {},
   "source": [
    "Checking types with subtype polymorphism"
   ]
  },
  {
   "cell_type": "code",
   "execution_count": 16,
   "metadata": {},
   "outputs": [
    {
     "data": {
      "text/plain": [
       "#'user/subtyping-map-type-namer"
      ]
     },
     "execution_count": 16,
     "metadata": {},
     "output_type": "execute_result"
    }
   ],
   "source": [
    "(defn subtyping-map-type-namer [thing] \n",
    "    (cond\n",
    "        (instance? clojure.lang.APersistentMap thing) \"map\" ; APersistent-Map is Java superclass of all map-like things in Clojure\n",
    "         :else (throw (IllegalArgumentException. (str \"No implementation found for \") (type thing)))))\n"
   ]
  },
  {
   "cell_type": "code",
   "execution_count": 17,
   "metadata": {},
   "outputs": [
    {
     "data": {
      "text/plain": [
       "\"map\""
      ]
     },
     "execution_count": 17,
     "metadata": {},
     "output_type": "execute_result"
    }
   ],
   "source": [
    "; Passing a parameter of hash-map type (recognized)\n",
    "\n",
    "(subtyping-map-type-namer (hash-map))"
   ]
  },
  {
   "cell_type": "code",
   "execution_count": 18,
   "metadata": {},
   "outputs": [
    {
     "data": {
      "text/plain": [
       "\"map\""
      ]
     },
     "execution_count": 18,
     "metadata": {},
     "output_type": "execute_result"
    }
   ],
   "source": [
    "; Passing a parameter of array-map type (recognized)\n",
    "\n",
    "(subtyping-map-type-namer (array-map))"
   ]
  },
  {
   "cell_type": "code",
   "execution_count": 19,
   "metadata": {},
   "outputs": [
    {
     "data": {
      "text/plain": [
       "\"map\""
      ]
     },
     "execution_count": 19,
     "metadata": {},
     "output_type": "execute_result"
    }
   ],
   "source": [
    "; Passing a parameter of sorted-map type (recognized now)\n",
    "\n",
    "(subtyping-map-type-namer (sorted-map)) "
   ]
  },
  {
   "cell_type": "markdown",
   "metadata": {},
   "source": [
    "## Polymorphism using multimethods"
   ]
  },
  {
   "cell_type": "markdown",
   "metadata": {},
   "source": [
    "Implementing a tracking expense service without multimethods "
   ]
  },
  {
   "cell_type": "code",
   "execution_count": 20,
   "metadata": {},
   "outputs": [
    {
     "data": {
      "text/plain": [
       "#'user/example-user"
      ]
     },
     "execution_count": 20,
     "metadata": {},
     "output_type": "execute_result"
    }
   ],
   "source": [
    "; A mapping for a sample user\n",
    "\n",
    "(def example-user {:login \"rob\" \n",
    "                   :referrer \"mint.com\" \n",
    "                   :salary 100000})\n"
   ]
  },
  {
   "cell_type": "code",
   "execution_count": 6,
   "metadata": {},
   "outputs": [
    {
     "data": {
      "text/plain": [
       "#'user/fee-amount"
      ]
     },
     "execution_count": 6,
     "metadata": {},
     "output_type": "execute_result"
    }
   ],
   "source": [
    "; A function that calculates the fee depending of the referrer type\n",
    "\n",
    "(defn fee-amount [percentage user]\n",
    "    (with-precision 16 :rounding HALF_EVEN \n",
    "        ; Using BigDecimal when dealing with money\n",
    "        (* 0.01M percentage (:salary user))))"
   ]
  },
  {
   "cell_type": "code",
   "execution_count": 22,
   "metadata": {},
   "outputs": [
    {
     "data": {
      "text/plain": [
       "#'user/affiliate-fee"
      ]
     },
     "execution_count": 22,
     "metadata": {},
     "output_type": "execute_result"
    }
   ],
   "source": [
    "; A function that performs close dispatch based on the referrer type\n",
    "\n",
    "(defn affiliate-fee [user]\n",
    "    (case (:referrer user)\n",
    "        \"google.com\" (fee-amount 0.01M user)\n",
    "        \"mint.com\" (fee-amount 0.03M user)\n",
    "        (fee-amount 0.02M user)))\n"
   ]
  },
  {
   "cell_type": "code",
   "execution_count": 23,
   "metadata": {},
   "outputs": [
    {
     "data": {
      "text/plain": [
       "30.0000M"
      ]
     },
     "execution_count": 23,
     "metadata": {},
     "output_type": "execute_result"
    }
   ],
   "source": [
    "; Testing the last function with the example-user map\n",
    "\n",
    "(affiliate-fee example-user)\n"
   ]
  },
  {
   "cell_type": "markdown",
   "metadata": {},
   "source": [
    "Implementing a tracking expense service with multimethods "
   ]
  },
  {
   "cell_type": "code",
   "execution_count": 24,
   "metadata": {},
   "outputs": [
    {
     "data": {
      "text/plain": [
       "\"\""
      ]
     },
     "execution_count": 24,
     "metadata": {},
     "output_type": "execute_result"
    }
   ],
   "source": [
    "; A general form of the defmulti macro\n",
    "\n",
    "\"\"\"\n",
    "(defmulti name docstring? attr-map? dispatch-fn & options)\n",
    "\"\"\""
   ]
  },
  {
   "cell_type": "code",
   "execution_count": 25,
   "metadata": {},
   "outputs": [
    {
     "data": {
      "text/plain": [
       "#'user/affiliate-fee"
      ]
     },
     "execution_count": 25,
     "metadata": {},
     "output_type": "execute_result"
    }
   ],
   "source": [
    "; The defmulti returns a dispatch value \n",
    "; with which to find an implementation.\n",
    "\n",
    "(defmulti affiliate-fee \n",
    "    (fn [user] (:referrer user)))\n"
   ]
  },
  {
   "cell_type": "code",
   "execution_count": 26,
   "metadata": {},
   "outputs": [
    {
     "data": {
      "text/plain": [
       "#multifn[affiliate-fee 0x63953eae]"
      ]
     },
     "execution_count": 26,
     "metadata": {},
     "output_type": "execute_result"
    }
   ],
   "source": [
    "; Defining an implementation for the \"mint.com\" dispatch value\n",
    "\n",
    "(defmethod affiliate-fee \"mint.com\" [user] \n",
    "    (fee-amount 0.03M user))"
   ]
  },
  {
   "cell_type": "code",
   "execution_count": 27,
   "metadata": {},
   "outputs": [
    {
     "data": {
      "text/plain": [
       "#multifn[affiliate-fee 0x63953eae]"
      ]
     },
     "execution_count": 27,
     "metadata": {},
     "output_type": "execute_result"
    }
   ],
   "source": [
    "; Defining an implementation for the \"google.com\" dispatch value\n",
    "\n",
    "(defmethod affiliate-fee \"google.com\" [user]\n",
    "    (fee-amount 0.01M user))"
   ]
  },
  {
   "cell_type": "code",
   "execution_count": 28,
   "metadata": {},
   "outputs": [
    {
     "data": {
      "text/plain": [
       "#multifn[affiliate-fee 0x63953eae]"
      ]
     },
     "execution_count": 28,
     "metadata": {},
     "output_type": "execute_result"
    }
   ],
   "source": [
    "; Defining an implementation for a default dispatch value\n",
    "\n",
    "(defmethod affiliate-fee :default [user] \n",
    "    (fee-amount 0.02M user))"
   ]
  },
  {
   "cell_type": "code",
   "execution_count": 29,
   "metadata": {},
   "outputs": [
    {
     "data": {
      "text/plain": [
       "30.0000M"
      ]
     },
     "execution_count": 29,
     "metadata": {},
     "output_type": "execute_result"
    }
   ],
   "source": [
    "; Testing the first method with the example-user map\n",
    "\n",
    "(affiliate-fee example-user)"
   ]
  },
  {
   "cell_type": "markdown",
   "metadata": {},
   "source": [
    "Using multimethods with custom defaults"
   ]
  },
  {
   "cell_type": "code",
   "execution_count": 30,
   "metadata": {},
   "outputs": [
    {
     "data": {
      "text/plain": [
       "nil"
      ]
     },
     "execution_count": 30,
     "metadata": {},
     "output_type": "execute_result"
    }
   ],
   "source": [
    "; Redefining the default case (it won't take effect)\n",
    "\n",
    "(defmulti affiliate-fee :referrer :default \"*\")"
   ]
  },
  {
   "cell_type": "code",
   "execution_count": 31,
   "metadata": {},
   "outputs": [
    {
     "data": {
      "text/plain": [
       "nil"
      ]
     },
     "execution_count": 31,
     "metadata": {},
     "output_type": "execute_result"
    }
   ],
   "source": [
    "; Removing the affiliate-fee multimethod from the user namespace\n",
    "\n",
    "(ns-unmap 'user 'affiliate-fee)"
   ]
  },
  {
   "cell_type": "code",
   "execution_count": 32,
   "metadata": {},
   "outputs": [
    {
     "data": {
      "text/plain": [
       "#'user/affiliate-fee"
      ]
     },
     "execution_count": 32,
     "metadata": {},
     "output_type": "execute_result"
    }
   ],
   "source": [
    "; Redefining the default case (it will take effect now)\n",
    "\n",
    "(defmulti affiliate-fee :referrer :default \"*\") "
   ]
  },
  {
   "cell_type": "code",
   "execution_count": 33,
   "metadata": {},
   "outputs": [
    {
     "data": {
      "text/plain": [
       "#multifn[affiliate-fee 0x51b7ab75]"
      ]
     },
     "execution_count": 33,
     "metadata": {},
     "output_type": "execute_result"
    }
   ],
   "source": [
    "; Defining the new default case method\n",
    "\n",
    "(defmethod affiliate-fee \"*\" [user] \n",
    "    (fee-amount 0.02M user))"
   ]
  },
  {
   "cell_type": "code",
   "execution_count": 34,
   "metadata": {},
   "outputs": [
    {
     "data": {
      "text/plain": [
       "20.0000M"
      ]
     },
     "execution_count": 34,
     "metadata": {},
     "output_type": "execute_result"
    }
   ],
   "source": [
    "(affiliate-fee example-user)"
   ]
  },
  {
   "cell_type": "code",
   "execution_count": 35,
   "metadata": {},
   "outputs": [
    {
     "data": {
      "text/plain": [
       "\"\""
      ]
     },
     "execution_count": 35,
     "metadata": {},
     "output_type": "execute_result"
    }
   ],
   "source": [
    "; A general form of the defmethod macro\n",
    "\n",
    "\"\"\"\n",
    "(defmethod multifn dispatch-value & fn-tail)\n",
    "\"\"\"\n"
   ]
  },
  {
   "cell_type": "code",
   "execution_count": 36,
   "metadata": {},
   "outputs": [
    {
     "data": {
      "text/plain": [
       "\"\""
      ]
     },
     "execution_count": 36,
     "metadata": {},
     "output_type": "execute_result"
    }
   ],
   "source": [
    "; The defmethod macro can also be used with multiple arities\n",
    "\n",
    "\"\"\"\n",
    "(defmethod my-many-arity-multi :default\n",
    "    ([] \\\"no arguments\\\")\n",
    "    ([x] \\\"one argument\\\")\n",
    "    ([x & etc] \\\"many arguments\\\"))\n",
    "\"\"\""
   ]
  },
  {
   "cell_type": "markdown",
   "metadata": {},
   "source": [
    "Accessing multimethod map items"
   ]
  },
  {
   "cell_type": "code",
   "execution_count": 37,
   "metadata": {},
   "outputs": [
    {
     "data": {
      "text/plain": [
       "#multifn[affiliate-fee 0x51b7ab75]"
      ]
     },
     "execution_count": 37,
     "metadata": {},
     "output_type": "execute_result"
    }
   ],
   "source": [
    "; Defining again the method for \"mint.com\"\n",
    "\n",
    "(defmethod affiliate-fee \"mint.com\" [user] \n",
    "    (fee-amount 0.03M user))"
   ]
  },
  {
   "cell_type": "code",
   "execution_count": 38,
   "metadata": {},
   "outputs": [
    {
     "data": {
      "text/plain": [
       "#multifn[affiliate-fee 0x51b7ab75]"
      ]
     },
     "execution_count": 38,
     "metadata": {},
     "output_type": "execute_result"
    }
   ],
   "source": [
    "; Defining again the method for \"google.com\"\n",
    "\n",
    "(defmethod affiliate-fee \"google.com\" [user]\n",
    "    (fee-amount 0.01M user))"
   ]
  },
  {
   "cell_type": "code",
   "execution_count": 39,
   "metadata": {},
   "outputs": [
    {
     "data": {
      "text/plain": [
       "{\"mint.com\" #function[user/eval4178/fn--4179], \"*\" #function[user/eval4172/fn--4173], \"google.com\" #function[user/eval4182/fn--4183]}"
      ]
     },
     "execution_count": 39,
     "metadata": {},
     "output_type": "execute_result"
    }
   ],
   "source": [
    "; Returning all the methods associated to \"affiliate-fee\"\n",
    "\n",
    "(methods affiliate-fee) "
   ]
  },
  {
   "cell_type": "code",
   "execution_count": 40,
   "metadata": {},
   "outputs": [
    {
     "data": {
      "text/plain": [
       "#function[user/eval4178/fn--4179]"
      ]
     },
     "execution_count": 40,
     "metadata": {},
     "output_type": "execute_result"
    }
   ],
   "source": [
    "; Returning the method associated to \"mint.com\"\n",
    "\n",
    "(get-method affiliate-fee \"mint.com\") "
   ]
  },
  {
   "cell_type": "code",
   "execution_count": 41,
   "metadata": {},
   "outputs": [
    {
     "data": {
      "text/plain": [
       "nil"
      ]
     },
     "execution_count": 41,
     "metadata": {},
     "output_type": "execute_result"
    }
   ],
   "source": [
    "; No specific method associated to \"example.org\"\n",
    "\n",
    "(get (methods affiliate-fee) \"example.org\")"
   ]
  },
  {
   "cell_type": "code",
   "execution_count": 42,
   "metadata": {},
   "outputs": [
    {
     "data": {
      "text/plain": [
       "#function[user/eval4172/fn--4173]"
      ]
     },
     "execution_count": 42,
     "metadata": {},
     "output_type": "execute_result"
    }
   ],
   "source": [
    "; The \"*\" (default) implementation\n",
    "\n",
    "(get-method affiliate-fee \"example.org\") "
   ]
  },
  {
   "cell_type": "code",
   "execution_count": 43,
   "metadata": {},
   "outputs": [
    {
     "data": {
      "text/plain": [
       "30.0000M"
      ]
     },
     "execution_count": 43,
     "metadata": {},
     "output_type": "execute_result"
    }
   ],
   "source": [
    "; The entries in the dispatch map can be called as normal functions.\n",
    "\n",
    "((get-method affiliate-fee \"mint.com\") example-user) "
   ]
  },
  {
   "cell_type": "markdown",
   "metadata": {},
   "source": [
    "### Multiple dispatch"
   ]
  },
  {
   "cell_type": "markdown",
   "metadata": {},
   "source": [
    "Creating more mappings of user categories "
   ]
  },
  {
   "cell_type": "code",
   "execution_count": 1,
   "metadata": {},
   "outputs": [
    {
     "data": {
      "text/plain": [
       "#'user/user-4"
      ]
     },
     "execution_count": 1,
     "metadata": {},
     "output_type": "execute_result"
    }
   ],
   "source": [
    "(def user-1 {:login \"rob\" :referrer \"mint.com\" :salary 100000\n",
    "             :rating :rating/bronze})\n",
    "(def user-2 {:login \"gordon\" :referrer \"mint.com\" :salary 80000\n",
    "             :rating :rating/silver})\n",
    "(def user-3 {:login \"kyle\" :referrer \"google.com\" :salary 90000\n",
    "             :rating :rating/gold})\n",
    "(def user-4 {:login \"celeste\" :referrer \"yahoo.com\" :salary 70000\n",
    "             :rating :rating/platinum})"
   ]
  },
  {
   "cell_type": "markdown",
   "metadata": {},
   "source": [
    "The new business rules are as follows:\n",
    "\n",
    "```\n",
    "Affiliate       Profit rating       Fee (% of salary)\n",
    "\n",
    "mint.com        Bronze              0.03\n",
    "mint.com        Silver              0.04\n",
    "mint.com        Gold/platinum       0.05\n",
    "google.com      Gold/platinum       0.03\n",
    "```"
   ]
  },
  {
   "cell_type": "code",
   "execution_count": 4,
   "metadata": {},
   "outputs": [
    {
     "data": {
      "text/plain": [
       "([\"mint.com\" :rating/bronze] [\"mint.com\" :rating/silver] [\"google.com\" :rating/gold] [\"yahoo.com\" :rating/platinum])"
      ]
     },
     "execution_count": 4,
     "metadata": {},
     "output_type": "execute_result"
    }
   ],
   "source": [
    "; A keyword function that extracts the 2 parameters of interest (referrer and rating)\n",
    "\n",
    "(defn fee-category [user]\n",
    "    [(:referrer user) (:rating user)])\n",
    "\n",
    "(map fee-category [user-1 user-2 user-3 user-4])"
   ]
  },
  {
   "cell_type": "code",
   "execution_count": 7,
   "metadata": {},
   "outputs": [
    {
     "data": {
      "text/plain": [
       "#'user/fee-amount"
      ]
     },
     "execution_count": 7,
     "metadata": {},
     "output_type": "execute_result"
    }
   ],
   "source": [
    "; Rewriting the fee-amount function\n",
    "\n",
    "(defn fee-amount [percentage user]\n",
    "    (with-precision 16 :rounding HALF_EVEN \n",
    "        ; Using BigDecimal when dealing with money\n",
    "        (* 0.01M percentage (:salary user))))"
   ]
  },
  {
   "cell_type": "code",
   "execution_count": 41,
   "metadata": {},
   "outputs": [
    {
     "data": {
      "text/plain": [
       "#multifn[profit-based-affiliate-fee 0x27052c05]"
      ]
     },
     "execution_count": 41,
     "metadata": {},
     "output_type": "execute_result"
    }
   ],
   "source": [
    "; A multimethod that implements the above business rules table\n",
    "\n",
    "(defmulti profit-based-affiliate-fee \n",
    "    fee-category) \n",
    "\n",
    "(defmethod profit-based-affiliate-fee [\"mint.com\" :rating/bronze] [user] \n",
    "    (fee-amount 0.03M user))\n",
    "\n",
    "(defmethod profit-based-affiliate-fee [\"mint.com\" :rating/silver] [user] \n",
    "    (fee-amount 0.04M user))\n",
    "\n",
    "(defmethod profit-based-affiliate-fee [\"mint.com\" :rating/gold] [user] \n",
    "    (fee-amount 0.05M user))\n",
    "\n",
    "(defmethod profit-based-affiliate-fee [\"mint.com\" :rating/platinum] [user] \n",
    "    (fee-amount 0.05M user))\n",
    "\n",
    "(defmethod profit-based-affiliate-fee [\"google.com\" :rating/gold] [user] \n",
    "    (fee-amount 0.03M user))\n",
    "\n",
    "(defmethod profit-based-affiliate-fee [\"google.com\" :rating/platinum] [user] \n",
    "    (fee-amount 0.03M user))\n",
    "\n",
    "(defmethod profit-based-affiliate-fee :default [user] \n",
    "    (fee-amount 0.02M user))"
   ]
  },
  {
   "cell_type": "code",
   "execution_count": 31,
   "metadata": {},
   "outputs": [
    {
     "data": {
      "text/plain": [
       "(30.0000M 32.0000M 27.0000M 14.0000M)"
      ]
     },
     "execution_count": 31,
     "metadata": {},
     "output_type": "execute_result"
    }
   ],
   "source": [
    "; Testing the multimethod with the 4 initial users\n",
    "\n",
    "(map profit-based-affiliate-fee [user-1 user-2 user-3 user-4])\n"
   ]
  },
  {
   "cell_type": "markdown",
   "metadata": {},
   "source": [
    "### Subtype polymorphism using multimethods"
   ]
  },
  {
   "cell_type": "markdown",
   "metadata": {},
   "source": [
    "Building type hierarchies with 'derive'"
   ]
  },
  {
   "cell_type": "code",
   "execution_count": 12,
   "metadata": {},
   "outputs": [
    {
     "data": {
      "text/plain": [
       "nil"
      ]
     },
     "execution_count": 12,
     "metadata": {},
     "output_type": "execute_result"
    }
   ],
   "source": [
    "; Using :rating/ANY as root type for all ratings\n",
    "\n",
    "(derive :rating/basic :rating/ANY) \n",
    "(derive :rating/premier :rating/ANY)"
   ]
  },
  {
   "cell_type": "code",
   "execution_count": 15,
   "metadata": {},
   "outputs": [
    {
     "data": {
      "text/plain": [
       "nil"
      ]
     },
     "execution_count": 15,
     "metadata": {},
     "output_type": "execute_result"
    }
   ],
   "source": [
    "; Deriving the basic 'class'\n",
    "\n",
    "(derive :rating/bronze :rating/basic) \n",
    "(derive :rating/silver :rating/basic) \n"
   ]
  },
  {
   "cell_type": "code",
   "execution_count": 16,
   "metadata": {},
   "outputs": [
    {
     "data": {
      "text/plain": [
       "nil"
      ]
     },
     "execution_count": 16,
     "metadata": {},
     "output_type": "execute_result"
    }
   ],
   "source": [
    "; Deriving the premier 'class'\n",
    "\n",
    "(derive :rating/gold :rating/premier)\n",
    "(derive :rating/platinum :rating/premier)\n"
   ]
  },
  {
   "cell_type": "markdown",
   "metadata": {},
   "source": [
    "Inspecting the newly created hierarchy with the following keywords"
   ]
  },
  {
   "cell_type": "code",
   "execution_count": 17,
   "metadata": {},
   "outputs": [
    {
     "data": {
      "text/plain": [
       "true"
      ]
     },
     "execution_count": 17,
     "metadata": {},
     "output_type": "execute_result"
    }
   ],
   "source": [
    "(isa? :rating/gold :rating/premier)"
   ]
  },
  {
   "cell_type": "code",
   "execution_count": 24,
   "metadata": {},
   "outputs": [
    {
     "data": {
      "text/plain": [
       "true"
      ]
     },
     "execution_count": 24,
     "metadata": {},
     "output_type": "execute_result"
    }
   ],
   "source": [
    "; isa? understands transitive relationships, too\n",
    "\n",
    "(isa? :rating/gold :rating/ANY) "
   ]
  },
  {
   "cell_type": "code",
   "execution_count": 19,
   "metadata": {},
   "outputs": [
    {
     "data": {
      "text/plain": [
       "false"
      ]
     },
     "execution_count": 19,
     "metadata": {},
     "output_type": "execute_result"
    }
   ],
   "source": [
    "(isa? :rating/ANY :rating/premier)"
   ]
  },
  {
   "cell_type": "code",
   "execution_count": 25,
   "metadata": {},
   "outputs": [
    {
     "data": {
      "text/plain": [
       "true"
      ]
     },
     "execution_count": 25,
     "metadata": {},
     "output_type": "execute_result"
    }
   ],
   "source": [
    "; Types are always kinds of themselves.\n",
    "\n",
    "(isa? :rating/gold :rating/gold) "
   ]
  },
  {
   "cell_type": "code",
   "execution_count": 26,
   "metadata": {},
   "outputs": [
    {
     "data": {
      "text/plain": [
       "#{:rating/ANY}"
      ]
     },
     "execution_count": 26,
     "metadata": {},
     "output_type": "execute_result"
    }
   ],
   "source": [
    "; Ancestors returns parents and their parents\n",
    "\n",
    "(parents :rating/premier) "
   ]
  },
  {
   "cell_type": "code",
   "execution_count": 22,
   "metadata": {},
   "outputs": [
    {
     "data": {
      "text/plain": [
       "#{:rating/ANY :rating/premier}"
      ]
     },
     "execution_count": 22,
     "metadata": {},
     "output_type": "execute_result"
    }
   ],
   "source": [
    "(ancestors :rating/gold) "
   ]
  },
  {
   "cell_type": "code",
   "execution_count": 27,
   "metadata": {},
   "outputs": [
    {
     "data": {
      "text/plain": [
       "#{:rating/basic :rating/bronze :rating/gold :rating/premier :rating/silver :rating/platinum}"
      ]
     },
     "execution_count": 27,
     "metadata": {},
     "output_type": "execute_result"
    }
   ],
   "source": [
    "; Desendants returns children and their children\n",
    "\n",
    "(descendants :rating/ANY) "
   ]
  },
  {
   "cell_type": "code",
   "execution_count": 28,
   "metadata": {},
   "outputs": [
    {
     "data": {
      "text/plain": [
       "#multifn[greet-user 0xe4cdab7]"
      ]
     },
     "execution_count": 28,
     "metadata": {},
     "output_type": "execute_result"
    }
   ],
   "source": [
    "; Using the last type hierarchy to create a new multimethod\n",
    "\n",
    "(defmulti greet-user :rating)\n",
    "\n",
    "(defmethod greet-user :rating/basic [user]\n",
    "    (str \"Hello \" (:login user) \\.))\n",
    "\n",
    "(defmethod greet-user :rating/premier [user]\n",
    "    (str \"Welcome, \" (:login user) \", valued affiliate member!\"))\n"
   ]
  },
  {
   "cell_type": "code",
   "execution_count": 32,
   "metadata": {},
   "outputs": [
    {
     "data": {
      "text/plain": [
       "(\"Hello rob.\" \"Hello gordon.\" \"Welcome, kyle, valued affiliate member!\" \"Welcome, celeste, valued affiliate member!\")"
      ]
     },
     "execution_count": 32,
     "metadata": {},
     "output_type": "execute_result"
    }
   ],
   "source": [
    "; Testing the new multimethod with the 4 initial users\n",
    "\n",
    "(map greet-user [user-1 user-2 user-3 user-4])"
   ]
  },
  {
   "cell_type": "markdown",
   "metadata": {},
   "source": [
    "Refactoring the profit-based-affiliate-fee function to use typw hierarchies and multimethods"
   ]
  },
  {
   "cell_type": "code",
   "execution_count": 33,
   "metadata": {},
   "outputs": [
    {
     "data": {
      "text/plain": [
       "#multifn[profit-based-affiliate-fee 0x27052c05]"
      ]
     },
     "execution_count": 33,
     "metadata": {},
     "output_type": "execute_result"
    }
   ],
   "source": [
    "; Removing the methods that will be refactored\n",
    "\n",
    "(remove-method profit-based-affiliate-fee [\"mint.com\" :rating/gold]) \n",
    "(remove-method profit-based-affiliate-fee [\"mint.com\" :rating/platinum])\n",
    "(remove-method profit-based-affiliate-fee [\"google.com\" :rating/gold])\n",
    "(remove-method profit-based-affiliate-fee [\"google.com\" :rating/platinum])\n"
   ]
  },
  {
   "cell_type": "code",
   "execution_count": 40,
   "metadata": {},
   "outputs": [
    {
     "data": {
      "text/plain": [
       "#multifn[profit-based-affiliate-fee 0x27052c05]"
      ]
     },
     "execution_count": 40,
     "metadata": {},
     "output_type": "execute_result"
    }
   ],
   "source": [
    "; Defining the new methods that use the custom type hierarchy\n",
    "\n",
    "(defmethod profit-based-affiliate-fee [\"mint.com\" :rating/premier] [user] \n",
    "    (fee-amount 0.05M user))\n",
    "\n",
    "(defmethod profit-based-affiliate-fee [\"google.com\" :rating/premier] [user] \n",
    "    (fee-amount 0.03M user))"
   ]
  },
  {
   "cell_type": "code",
   "execution_count": 36,
   "metadata": {},
   "outputs": [
    {
     "data": {
      "text/plain": [
       "(30.0000M 32.0000M 27.0000M 14.0000M)"
      ]
     },
     "execution_count": 36,
     "metadata": {},
     "output_type": "execute_result"
    }
   ],
   "source": [
    "; Testing the refactored multimethod\n",
    "\n",
    "(map profit-based-affiliate-fee [user-1 user-2 user-3 user-4]) "
   ]
  },
  {
   "cell_type": "markdown",
   "metadata": {},
   "source": [
    "Resolving method ambiguities"
   ]
  },
  {
   "cell_type": "code",
   "execution_count": 39,
   "metadata": {},
   "outputs": [
    {
     "data": {
      "text/plain": [
       "#multifn[size-up 0x7161b55a]"
      ]
     },
     "execution_count": 39,
     "metadata": {},
     "output_type": "execute_result"
    }
   ],
   "source": [
    "; Defining a multimethod with potential conflicts\n",
    "\n",
    "(defmulti size-up (fn [observer observed]\n",
    "    [(:rating observer) (:rating observed)]))\n",
    "\n",
    "(defmethod size-up [:rating/platinum :rating/ANY] [_ observed] \n",
    "    (str (:login observed) \" seems scrawny.\"))\n",
    "\n",
    "(defmethod size-up [:rating/ANY :rating/platinum] [_ observed] \n",
    "    (str (:login observed) \" shimmers with an unearthly light.\"))"
   ]
  },
  {
   "cell_type": "code",
   "execution_count": 42,
   "metadata": {},
   "outputs": [
    {
     "name": "stderr",
     "output_type": "stream",
     "text": [
      "Execution error (IllegalArgumentException) at user/eval4347 (REPL:3).\n",
      "Multiple methods in multimethod 'size-up' match dispatch value: [:rating/platinum :rating/platinum] -> [:rating/ANY :rating/platinum] and [:rating/platinum :rating/ANY], and neither is preferred\n"
     ]
    },
    {
     "ename": "class java.lang.IllegalArgumentException",
     "evalue": "",
     "output_type": "error",
     "traceback": [
      "MultiFn.java:   179 clojure.lang.MultiFn/findAndCacheBestMethod",
      "MultiFn.java:   150 clojure.lang.MultiFn/getMethod",
      "MultiFn.java:   154 clojure.lang.MultiFn/getFn",
      "MultiFn.java:   233 clojure.lang.MultiFn/invoke",
      "    core.clj:  3214 clojure.core$eval/invokeStatic",
      "    core.clj:  3210 clojure.core$eval/invoke",
      "    main.clj:   437 clojure.main$repl$read_eval_print__9086$fn__9089/invoke",
      "    main.clj:   458 clojure.main$repl$fn__9095/invoke",
      "    main.clj:   368 clojure.main$repl/doInvoke",
      " RestFn.java:  1523 clojure.lang.RestFn/invoke",
      "    AFn.java:    22 clojure.lang.AFn/run",
      "    AFn.java:    22 clojure.lang.AFn/run",
      " Thread.java:   745 java.lang.Thread/run"
     ]
    }
   ],
   "source": [
    "; Testing the above multimethod (it will throw an exception)\n",
    "\n",
    "(size-up {:rating :rating/platinum} user-4) "
   ]
  },
  {
   "cell_type": "code",
   "execution_count": 44,
   "metadata": {},
   "outputs": [
    {
     "data": {
      "text/plain": [
       "#multifn[size-up 0x7161b55a]"
      ]
     },
     "execution_count": 44,
     "metadata": {},
     "output_type": "execute_result"
    }
   ],
   "source": [
    "; Resolving the ambiguity with the 'prefer' keyword\n",
    "\n",
    "(prefer-method size-up [:rating/ANY :rating/platinum] [:rating/platinum :rating/ANY]) \n"
   ]
  },
  {
   "cell_type": "code",
   "execution_count": 45,
   "metadata": {},
   "outputs": [
    {
     "data": {
      "text/plain": [
       "\"celeste shimmers with an unearthly light.\""
      ]
     },
     "execution_count": 45,
     "metadata": {},
     "output_type": "execute_result"
    }
   ],
   "source": [
    "; Testing the above multimethod (it will work now)\n",
    "\n",
    "; The method with '[:rating/ANY :rating/platinum]' signature is preferred\n",
    "(size-up {:rating :rating/platinum} user-4) "
   ]
  },
  {
   "cell_type": "code",
   "execution_count": 47,
   "metadata": {},
   "outputs": [
    {
     "data": {
      "text/plain": [
       "{[:rating/ANY :rating/platinum] #{[:rating/platinum :rating/ANY]}}"
      ]
     },
     "execution_count": 47,
     "metadata": {},
     "output_type": "execute_result"
    }
   ],
   "source": [
    "; Listing all preferred implementations\n",
    "\n",
    "(prefers size-up) "
   ]
  },
  {
   "cell_type": "markdown",
   "metadata": {},
   "source": [
    "User-defined hierarchies"
   ]
  },
  {
   "cell_type": "code",
   "execution_count": 57,
   "metadata": {},
   "outputs": [
    {
     "data": {
      "text/plain": [
       "{:parents {}, :descendants {}, :ancestors {}}"
      ]
     },
     "execution_count": 57,
     "metadata": {},
     "output_type": "execute_result"
    }
   ],
   "source": [
    "; Hierarchies are just ordinary maps.\n",
    "\n",
    "(def myhier (make-hierarchy))\n",
    "myhier \n"
   ]
  },
  {
   "cell_type": "code",
   "execution_count": 60,
   "metadata": {},
   "outputs": [
    {
     "data": {
      "text/plain": [
       "{:parents {:a #{:letter}}, :ancestors {:a #{:letter}}, :descendants {:letter #{:a}}}"
      ]
     },
     "execution_count": 60,
     "metadata": {},
     "output_type": "execute_result"
    }
   ],
   "source": [
    "; Adding a new element to a hierarchy don't mutate the original one\n",
    "\n",
    "(derive myhier :a :letter) \n"
   ]
  },
  {
   "cell_type": "code",
   "execution_count": 61,
   "metadata": {},
   "outputs": [
    {
     "data": {
      "text/plain": [
       "{:parents {}, :descendants {}, :ancestors {}}"
      ]
     },
     "execution_count": 61,
     "metadata": {},
     "output_type": "execute_result"
    }
   ],
   "source": [
    "; The original hierarchy is the same\n",
    "\n",
    "myhier"
   ]
  },
  {
   "cell_type": "code",
   "execution_count": 62,
   "metadata": {},
   "outputs": [
    {
     "data": {
      "text/plain": [
       "#'user/myhier"
      ]
     },
     "execution_count": 62,
     "metadata": {},
     "output_type": "execute_result"
    }
   ],
   "source": [
    "; To create ammutable hierarchy, it should be defined as a Var\n",
    " \n",
    "(def myhier \n",
    "    (-> myhier \n",
    "        (derive :a :letter) \n",
    "        (derive :b :letter)\n",
    "        (derive :c :letter)))\n"
   ]
  },
  {
   "cell_type": "code",
   "execution_count": 63,
   "metadata": {},
   "outputs": [
    {
     "data": {
      "text/plain": [
       "true"
      ]
     },
     "execution_count": 63,
     "metadata": {},
     "output_type": "execute_result"
    }
   ],
   "source": [
    "; The isa? method also works with custom hierarchies\n",
    "\n",
    "(isa? myhier :a :letter) "
   ]
  },
  {
   "cell_type": "code",
   "execution_count": 64,
   "metadata": {},
   "outputs": [
    {
     "data": {
      "text/plain": [
       "#{:letter}"
      ]
     },
     "execution_count": 64,
     "metadata": {},
     "output_type": "execute_result"
    }
   ],
   "source": [
    "; The parents method also works with custom hierarchies\n",
    "\n",
    "(parents myhier :a) "
   ]
  },
  {
   "cell_type": "code",
   "execution_count": 65,
   "metadata": {},
   "outputs": [
    {
     "data": {
      "text/plain": [
       "#multifn[letter? 0x58ec970c]"
      ]
     },
     "execution_count": 65,
     "metadata": {},
     "output_type": "execute_result"
    }
   ],
   "source": [
    "; A multimethod that accepts a custom hierarchie as a parameter (as a Var)\n",
    "\n",
    "(defmulti letter? identity :hierarchy #'myhier) \n",
    "\n",
    "(defmethod letter? :letter [_] true)\n"
   ]
  },
  {
   "cell_type": "code",
   "execution_count": 55,
   "metadata": {},
   "outputs": [
    {
     "name": "stderr",
     "output_type": "stream",
     "text": [
      "Execution error (IllegalArgumentException) at user/eval4371 (REPL:1).\n",
      "No method in multimethod 'letter?' for dispatch value: :d\n"
     ]
    },
    {
     "ename": "class java.lang.IllegalArgumentException",
     "evalue": "",
     "output_type": "error",
     "traceback": [
      "MultiFn.java:   156 clojure.lang.MultiFn/getFn",
      "MultiFn.java:   229 clojure.lang.MultiFn/invoke",
      "    core.clj:  3214 clojure.core$eval/invokeStatic",
      "    core.clj:  3210 clojure.core$eval/invoke",
      "    main.clj:   437 clojure.main$repl$read_eval_print__9086$fn__9089/invoke",
      "    main.clj:   458 clojure.main$repl$fn__9095/invoke",
      "    main.clj:   368 clojure.main$repl/doInvoke",
      " RestFn.java:  1523 clojure.lang.RestFn/invoke",
      "    AFn.java:    22 clojure.lang.AFn/run",
      "    AFn.java:    22 clojure.lang.AFn/run",
      " Thread.java:   745 java.lang.Thread/run"
     ]
    }
   ],
   "source": [
    "; Calling the multimethod with an item that doesn't exist in the hierarchy (It will fail)\n",
    "\n",
    "(letter? :d)"
   ]
  },
  {
   "cell_type": "code",
   "execution_count": 66,
   "metadata": {},
   "outputs": [
    {
     "data": {
      "text/plain": [
       "true"
      ]
     },
     "execution_count": 66,
     "metadata": {},
     "output_type": "execute_result"
    }
   ],
   "source": [
    "; Adding the missing element and calling the multimethod again (It will work now)\n",
    "\n",
    "(def myhier (derive myhier :d :letter)) \n",
    "\n",
    "(letter? :d)\n"
   ]
  }
 ],
 "metadata": {
  "interpreter": {
   "hash": "916dbcbb3f70747c44a77c7bcd40155683ae19c65e1c03b4aa3499c5328201f1"
  },
  "kernelspec": {
   "display_name": "Clojure (clojupyter=0.3.2=1)",
   "language": "clojure",
   "name": "python397jvsc74a57bd089a790bea3b9cadff6bf73491f7cf161e4e94bfc015afe6a535623fbe4142b79"
  },
  "language_info": {
   "file_extension": ".clj",
   "mimetype": "text/x-clojure",
   "name": "clojure",
   "version": "1.10.1"
  },
  "orig_nbformat": 4
 },
 "nbformat": 4,
 "nbformat_minor": 2
}
