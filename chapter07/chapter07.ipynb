{
 "cells": [
  {
   "cell_type": "markdown",
   "metadata": {},
   "source": [
    "# Evolving Clojure through macros"
   ]
  },
  {
   "cell_type": "markdown",
   "metadata": {},
   "source": [
    "### Textual substitution\n"
   ]
  },
  {
   "cell_type": "code",
   "execution_count": 1,
   "metadata": {},
   "outputs": [
    {
     "data": {
      "text/plain": [
       "1"
      ]
     },
     "execution_count": 1,
     "metadata": {},
     "output_type": "execute_result"
    }
   ],
   "source": [
    "; Changing the value of 'a-ref' with the standard 'ref-set- function\n",
    "\n",
    "(def a-ref (ref 0))\n",
    "\n",
    "(dosync \n",
    "    (ref-set a-ref 1))"
   ]
  },
  {
   "cell_type": "code",
   "execution_count": 2,
   "metadata": {},
   "outputs": [
    {
     "data": {
      "text/plain": [
       "2"
      ]
     },
     "execution_count": 2,
     "metadata": {},
     "output_type": "execute_result"
    }
   ],
   "source": [
    "; Changing the value of a ref with a new macro 'sync-set'\n",
    "\n",
    "(defmacro sync-set [r v]\n",
    "    (list 'dosync \n",
    "        (list 'ref-set r v)))\n",
    "\n",
    "(sync-set a-ref 2)"
   ]
  },
  {
   "cell_type": "markdown",
   "metadata": {},
   "source": [
    "### The 'unless' example"
   ]
  },
  {
   "cell_type": "code",
   "execution_count": 3,
   "metadata": {},
   "outputs": [
    {
     "data": {
      "text/plain": [
       "\"\""
      ]
     },
     "execution_count": 3,
     "metadata": {},
     "output_type": "execute_result"
    }
   ],
   "source": [
    "; The general form of an if condition is as follows\n",
    "\n",
    "\"\"\"\n",
    "(if test then else)\n",
    "\"\"\""
   ]
  },
  {
   "cell_type": "code",
   "execution_count": 4,
   "metadata": {},
   "outputs": [
    {
     "data": {
      "text/plain": [
       "#'user/exhibits-oddity?-standard"
      ]
     },
     "execution_count": 4,
     "metadata": {},
     "output_type": "execute_result"
    }
   ],
   "source": [
    "; Cheching if a number is odd with the 'odd?' built-in function\n",
    "\n",
    "(defn exhibits-oddity?-standard [x]\n",
    "    (if (odd? x)\n",
    "        (println \"Very odd!\")))\n"
   ]
  },
  {
   "cell_type": "markdown",
   "metadata": {},
   "source": [
    "The testing executes as expected"
   ]
  },
  {
   "cell_type": "code",
   "execution_count": 5,
   "metadata": {},
   "outputs": [
    {
     "name": "stdout",
     "output_type": "stream",
     "text": [
      "Very odd!\n"
     ]
    },
    {
     "data": {
      "text/plain": [
       "nil"
      ]
     },
     "execution_count": 5,
     "metadata": {},
     "output_type": "execute_result"
    }
   ],
   "source": [
    "(exhibits-oddity?-standard 11)"
   ]
  },
  {
   "cell_type": "code",
   "execution_count": 6,
   "metadata": {},
   "outputs": [
    {
     "data": {
      "text/plain": [
       "nil"
      ]
     },
     "execution_count": 6,
     "metadata": {},
     "output_type": "execute_result"
    }
   ],
   "source": [
    "(exhibits-oddity?-standard 10)"
   ]
  },
  {
   "cell_type": "code",
   "execution_count": 17,
   "metadata": {},
   "outputs": [
    {
     "data": {
      "text/plain": [
       "#'user/exhibits-oddity?-function"
      ]
     },
     "execution_count": 17,
     "metadata": {},
     "output_type": "execute_result"
    }
   ],
   "source": [
    "; Cheching if a number is odd with an user-defined function 'unless-function'\n",
    "\n",
    "(defn unless-function [test then]\n",
    "    (if (not test)\n",
    "        then))\n",
    "\n",
    "(defn exhibits-oddity?-function [x]\n",
    "    (unless-function (even? x)\n",
    "        (println \"Very odd, indeed!\")))\n"
   ]
  },
  {
   "cell_type": "markdown",
   "metadata": {},
   "source": [
    "THe testing shows unexpected results"
   ]
  },
  {
   "cell_type": "code",
   "execution_count": 18,
   "metadata": {},
   "outputs": [
    {
     "name": "stdout",
     "output_type": "stream",
     "text": [
      "Very odd, indeed!\n"
     ]
    },
    {
     "data": {
      "text/plain": [
       "nil"
      ]
     },
     "execution_count": 18,
     "metadata": {},
     "output_type": "execute_result"
    }
   ],
   "source": [
    "(exhibits-oddity?-function 11)"
   ]
  },
  {
   "cell_type": "code",
   "execution_count": 19,
   "metadata": {},
   "outputs": [
    {
     "name": "stdout",
     "output_type": "stream",
     "text": [
      "Very odd, indeed!\n"
     ]
    },
    {
     "data": {
      "text/plain": [
       "nil"
      ]
     },
     "execution_count": 19,
     "metadata": {},
     "output_type": "execute_result"
    }
   ],
   "source": [
    "; This happens since all arguments of 'exhibits-oddity?-function' \n",
    "; are evaluated before the 'if' expression in 'unless' even begins\n",
    "\n",
    "(exhibits-oddity?-function 10)"
   ]
  },
  {
   "cell_type": "code",
   "execution_count": 20,
   "metadata": {},
   "outputs": [
    {
     "data": {
      "text/plain": [
       "#'user/exhibits-oddity?-function2"
      ]
     },
     "execution_count": 20,
     "metadata": {},
     "output_type": "execute_result"
    }
   ],
   "source": [
    "; Cheching if a number is odd with an user-defined function 'unless-function2'\n",
    "; and using an anonymous function as its 2nd argument\n",
    "\n",
    "(defn unless-function2 [test then-thunk]\n",
    "    (if (not test)\n",
    "        (then-thunk)))\n",
    "\n",
    "\n",
    "(defn exhibits-oddity?-function2 [x]\n",
    "    (unless-function2 (even? x)\n",
    "        #(println \"Rather odd!\")))"
   ]
  },
  {
   "cell_type": "code",
   "execution_count": 21,
   "metadata": {},
   "outputs": [
    {
     "name": "stdout",
     "output_type": "stream",
     "text": [
      "Rather odd!\n"
     ]
    },
    {
     "data": {
      "text/plain": [
       "nil"
      ]
     },
     "execution_count": 21,
     "metadata": {},
     "output_type": "execute_result"
    }
   ],
   "source": [
    "(exhibits-oddity?-function2 11)"
   ]
  },
  {
   "cell_type": "code",
   "execution_count": 23,
   "metadata": {},
   "outputs": [
    {
     "data": {
      "text/plain": [
       "nil"
      ]
     },
     "execution_count": 23,
     "metadata": {},
     "output_type": "execute_result"
    }
   ],
   "source": [
    "; This works, but wrapping the argument with an anonymous function\n",
    "; is not the best solution in every case\n",
    "\n",
    "(exhibits-oddity?-function2 10)"
   ]
  },
  {
   "cell_type": "code",
   "execution_count": 25,
   "metadata": {},
   "outputs": [
    {
     "data": {
      "text/plain": [
       "#'user/exhibits-oddity?-macro"
      ]
     },
     "execution_count": 25,
     "metadata": {},
     "output_type": "execute_result"
    }
   ],
   "source": [
    "; Cheching if a number is odd with an user-defined macro 'unless-macro'\n",
    "\n",
    "(defmacro unless-macro [test then]\n",
    "    (list 'if (list 'not test)\n",
    "        then))\n",
    "\n",
    "(defn exhibits-oddity?-macro [x]\n",
    "    (unless-macro (even? x)\n",
    "        (println \"Very odd, indeed!\")))\n"
   ]
  },
  {
   "cell_type": "code",
   "execution_count": 26,
   "metadata": {},
   "outputs": [
    {
     "name": "stdout",
     "output_type": "stream",
     "text": [
      "Very odd, indeed!\n"
     ]
    },
    {
     "data": {
      "text/plain": [
       "nil"
      ]
     },
     "execution_count": 26,
     "metadata": {},
     "output_type": "execute_result"
    }
   ],
   "source": [
    "(exhibits-oddity?-macro 11)"
   ]
  },
  {
   "cell_type": "code",
   "execution_count": 27,
   "metadata": {},
   "outputs": [
    {
     "data": {
      "text/plain": [
       "nil"
      ]
     },
     "execution_count": 27,
     "metadata": {},
     "output_type": "execute_result"
    }
   ],
   "source": [
    "(exhibits-oddity?-macro 10)"
   ]
  },
  {
   "cell_type": "code",
   "execution_count": 29,
   "metadata": {},
   "outputs": [
    {
     "data": {
      "text/plain": [
       "(if (not (even? x)) (println \"Very odd, indeed!\"))"
      ]
     },
     "execution_count": 29,
     "metadata": {},
     "output_type": "execute_result"
    }
   ],
   "source": [
    "; Checking the resulting s-expression with 'macroexpand'\n",
    "\n",
    "(macroexpand \n",
    "    '(unless (even? x) (println \"Very odd, indeed!\"))) "
   ]
  },
  {
   "cell_type": "markdown",
   "metadata": {},
   "source": [
    "### Macro templates"
   ]
  },
  {
   "cell_type": "code",
   "execution_count": 1,
   "metadata": {},
   "outputs": [
    {
     "data": {
      "text/plain": [
       "#'user/unless"
      ]
     },
     "execution_count": 1,
     "metadata": {},
     "output_type": "execute_result"
    }
   ],
   "source": [
    "; The original unless macro\n",
    "\n",
    "(defmacro unless [test then]\n",
    "    (list 'if (list 'not test)\n",
    "        then))\n"
   ]
  },
  {
   "cell_type": "code",
   "execution_count": 2,
   "metadata": {},
   "outputs": [
    {
     "data": {
      "text/plain": [
       "#'user/unless"
      ]
     },
     "execution_count": 2,
     "metadata": {},
     "output_type": "execute_result"
    }
   ],
   "source": [
    "; Rewriting the last macro using '`' (syntax quote character) and '~' (syntax unquote character)\n",
    "\n",
    "(defmacro unless [test then]\n",
    "    `(if (not ~test)\n",
    "        ~then))\n"
   ]
  },
  {
   "cell_type": "code",
   "execution_count": 3,
   "metadata": {},
   "outputs": [
    {
     "data": {
      "text/plain": [
       "#'user/unless"
      ]
     },
     "execution_count": 3,
     "metadata": {},
     "output_type": "execute_result"
    }
   ],
   "source": [
    "; Generalizing the macro to take an arbitrary expression as arg\n",
    "\n",
    "(defmacro unless [test & exprs]\n",
    "    `(if (not ~test)\n",
    "        (do ~exprs)))\n"
   ]
  },
  {
   "cell_type": "code",
   "execution_count": 4,
   "metadata": {},
   "outputs": [
    {
     "name": "stdout",
     "output_type": "stream",
     "text": [
      "Odd!\n",
      "Very odd!\n"
     ]
    },
    {
     "name": "stderr",
     "output_type": "stream",
     "text": [
      "Execution error (NullPointerException) at user/exhibits-oddity? (REPL:5).\n",
      "null\n"
     ]
    },
    {
     "ename": "class java.lang.NullPointerException",
     "evalue": "",
     "output_type": "error",
     "traceback": [
      "   core.clj:  3214 clojure.core$eval/invokeStatic",
      "   core.clj:  3210 clojure.core$eval/invoke",
      "   main.clj:   437 clojure.main$repl$read_eval_print__9086$fn__9089/invoke",
      "   main.clj:   458 clojure.main$repl$fn__9095/invoke",
      "   main.clj:   368 clojure.main$repl/doInvoke",
      "RestFn.java:  1523 clojure.lang.RestFn/invoke",
      "   AFn.java:    22 clojure.lang.AFn/run",
      "   AFn.java:    22 clojure.lang.AFn/run",
      "Thread.java:   745 java.lang.Thread/run"
     ]
    }
   ],
   "source": [
    "; Using the redefined macro in the following function\n",
    "; (it works, but also throws the beloved NullPointerException)\n",
    "\n",
    "(defn exhibits-oddity? [x]\n",
    "    (unless (even? x)\n",
    "        (do\n",
    "            (println \"Odd!\")\n",
    "            (println \"Very odd!\"))))\n",
    "\n",
    "(exhibits-oddity? 11)"
   ]
  },
  {
   "cell_type": "code",
   "execution_count": null,
   "metadata": {},
   "outputs": [
    {
     "data": {
      "text/plain": [
       "(if (clojure.core/not (even? x)) (do ((println \"Odd!\") (println \"Very odd!\"))))"
      ]
     },
     "execution_count": 8,
     "metadata": {},
     "output_type": "execute_result"
    }
   ],
   "source": [
    "; Expanding the macro to see any errors\n",
    "\n",
    "(macroexpand-1 '(unless (even? x) \n",
    "    (println \"Odd!\") \n",
    "    (println \"Very odd!\")))\n",
    "\n"
   ]
  },
  {
   "cell_type": "markdown",
   "metadata": {},
   "source": [
    "```\n",
    "From the output, there's an extra pair of parentheses:\n",
    "    do ((println \"Odd!\") (println \"Very odd!\"))\n",
    "When the expected expression is:\n",
    "    do (println \"Odd!\") (println \"Very odd!\")\n",
    "The first expression evaluates to:\n",
    "    (nil nil)\n",
    "Which is interpreted as a function call, and since the argument is nil, \n",
    "the NullPointerException is thrown.\n",
    "```"
   ]
  },
  {
   "cell_type": "code",
   "execution_count": 5,
   "metadata": {},
   "outputs": [
    {
     "data": {
      "text/plain": [
       "#'user/unless"
      ]
     },
     "execution_count": 5,
     "metadata": {},
     "output_type": "execute_result"
    }
   ],
   "source": [
    "; Usint the splice reader macro ('~@') to 'unpack' a list of args\n",
    "(defmacro unless [test & exprs]\n",
    "    `(if (not ~test)\n",
    "        (do ~@exprs)))\n"
   ]
  },
  {
   "cell_type": "code",
   "execution_count": 7,
   "metadata": {},
   "outputs": [
    {
     "name": "stdout",
     "output_type": "stream",
     "text": [
      "Odd!\n",
      "Very odd!\n"
     ]
    },
    {
     "data": {
      "text/plain": [
       "nil"
      ]
     },
     "execution_count": 7,
     "metadata": {},
     "output_type": "execute_result"
    }
   ],
   "source": [
    "; Using the redefined macro in the following function\n",
    "; (it works, and the NullPointerException is removed)\n",
    "\n",
    "(defn exhibits-oddity? [x]\n",
    "    (unless (even? x)\n",
    "        (do\n",
    "            (println \"Odd!\")\n",
    "            (println \"Very odd!\"))))\n",
    "\n",
    "(exhibits-oddity? 11)"
   ]
  },
  {
   "cell_type": "markdown",
   "metadata": {},
   "source": [
    "### Generating names"
   ]
  },
  {
   "cell_type": "code",
   "execution_count": 12,
   "metadata": {},
   "outputs": [
    {
     "data": {
      "text/plain": [
       "#'user/def-logged-fn"
      ]
     },
     "execution_count": 12,
     "metadata": {},
     "output_type": "execute_result"
    }
   ],
   "source": [
    "; A badly defined macro\n",
    "\n",
    "(defmacro def-logged-fn [fn-name args & body]\n",
    "    `(defn ~fn-name ~args\n",
    "        (let [now (System/currentTimeMillis)]\n",
    "            (println \"[\" now \"] Call to\" (str (var ~fn-name)))\n",
    "            ~@body)))\n"
   ]
  },
  {
   "cell_type": "code",
   "execution_count": 15,
   "metadata": {},
   "outputs": [
    {
     "name": "stderr",
     "output_type": "stream",
     "text": [
      "Syntax error macroexpanding clojure.core/let at (REPL:3:1).\n",
      "user/now - failed: simple-symbol? at: [:bindings :form :local-symbol] spec: :clojure.core.specs.alpha/local-name\n",
      "user/now - failed: vector? at: [:bindings :form :seq-destructure] spec: :clojure.core.specs.alpha/seq-binding-form\n",
      "user/now - failed: map? at: [:bindings :form :map-destructure] spec: :clojure.core.specs.alpha/map-bindings\n",
      "user/now - failed: map? at: [:bindings :form :map-destructure] spec: :clojure.core.specs.alpha/map-special-binding\n"
     ]
    },
    {
     "ename": "class clojure.lang.Compiler$CompilerException",
     "evalue": "",
     "output_type": "error",
     "traceback": [
      "  alpha.clj:   705 clojure.spec.alpha$macroexpand_check/invokeStatic",
      "  alpha.clj:   697 clojure.spec.alpha$macroexpand_check/invoke",
      "   AFn.java:   156 clojure.lang.AFn/applyToHelper",
      "   AFn.java:   144 clojure.lang.AFn/applyTo",
      "   Var.java:   705 clojure.lang.Var/applyTo",
      "   core.clj:  3214 clojure.core$eval/invokeStatic",
      "   core.clj:  3210 clojure.core$eval/invoke",
      "   main.clj:   437 clojure.main$repl$read_eval_print__9086$fn__9089/invoke",
      "   main.clj:   458 clojure.main$repl$fn__9095/invoke",
      "   main.clj:   368 clojure.main$repl/doInvoke",
      "RestFn.java:  1523 clojure.lang.RestFn/invoke",
      "   AFn.java:    22 clojure.lang.AFn/run",
      "   AFn.java:    22 clojure.lang.AFn/run",
      "Thread.java:   745 java.lang.Thread/run"
     ]
    }
   ],
   "source": [
    "; Calling the last macro throws a syntax error\n",
    "\n",
    "(def-logged-fn printname [name]\n",
    "    (println \"hi\" name))\n"
   ]
  },
  {
   "cell_type": "code",
   "execution_count": 16,
   "metadata": {},
   "outputs": [
    {
     "data": {
      "text/plain": [
       "(clojure.core/defn printname [name] (clojure.core/let [user/now (java.lang.System/currentTimeMillis)] (clojure.core/println \"[\" user/now \"] Call to\" (clojure.core/str (var printname))) (println \"hi\" name)))"
      ]
     },
     "execution_count": 16,
     "metadata": {},
     "output_type": "execute_result"
    }
   ],
   "source": [
    "; When using macroexpand-1, it can be seen that 'now' \n",
    "; is being redefined as 'user/now', which isn't defined\n",
    "\n",
    "(macroexpand-1 '(def-logged-fn printname [name]\n",
    "    (println \"hi\" name)))\n"
   ]
  },
  {
   "cell_type": "code",
   "execution_count": 18,
   "metadata": {},
   "outputs": [
    {
     "data": {
      "text/plain": [
       "#'user/def-logged-fn"
      ]
     },
     "execution_count": 18,
     "metadata": {},
     "output_type": "execute_result"
    }
   ],
   "source": [
    "; Rewriting the macro to use the '#' reader macro that generates\n",
    "; unique names that won’t conflict with others\n",
    "\n",
    "(defmacro def-logged-fn [fn-name args & body]\n",
    "    `(defn ~fn-name ~args\n",
    "        (let [now# (System/currentTimeMillis)]\n",
    "            (println \"[\" now# \"] Call to\" (str (var ~fn-name)))\n",
    "            ~@body)))\n"
   ]
  },
  {
   "cell_type": "code",
   "execution_count": 21,
   "metadata": {},
   "outputs": [
    {
     "name": "stdout",
     "output_type": "stream",
     "text": [
      "[ 1642414687208 ] Call to #'user/printname\n",
      "hi deepthi\n"
     ]
    },
    {
     "data": {
      "text/plain": [
       "nil"
      ]
     },
     "execution_count": 21,
     "metadata": {},
     "output_type": "execute_result"
    }
   ],
   "source": [
    "; Calling the last macro now works as expected\n",
    "\n",
    "(def-logged-fn printname [name]\n",
    "    (println \"hi\" name))\n",
    "\n",
    "(printname \"deepthi\")"
   ]
  }
 ],
 "metadata": {
  "kernelspec": {
   "display_name": "Clojure (clojupyter=0.3.2=1)",
   "language": "clojure",
   "name": "python397jvsc74a57bd089a790bea3b9cadff6bf73491f7cf161e4e94bfc015afe6a535623fbe4142b79"
  },
  "language_info": {
   "file_extension": ".clj",
   "mimetype": "text/x-clojure",
   "name": "clojure",
   "version": "1.10.1"
  },
  "orig_nbformat": 4
 },
 "nbformat": 4,
 "nbformat_minor": 2
}
