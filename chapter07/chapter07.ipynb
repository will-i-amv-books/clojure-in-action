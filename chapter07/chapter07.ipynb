{
 "cells": [
  {
   "cell_type": "markdown",
   "metadata": {},
   "source": [
    "# Evolving Clojure through macros"
   ]
  },
  {
   "cell_type": "markdown",
   "metadata": {},
   "source": [
    "### Textual substitution\n"
   ]
  },
  {
   "cell_type": "code",
   "execution_count": 1,
   "metadata": {},
   "outputs": [
    {
     "data": {
      "text/plain": [
       "1"
      ]
     },
     "execution_count": 1,
     "metadata": {},
     "output_type": "execute_result"
    }
   ],
   "source": [
    "; Changing the value of 'a-ref' with the standard 'ref-set- function\n",
    "\n",
    "(def a-ref (ref 0))\n",
    "\n",
    "(dosync \n",
    "    (ref-set a-ref 1))"
   ]
  },
  {
   "cell_type": "code",
   "execution_count": 2,
   "metadata": {},
   "outputs": [
    {
     "data": {
      "text/plain": [
       "2"
      ]
     },
     "execution_count": 2,
     "metadata": {},
     "output_type": "execute_result"
    }
   ],
   "source": [
    "; Changing the value of a ref with a new macro 'sync-set'\n",
    "\n",
    "(defmacro sync-set [r v]\n",
    "    (list 'dosync \n",
    "        (list 'ref-set r v)))\n",
    "\n",
    "(sync-set a-ref 2)"
   ]
  },
  {
   "cell_type": "markdown",
   "metadata": {},
   "source": [
    "### The 'unless' example"
   ]
  },
  {
   "cell_type": "code",
   "execution_count": 3,
   "metadata": {},
   "outputs": [
    {
     "data": {
      "text/plain": [
       "\"\""
      ]
     },
     "execution_count": 3,
     "metadata": {},
     "output_type": "execute_result"
    }
   ],
   "source": [
    "; The general form of an if condition is as follows\n",
    "\n",
    "\"\"\"\n",
    "(if test then else)\n",
    "\"\"\""
   ]
  },
  {
   "cell_type": "code",
   "execution_count": 4,
   "metadata": {},
   "outputs": [
    {
     "data": {
      "text/plain": [
       "#'user/exhibits-oddity?-standard"
      ]
     },
     "execution_count": 4,
     "metadata": {},
     "output_type": "execute_result"
    }
   ],
   "source": [
    "; Cheching if a number is odd with the 'odd?' built-in function\n",
    "\n",
    "(defn exhibits-oddity?-standard [x]\n",
    "    (if (odd? x)\n",
    "        (println \"Very odd!\")))\n"
   ]
  },
  {
   "cell_type": "markdown",
   "metadata": {},
   "source": [
    "The testing executes as expected"
   ]
  },
  {
   "cell_type": "code",
   "execution_count": 5,
   "metadata": {},
   "outputs": [
    {
     "name": "stdout",
     "output_type": "stream",
     "text": [
      "Very odd!\n"
     ]
    },
    {
     "data": {
      "text/plain": [
       "nil"
      ]
     },
     "execution_count": 5,
     "metadata": {},
     "output_type": "execute_result"
    }
   ],
   "source": [
    "(exhibits-oddity?-standard 11)"
   ]
  },
  {
   "cell_type": "code",
   "execution_count": 6,
   "metadata": {},
   "outputs": [
    {
     "data": {
      "text/plain": [
       "nil"
      ]
     },
     "execution_count": 6,
     "metadata": {},
     "output_type": "execute_result"
    }
   ],
   "source": [
    "(exhibits-oddity?-standard 10)"
   ]
  },
  {
   "cell_type": "code",
   "execution_count": 17,
   "metadata": {},
   "outputs": [
    {
     "data": {
      "text/plain": [
       "#'user/exhibits-oddity?-function"
      ]
     },
     "execution_count": 17,
     "metadata": {},
     "output_type": "execute_result"
    }
   ],
   "source": [
    "; Cheching if a number is odd with an user-defined function 'unless-function'\n",
    "\n",
    "(defn unless-function [test then]\n",
    "    (if (not test)\n",
    "        then))\n",
    "\n",
    "(defn exhibits-oddity?-function [x]\n",
    "    (unless-function (even? x)\n",
    "        (println \"Very odd, indeed!\")))\n"
   ]
  },
  {
   "cell_type": "markdown",
   "metadata": {},
   "source": [
    "THe testing shows unexpected results"
   ]
  },
  {
   "cell_type": "code",
   "execution_count": 18,
   "metadata": {},
   "outputs": [
    {
     "name": "stdout",
     "output_type": "stream",
     "text": [
      "Very odd, indeed!\n"
     ]
    },
    {
     "data": {
      "text/plain": [
       "nil"
      ]
     },
     "execution_count": 18,
     "metadata": {},
     "output_type": "execute_result"
    }
   ],
   "source": [
    "(exhibits-oddity?-function 11)"
   ]
  },
  {
   "cell_type": "code",
   "execution_count": 19,
   "metadata": {},
   "outputs": [
    {
     "name": "stdout",
     "output_type": "stream",
     "text": [
      "Very odd, indeed!\n"
     ]
    },
    {
     "data": {
      "text/plain": [
       "nil"
      ]
     },
     "execution_count": 19,
     "metadata": {},
     "output_type": "execute_result"
    }
   ],
   "source": [
    "; This happens since all arguments of 'exhibits-oddity?-function' \n",
    "; are evaluated before the 'if' expression in 'unless' even begins\n",
    "\n",
    "(exhibits-oddity?-function 10)"
   ]
  },
  {
   "cell_type": "code",
   "execution_count": 20,
   "metadata": {},
   "outputs": [
    {
     "data": {
      "text/plain": [
       "#'user/exhibits-oddity?-function2"
      ]
     },
     "execution_count": 20,
     "metadata": {},
     "output_type": "execute_result"
    }
   ],
   "source": [
    "; Cheching if a number is odd with an user-defined function 'unless-function2'\n",
    "; and using an anonymous function as its 2nd argument\n",
    "\n",
    "(defn unless-function2 [test then-thunk]\n",
    "    (if (not test)\n",
    "        (then-thunk)))\n",
    "\n",
    "\n",
    "(defn exhibits-oddity?-function2 [x]\n",
    "    (unless-function2 (even? x)\n",
    "        #(println \"Rather odd!\")))"
   ]
  },
  {
   "cell_type": "code",
   "execution_count": 21,
   "metadata": {},
   "outputs": [
    {
     "name": "stdout",
     "output_type": "stream",
     "text": [
      "Rather odd!\n"
     ]
    },
    {
     "data": {
      "text/plain": [
       "nil"
      ]
     },
     "execution_count": 21,
     "metadata": {},
     "output_type": "execute_result"
    }
   ],
   "source": [
    "(exhibits-oddity?-function2 11)"
   ]
  },
  {
   "cell_type": "code",
   "execution_count": 23,
   "metadata": {},
   "outputs": [
    {
     "data": {
      "text/plain": [
       "nil"
      ]
     },
     "execution_count": 23,
     "metadata": {},
     "output_type": "execute_result"
    }
   ],
   "source": [
    "; This works, but wrapping the argument with an anonymous function\n",
    "; is not the best solution in every case\n",
    "\n",
    "(exhibits-oddity?-function2 10)"
   ]
  },
  {
   "cell_type": "code",
   "execution_count": 25,
   "metadata": {},
   "outputs": [
    {
     "data": {
      "text/plain": [
       "#'user/exhibits-oddity?-macro"
      ]
     },
     "execution_count": 25,
     "metadata": {},
     "output_type": "execute_result"
    }
   ],
   "source": [
    "; Cheching if a number is odd with an user-defined macro 'unless-macro'\n",
    "\n",
    "(defmacro unless-macro [test then]\n",
    "    (list 'if (list 'not test)\n",
    "        then))\n",
    "\n",
    "(defn exhibits-oddity?-macro [x]\n",
    "    (unless-macro (even? x)\n",
    "        (println \"Very odd, indeed!\")))\n"
   ]
  },
  {
   "cell_type": "code",
   "execution_count": 26,
   "metadata": {},
   "outputs": [
    {
     "name": "stdout",
     "output_type": "stream",
     "text": [
      "Very odd, indeed!\n"
     ]
    },
    {
     "data": {
      "text/plain": [
       "nil"
      ]
     },
     "execution_count": 26,
     "metadata": {},
     "output_type": "execute_result"
    }
   ],
   "source": [
    "(exhibits-oddity?-macro 11)"
   ]
  },
  {
   "cell_type": "code",
   "execution_count": 27,
   "metadata": {},
   "outputs": [
    {
     "data": {
      "text/plain": [
       "nil"
      ]
     },
     "execution_count": 27,
     "metadata": {},
     "output_type": "execute_result"
    }
   ],
   "source": [
    "(exhibits-oddity?-macro 10)"
   ]
  },
  {
   "cell_type": "code",
   "execution_count": 29,
   "metadata": {},
   "outputs": [
    {
     "data": {
      "text/plain": [
       "(if (not (even? x)) (println \"Very odd, indeed!\"))"
      ]
     },
     "execution_count": 29,
     "metadata": {},
     "output_type": "execute_result"
    }
   ],
   "source": [
    "; Checking the resulting s-expression with 'macroexpand'\n",
    "\n",
    "(macroexpand \n",
    "    '(unless (even? x) (println \"Very odd, indeed!\"))) "
   ]
  },
  {
   "cell_type": "markdown",
   "metadata": {},
   "source": [
    "### Macro templates"
   ]
  },
  {
   "cell_type": "code",
   "execution_count": 1,
   "metadata": {},
   "outputs": [
    {
     "data": {
      "text/plain": [
       "#'user/unless"
      ]
     },
     "execution_count": 1,
     "metadata": {},
     "output_type": "execute_result"
    }
   ],
   "source": [
    "; The original unless macro\n",
    "\n",
    "(defmacro unless [test then]\n",
    "    (list 'if (list 'not test)\n",
    "        then))\n"
   ]
  },
  {
   "cell_type": "code",
   "execution_count": 2,
   "metadata": {},
   "outputs": [
    {
     "data": {
      "text/plain": [
       "#'user/unless"
      ]
     },
     "execution_count": 2,
     "metadata": {},
     "output_type": "execute_result"
    }
   ],
   "source": [
    "; Rewriting the last macro using '`' (syntax quote character) and '~' (syntax unquote character)\n",
    "\n",
    "(defmacro unless [test then]\n",
    "    `(if (not ~test)\n",
    "        ~then))\n"
   ]
  },
  {
   "cell_type": "code",
   "execution_count": 3,
   "metadata": {},
   "outputs": [
    {
     "data": {
      "text/plain": [
       "#'user/unless"
      ]
     },
     "execution_count": 3,
     "metadata": {},
     "output_type": "execute_result"
    }
   ],
   "source": [
    "; Generalizing the macro to take an arbitrary expression as arg\n",
    "\n",
    "(defmacro unless [test & exprs]\n",
    "    `(if (not ~test)\n",
    "        (do ~exprs)))\n"
   ]
  },
  {
   "cell_type": "code",
   "execution_count": 4,
   "metadata": {},
   "outputs": [
    {
     "name": "stdout",
     "output_type": "stream",
     "text": [
      "Odd!\n",
      "Very odd!\n"
     ]
    },
    {
     "name": "stderr",
     "output_type": "stream",
     "text": [
      "Execution error (NullPointerException) at user/exhibits-oddity? (REPL:5).\n",
      "null\n"
     ]
    },
    {
     "ename": "class java.lang.NullPointerException",
     "evalue": "",
     "output_type": "error",
     "traceback": [
      "   core.clj:  3214 clojure.core$eval/invokeStatic",
      "   core.clj:  3210 clojure.core$eval/invoke",
      "   main.clj:   437 clojure.main$repl$read_eval_print__9086$fn__9089/invoke",
      "   main.clj:   458 clojure.main$repl$fn__9095/invoke",
      "   main.clj:   368 clojure.main$repl/doInvoke",
      "RestFn.java:  1523 clojure.lang.RestFn/invoke",
      "   AFn.java:    22 clojure.lang.AFn/run",
      "   AFn.java:    22 clojure.lang.AFn/run",
      "Thread.java:   745 java.lang.Thread/run"
     ]
    }
   ],
   "source": [
    "; Using the redefined macro in the following function\n",
    "; (it works, but also throws the beloved NullPointerException)\n",
    "\n",
    "(defn exhibits-oddity? [x]\n",
    "    (unless (even? x)\n",
    "        (do\n",
    "            (println \"Odd!\")\n",
    "            (println \"Very odd!\"))))\n",
    "\n",
    "(exhibits-oddity? 11)"
   ]
  },
  {
   "cell_type": "code",
   "execution_count": null,
   "metadata": {},
   "outputs": [
    {
     "data": {
      "text/plain": [
       "(if (clojure.core/not (even? x)) (do ((println \"Odd!\") (println \"Very odd!\"))))"
      ]
     },
     "execution_count": 8,
     "metadata": {},
     "output_type": "execute_result"
    }
   ],
   "source": [
    "; Expanding the macro to see any errors\n",
    "\n",
    "(macroexpand-1 '(unless (even? x) \n",
    "    (println \"Odd!\") \n",
    "    (println \"Very odd!\")))\n",
    "\n"
   ]
  },
  {
   "cell_type": "markdown",
   "metadata": {},
   "source": [
    "```\n",
    "From the output, there's an extra pair of parentheses:\n",
    "    do ((println \"Odd!\") (println \"Very odd!\"))\n",
    "When the expected expression is:\n",
    "    do (println \"Odd!\") (println \"Very odd!\")\n",
    "The first expression evaluates to:\n",
    "    (nil nil)\n",
    "Which is interpreted as a function call, and since the argument is nil, \n",
    "the NullPointerException is thrown.\n",
    "```"
   ]
  },
  {
   "cell_type": "code",
   "execution_count": 5,
   "metadata": {},
   "outputs": [
    {
     "data": {
      "text/plain": [
       "#'user/unless"
      ]
     },
     "execution_count": 5,
     "metadata": {},
     "output_type": "execute_result"
    }
   ],
   "source": [
    "; Usint the splice reader macro ('~@') to 'unpack' a list of args\n",
    "(defmacro unless [test & exprs]\n",
    "    `(if (not ~test)\n",
    "        (do ~@exprs)))\n"
   ]
  },
  {
   "cell_type": "code",
   "execution_count": 7,
   "metadata": {},
   "outputs": [
    {
     "name": "stdout",
     "output_type": "stream",
     "text": [
      "Odd!\n",
      "Very odd!\n"
     ]
    },
    {
     "data": {
      "text/plain": [
       "nil"
      ]
     },
     "execution_count": 7,
     "metadata": {},
     "output_type": "execute_result"
    }
   ],
   "source": [
    "; Using the redefined macro in the following function\n",
    "; (it works, and the NullPointerException is removed)\n",
    "\n",
    "(defn exhibits-oddity? [x]\n",
    "    (unless (even? x)\n",
    "        (do\n",
    "            (println \"Odd!\")\n",
    "            (println \"Very odd!\"))))\n",
    "\n",
    "(exhibits-oddity? 11)"
   ]
  },
  {
   "cell_type": "markdown",
   "metadata": {},
   "source": [
    "### Generating names"
   ]
  },
  {
   "cell_type": "code",
   "execution_count": 12,
   "metadata": {},
   "outputs": [
    {
     "data": {
      "text/plain": [
       "#'user/def-logged-fn"
      ]
     },
     "execution_count": 12,
     "metadata": {},
     "output_type": "execute_result"
    }
   ],
   "source": [
    "; A badly defined macro\n",
    "\n",
    "(defmacro def-logged-fn [fn-name args & body]\n",
    "    `(defn ~fn-name ~args\n",
    "        (let [now (System/currentTimeMillis)]\n",
    "            (println \"[\" now \"] Call to\" (str (var ~fn-name)))\n",
    "            ~@body)))\n"
   ]
  },
  {
   "cell_type": "code",
   "execution_count": 15,
   "metadata": {},
   "outputs": [
    {
     "name": "stderr",
     "output_type": "stream",
     "text": [
      "Syntax error macroexpanding clojure.core/let at (REPL:3:1).\n",
      "user/now - failed: simple-symbol? at: [:bindings :form :local-symbol] spec: :clojure.core.specs.alpha/local-name\n",
      "user/now - failed: vector? at: [:bindings :form :seq-destructure] spec: :clojure.core.specs.alpha/seq-binding-form\n",
      "user/now - failed: map? at: [:bindings :form :map-destructure] spec: :clojure.core.specs.alpha/map-bindings\n",
      "user/now - failed: map? at: [:bindings :form :map-destructure] spec: :clojure.core.specs.alpha/map-special-binding\n"
     ]
    },
    {
     "ename": "class clojure.lang.Compiler$CompilerException",
     "evalue": "",
     "output_type": "error",
     "traceback": [
      "  alpha.clj:   705 clojure.spec.alpha$macroexpand_check/invokeStatic",
      "  alpha.clj:   697 clojure.spec.alpha$macroexpand_check/invoke",
      "   AFn.java:   156 clojure.lang.AFn/applyToHelper",
      "   AFn.java:   144 clojure.lang.AFn/applyTo",
      "   Var.java:   705 clojure.lang.Var/applyTo",
      "   core.clj:  3214 clojure.core$eval/invokeStatic",
      "   core.clj:  3210 clojure.core$eval/invoke",
      "   main.clj:   437 clojure.main$repl$read_eval_print__9086$fn__9089/invoke",
      "   main.clj:   458 clojure.main$repl$fn__9095/invoke",
      "   main.clj:   368 clojure.main$repl/doInvoke",
      "RestFn.java:  1523 clojure.lang.RestFn/invoke",
      "   AFn.java:    22 clojure.lang.AFn/run",
      "   AFn.java:    22 clojure.lang.AFn/run",
      "Thread.java:   745 java.lang.Thread/run"
     ]
    }
   ],
   "source": [
    "; Calling the last macro throws a syntax error\n",
    "\n",
    "(def-logged-fn printname [name]\n",
    "    (println \"hi\" name))\n"
   ]
  },
  {
   "cell_type": "code",
   "execution_count": 16,
   "metadata": {},
   "outputs": [
    {
     "data": {
      "text/plain": [
       "(clojure.core/defn printname [name] (clojure.core/let [user/now (java.lang.System/currentTimeMillis)] (clojure.core/println \"[\" user/now \"] Call to\" (clojure.core/str (var printname))) (println \"hi\" name)))"
      ]
     },
     "execution_count": 16,
     "metadata": {},
     "output_type": "execute_result"
    }
   ],
   "source": [
    "; When using macroexpand-1, it can be seen that 'now' \n",
    "; is being redefined as 'user/now', which isn't defined\n",
    "\n",
    "(macroexpand-1 '(def-logged-fn printname [name]\n",
    "    (println \"hi\" name)))\n"
   ]
  },
  {
   "cell_type": "code",
   "execution_count": 18,
   "metadata": {},
   "outputs": [
    {
     "data": {
      "text/plain": [
       "#'user/def-logged-fn"
      ]
     },
     "execution_count": 18,
     "metadata": {},
     "output_type": "execute_result"
    }
   ],
   "source": [
    "; Rewriting the macro to use the '#' reader macro that generates\n",
    "; unique names that won’t conflict with others\n",
    "\n",
    "(defmacro def-logged-fn [fn-name args & body]\n",
    "    `(defn ~fn-name ~args\n",
    "        (let [now# (System/currentTimeMillis)]\n",
    "            (println \"[\" now# \"] Call to\" (str (var ~fn-name)))\n",
    "            ~@body)))\n"
   ]
  },
  {
   "cell_type": "code",
   "execution_count": 21,
   "metadata": {},
   "outputs": [
    {
     "name": "stdout",
     "output_type": "stream",
     "text": [
      "[ 1642414687208 ] Call to #'user/printname\n",
      "hi deepthi\n"
     ]
    },
    {
     "data": {
      "text/plain": [
       "nil"
      ]
     },
     "execution_count": 21,
     "metadata": {},
     "output_type": "execute_result"
    }
   ],
   "source": [
    "; Calling the last macro now works as expected\n",
    "\n",
    "(def-logged-fn printname [name]\n",
    "    (println \"hi\" name))\n",
    "\n",
    "(printname \"deepthi\")"
   ]
  },
  {
   "cell_type": "markdown",
   "metadata": {},
   "source": [
    "## Macros from within Clojure"
   ]
  },
  {
   "cell_type": "code",
   "execution_count": 26,
   "metadata": {},
   "outputs": [
    {
     "data": {
      "text/plain": [
       "#'user/comment"
      ]
     },
     "execution_count": 26,
     "metadata": {},
     "output_type": "execute_result"
    }
   ],
   "source": [
    "; The 'comment' macro is the simplest one: it doesn't do anything\n",
    "\n",
    "(defmacro comment [& body])"
   ]
  },
  {
   "cell_type": "code",
   "execution_count": 28,
   "metadata": {},
   "outputs": [
    {
     "data": {
      "text/plain": [
       "(do (def add) (def multiply) (def subtract) (def divide))"
      ]
     },
     "execution_count": 28,
     "metadata": {},
     "output_type": "execute_result"
    }
   ],
   "source": [
    "; The 'declare' macro takes a list of symbols and create vars named with each symbol\n",
    "\n",
    "(defmacro declare [& names] \n",
    "    `(do ~@(map #(list 'def %) names)))\n",
    "\n",
    "(macroexpand '(declare add multiply subtract divide))"
   ]
  },
  {
   "cell_type": "code",
   "execution_count": 30,
   "metadata": {},
   "outputs": [
    {
     "data": {
      "text/plain": [
       "#'user/defonce"
      ]
     },
     "execution_count": 30,
     "metadata": {},
     "output_type": "execute_result"
    }
   ],
   "source": [
    "; The 'defonce' macro defines a var but only once\n",
    "\n",
    "(defmacro defonce [name expr]\n",
    "    `(let [v# (def ~name)]\n",
    "        (when-not (.hasRoot v#)\n",
    "            (def ~name ~expr))))\n"
   ]
  },
  {
   "cell_type": "code",
   "execution_count": 33,
   "metadata": {},
   "outputs": [
    {
     "data": {
      "text/plain": [
       "(let* [and__4261__auto__ (even? x)] (if and__4261__auto__ (user/and (> x 50) (< x 500)) and__4261__auto__))"
      ]
     },
     "execution_count": 33,
     "metadata": {},
     "output_type": "execute_result"
    }
   ],
   "source": [
    "; The 'and' macro implements the logical and\n",
    "; (note the recursion at the end)\n",
    "\n",
    "(defmacro and \n",
    "    ([] true)\n",
    "    ([x] x)\n",
    "    ([x & next]\n",
    "        `(let [and# ~x]\n",
    "            (if and# (and ~@next) and#))))\n",
    "\n",
    "(macroexpand '(and (even? x) (> x 50) (< x 500)))"
   ]
  },
  {
   "cell_type": "code",
   "execution_count": 36,
   "metadata": {},
   "outputs": [
    {
     "name": "stdout",
     "output_type": "stream",
     "text": [
      "\"Elapsed time: 0.0444 msecs\"\n"
     ]
    },
    {
     "data": {
      "text/plain": [
       "18009761"
      ]
     },
     "execution_count": 36,
     "metadata": {},
     "output_type": "execute_result"
    }
   ],
   "source": [
    "; The 'time' macro measures the execution time of an expression\n",
    "\n",
    "(defmacro time [expr]\n",
    "    `(let [start# (. System (nanoTime)) ret# ~expr]\n",
    "    (prn \n",
    "        (str \"Elapsed time: \" \n",
    "        (/ (double (- (. System (nanoTime)) start#)) 1000000.0) \n",
    "        \" msecs\"))\n",
    "    ret#))\n",
    "\n",
    "(time (* 1331 13531))\n"
   ]
  },
  {
   "cell_type": "markdown",
   "metadata": {},
   "source": [
    "## Writing your own macros"
   ]
  },
  {
   "cell_type": "markdown",
   "metadata": {},
   "source": [
    "infix"
   ]
  },
  {
   "cell_type": "code",
   "execution_count": 2,
   "metadata": {},
   "outputs": [
    {
     "data": {
      "text/plain": [
       "4"
      ]
     },
     "execution_count": 2,
     "metadata": {},
     "output_type": "execute_result"
    }
   ],
   "source": [
    "; This macro allows the use of math operators with infix notation\n",
    "\n",
    "(defmacro infix [expr]\n",
    "    (let [[left op right] expr]\n",
    "        (list op left right)))\n",
    "\n",
    "(infix (2 + 2))"
   ]
  },
  {
   "cell_type": "markdown",
   "metadata": {},
   "source": [
    "randomly"
   ]
  },
  {
   "cell_type": "code",
   "execution_count": 6,
   "metadata": {},
   "outputs": [
    {
     "name": "stdout",
     "output_type": "stream",
     "text": [
      "amit\n"
     ]
    },
    {
     "data": {
      "text/plain": [
       "nil"
      ]
     },
     "execution_count": 6,
     "metadata": {},
     "output_type": "execute_result"
    }
   ],
   "source": [
    "; This macro accepts any number of s-expressions and picks one at random.\n",
    "\n",
    "(defmacro randomly [& exprs]\n",
    "    (let [len (count exprs)\n",
    "          index (rand-int len)\n",
    "          conditions (map #(list '= index %) (range len))]\n",
    "        `(cond ~@(interleave conditions exprs))))\n",
    "\n",
    "(randomly (println \"amit\") (println \"deepthi\") (println \"adi\"))\n"
   ]
  },
  {
   "cell_type": "code",
   "execution_count": 17,
   "metadata": {},
   "outputs": [
    {
     "data": {
      "text/plain": [
       "(clojure.core/cond (= 1 0) (println \"amit\") (= 1 1) (println \"deepthi\") (= 1 2) (println \"adi\"))"
      ]
     },
     "execution_count": 17,
     "metadata": {},
     "output_type": "execute_result"
    }
   ],
   "source": [
    "; To see the generated s-expression of the last macro, use macroexpand-1\n",
    "\n",
    "(macroexpand-1\n",
    "    '(randomly (println \"amit\") (println \"deepthi\") (println \"adi\")))"
   ]
  },
  {
   "cell_type": "markdown",
   "metadata": {},
   "source": [
    "defwebmethod"
   ]
  },
  {
   "cell_type": "code",
   "execution_count": 23,
   "metadata": {},
   "outputs": [
    {
     "data": {
      "text/plain": [
       "#'user/request"
      ]
     },
     "execution_count": 23,
     "metadata": {},
     "output_type": "execute_result"
    }
   ],
   "source": [
    "; A function that checks id an user is authenticated\n",
    "\n",
    "(defn check-credentials [username password]\n",
    "    true)\n",
    "\n",
    "; A function that process a web request and return diferent responses\n",
    "; from the user's auth status\n",
    "\n",
    "(defn login-user [request]\n",
    "    (let [username (:username request)\n",
    "          password (:password request)]\n",
    "        (if (check-credentials username password)\n",
    "            (str \"Welcome back, \" username \", \" password \" is correct!\")\n",
    "            (str \"Login failed!\"))))\n",
    "\n",
    "; A sample request\n",
    "\n",
    "(def request {:username \"amit\" :password \"123456\"})\n"
   ]
  },
  {
   "cell_type": "code",
   "execution_count": 24,
   "metadata": {},
   "outputs": [
    {
     "data": {
      "text/plain": [
       "\"Welcome back, amit, 123456 is correct!\""
      ]
     },
     "execution_count": 24,
     "metadata": {},
     "output_type": "execute_result"
    }
   ],
   "source": [
    "; Testing the last functions\n",
    "\n",
    "(login-user request)\n"
   ]
  },
  {
   "cell_type": "code",
   "execution_count": 26,
   "metadata": {},
   "outputs": [
    {
     "data": {
      "text/plain": [
       "#'user/login-user"
      ]
     },
     "execution_count": 26,
     "metadata": {},
     "output_type": "execute_result"
    }
   ],
   "source": [
    "; A macro that abstracts the dereferencing of the user credentials\n",
    "\n",
    "(defmacro defwebmethod [name args & exprs]\n",
    "    `(defn ~name [{:keys ~args}]\n",
    "        ~@exprs))\n",
    "\n",
    "; Rewriting the login user function to use the new macro\n",
    "\n",
    "(defwebmethod login-user [username password]\n",
    "    (if (check-credentials username password)\n",
    "        (str \"Welcome, \" username \", \" password \" is still correct!\")\n",
    "        (str \"Login failed!\")))\n"
   ]
  },
  {
   "cell_type": "code",
   "execution_count": 28,
   "metadata": {},
   "outputs": [
    {
     "data": {
      "text/plain": [
       "\"Welcome, amit, 123456 is still correct!\""
      ]
     },
     "execution_count": 28,
     "metadata": {},
     "output_type": "execute_result"
    }
   ],
   "source": [
    "; Testing the last modified function\n",
    "\n",
    "(login-user request)"
   ]
  },
  {
   "cell_type": "markdown",
   "metadata": {},
   "source": [
    "defnn"
   ]
  },
  {
   "cell_type": "code",
   "execution_count": 46,
   "metadata": {},
   "outputs": [
    {
     "name": "stdout",
     "output_type": "stream",
     "text": [
      "Name: Rob\n",
      "Salary: 1000000\n",
      "Started on: 10/22/2009\n"
     ]
    },
    {
     "data": {
      "text/plain": [
       "nil"
      ]
     },
     "execution_count": 46,
     "metadata": {},
     "output_type": "execute_result"
    }
   ],
   "source": [
    "; A macro that abstracts the destructuring of key-value pairs of a map\n",
    "; And print them to the console\n",
    "\n",
    "(defmacro defnn [fname [& names] & body]\n",
    "    (let [ks {:keys (vec names)}]\n",
    "        `(defn ~fname [& {:as arg-map#}]\n",
    "            (let [~ks arg-map#] ~@body))))\n",
    "\n",
    "(defnn print-details [name salary start-date]\n",
    "    (println \"Name:\" name)\n",
    "    (println \"Salary:\" salary)\n",
    "    (println \"Started on:\" start-date))\n",
    "\n",
    "(print-details :start-date \"10/22/2009\" :name \"Rob\" :salary 1000000)\n"
   ]
  },
  {
   "cell_type": "markdown",
   "metadata": {},
   "source": [
    "assert-true"
   ]
  },
  {
   "cell_type": "code",
   "execution_count": 47,
   "metadata": {},
   "outputs": [
    {
     "data": {
      "text/plain": [
       "#'user/assert-true"
      ]
     },
     "execution_count": 47,
     "metadata": {},
     "output_type": "execute_result"
    }
   ],
   "source": [
    "; A macro that ckecks if a s-expression evaluates to true\n",
    "\n",
    "(defmacro assert-true [test-expr]\n",
    "    (let [[operator lhs rhs] test-expr]\n",
    "        `(let [rhsv# ~rhs ret# ~test-expr]\n",
    "            (if-not ret#\n",
    "                (throw (RuntimeException. (str '~lhs \" is not \" '~operator \" \" rhsv#)))\n",
    "                true))))\n"
   ]
  },
  {
   "cell_type": "code",
   "execution_count": 48,
   "metadata": {},
   "outputs": [
    {
     "data": {
      "text/plain": [
       "true"
      ]
     },
     "execution_count": 48,
     "metadata": {},
     "output_type": "execute_result"
    }
   ],
   "source": [
    "; Testing with a success case\n",
    "\n",
    "(assert-true (= (* 2 4) (/ 16 2)))\n"
   ]
  },
  {
   "cell_type": "code",
   "execution_count": 49,
   "metadata": {},
   "outputs": [
    {
     "name": "stderr",
     "output_type": "stream",
     "text": [
      "Execution error at user/eval4290 (REPL:1).\n",
      "(* 2 4) is not >= 9\n"
     ]
    },
    {
     "ename": "class java.lang.RuntimeException",
     "evalue": "",
     "output_type": "error",
     "traceback": [
      "   core.clj:  3214 clojure.core$eval/invokeStatic",
      "   core.clj:  3210 clojure.core$eval/invoke",
      "   main.clj:   437 clojure.main$repl$read_eval_print__9086$fn__9089/invoke",
      "   main.clj:   458 clojure.main$repl$fn__9095/invoke",
      "   main.clj:   368 clojure.main$repl/doInvoke",
      "RestFn.java:  1523 clojure.lang.RestFn/invoke",
      "   AFn.java:    22 clojure.lang.AFn/run",
      "   AFn.java:    22 clojure.lang.AFn/run",
      "Thread.java:   745 java.lang.Thread/run"
     ]
    }
   ],
   "source": [
    "; Testing with a failure case\n",
    "\n",
    "(assert-true (>= (* 2 4) (/ 18 2)))\n"
   ]
  },
  {
   "cell_type": "code",
   "execution_count": 52,
   "metadata": {},
   "outputs": [
    {
     "data": {
      "text/plain": [
       "(clojure.core/let [rhsv__4276__auto__ (/ 18 2) ret__4277__auto__ (>= (* 3 3) (/ 18 2))] (clojure.core/if-not ret__4277__auto__ (throw (java.lang.RuntimeException. (clojure.core/str (quote (* 3 3)) \" is not \" (quote >=) \" \" rhsv__4276__auto__))) true))"
      ]
     },
     "execution_count": 52,
     "metadata": {},
     "output_type": "execute_result"
    }
   ],
   "source": [
    "; Using macroexpand-1 to see the resulting s-expression\n",
    "\n",
    "(macroexpand-1 '(assert-true (>= (* 3 3) (/ 18 2))))"
   ]
  },
  {
   "cell_type": "code",
   "execution_count": 57,
   "metadata": {},
   "outputs": [
    {
     "data": {
      "text/plain": [
       "#'user/assert-true-2"
      ]
     },
     "execution_count": 57,
     "metadata": {},
     "output_type": "execute_result"
    }
   ],
   "source": [
    "; A modified version of the last macro, with added error checking\n",
    "\n",
    "(defmacro assert-true-2 [test-expr]\n",
    "    (if-not (= 3 (count test-expr))\n",
    "        (throw (RuntimeException. \"Argument must be of the form (operator test-expr expected-expr)\")))\n",
    "    (if-not (some #{(first test-expr)} '(< > <= >= = not=))\n",
    "        (throw (RuntimeException. \"Operator must be one of < > <= >= = not=\")))\n",
    "    (let [[operator lhs rhs] test-expr]\n",
    "        `(let [rhsv# ~rhs ret# ~test-expr]\n",
    "            (if-not ret# (throw (RuntimeException. (str '~lhs \" is not \" '~operator \" \" rhsv#)))\n",
    "            true))))\n"
   ]
  },
  {
   "cell_type": "code",
   "execution_count": 58,
   "metadata": {},
   "outputs": [
    {
     "name": "stderr",
     "output_type": "stream",
     "text": [
      "Unexpected error macroexpanding assert-true-2 at (REPL:3:1).\n",
      "Argument must be of the form (operator test-expr expected-expr)\n"
     ]
    },
    {
     "ename": "class clojure.lang.Compiler$CompilerException",
     "evalue": "",
     "output_type": "error",
     "traceback": [
      "   AFn.java:   160 clojure.lang.AFn/applyToHelper",
      "   AFn.java:   144 clojure.lang.AFn/applyTo",
      "   Var.java:   705 clojure.lang.Var/applyTo",
      "   core.clj:  3214 clojure.core$eval/invokeStatic",
      "   core.clj:  3210 clojure.core$eval/invoke",
      "   main.clj:   437 clojure.main$repl$read_eval_print__9086$fn__9089/invoke",
      "   main.clj:   458 clojure.main$repl$fn__9095/invoke",
      "   main.clj:   368 clojure.main$repl/doInvoke",
      "RestFn.java:  1523 clojure.lang.RestFn/invoke",
      "   AFn.java:    22 clojure.lang.AFn/run",
      "   AFn.java:    22 clojure.lang.AFn/run",
      "Thread.java:   745 java.lang.Thread/run"
     ]
    }
   ],
   "source": [
    "; Catching the 'Argument must be of the...' error\n",
    "\n",
    "(assert-true-2 (>= (* 2 4) (/ 18 2) (+ 2 5)))"
   ]
  },
  {
   "cell_type": "code",
   "execution_count": 59,
   "metadata": {},
   "outputs": [
    {
     "name": "stderr",
     "output_type": "stream",
     "text": [
      "Unexpected error macroexpanding assert-true-2 at (REPL:3:1).\n",
      "Operator must be one of < > <= >= = not=\n"
     ]
    },
    {
     "ename": "class clojure.lang.Compiler$CompilerException",
     "evalue": "",
     "output_type": "error",
     "traceback": [
      "   AFn.java:   160 clojure.lang.AFn/applyToHelper",
      "   AFn.java:   144 clojure.lang.AFn/applyTo",
      "   Var.java:   705 clojure.lang.Var/applyTo",
      "   core.clj:  3214 clojure.core$eval/invokeStatic",
      "   core.clj:  3210 clojure.core$eval/invoke",
      "   main.clj:   437 clojure.main$repl$read_eval_print__9086$fn__9089/invoke",
      "   main.clj:   458 clojure.main$repl$fn__9095/invoke",
      "   main.clj:   368 clojure.main$repl/doInvoke",
      "RestFn.java:  1523 clojure.lang.RestFn/invoke",
      "   AFn.java:    22 clojure.lang.AFn/run",
      "   AFn.java:    22 clojure.lang.AFn/run",
      "Thread.java:   745 java.lang.Thread/run"
     ]
    }
   ],
   "source": [
    "; Catching the 'Operator must be one...' error\n",
    "\n",
    "(assert-true-2 (<> (* 2 4) (/ 16 2)))\n"
   ]
  }
 ],
 "metadata": {
  "kernelspec": {
   "display_name": "Clojure (clojupyter=0.3.2=1)",
   "language": "clojure",
   "name": "python397jvsc74a57bd089a790bea3b9cadff6bf73491f7cf161e4e94bfc015afe6a535623fbe4142b79"
  },
  "language_info": {
   "file_extension": ".clj",
   "mimetype": "text/x-clojure",
   "name": "clojure",
   "version": "1.10.1"
  },
  "orig_nbformat": 4
 },
 "nbformat": 4,
 "nbformat_minor": 2
}
