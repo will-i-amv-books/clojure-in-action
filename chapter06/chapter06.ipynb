{
 "cells": [
  {
   "cell_type": "markdown",
   "metadata": {},
   "source": [
    "# State and the Concurrent World"
   ]
  },
  {
   "cell_type": "markdown",
   "metadata": {},
   "source": [
    "## Refs"
   ]
  },
  {
   "cell_type": "code",
   "execution_count": 1,
   "metadata": {},
   "outputs": [
    {
     "data": {
      "text/plain": [
       "#'user/all-users"
      ]
     },
     "execution_count": 1,
     "metadata": {},
     "output_type": "execute_result"
    }
   ],
   "source": [
    "; Intitalizing a ref with an empty map\n",
    "\n",
    "(def all-users (ref {}))"
   ]
  },
  {
   "cell_type": "code",
   "execution_count": 2,
   "metadata": {},
   "outputs": [
    {
     "data": {
      "text/plain": [
       "{}"
      ]
     },
     "execution_count": 2,
     "metadata": {},
     "output_type": "execute_result"
    }
   ],
   "source": [
    "; Obtaining the current value of the ref with 'deref'\n",
    "\n",
    "(deref all-users)\n"
   ]
  },
  {
   "cell_type": "code",
   "execution_count": 3,
   "metadata": {},
   "outputs": [
    {
     "data": {
      "text/plain": [
       "{}"
      ]
     },
     "execution_count": 3,
     "metadata": {},
     "output_type": "execute_result"
    }
   ],
   "source": [
    "; Obtaining the current value of the ref with '@'\n",
    "\n",
    "@all-users\n"
   ]
  },
  {
   "cell_type": "markdown",
   "metadata": {},
   "source": [
    "### Mutating refs"
   ]
  },
  {
   "cell_type": "markdown",
   "metadata": {},
   "source": [
    "set-ref"
   ]
  },
  {
   "cell_type": "code",
   "execution_count": 4,
   "metadata": {},
   "outputs": [
    {
     "name": "stderr",
     "output_type": "stream",
     "text": [
      "Execution error (IllegalStateException) at user/eval4100 (REPL:3).\n",
      "No transaction running\n"
     ]
    },
    {
     "ename": "class java.lang.IllegalStateException",
     "evalue": "",
     "output_type": "error",
     "traceback": [
      "LockingTransaction.java:   208 clojure.lang.LockingTransaction/getEx",
      "               Ref.java:   162 clojure.lang.Ref/set   ",
      "               core.clj:  2461 clojure.core$ref_set/invokeStatic",
      "               core.clj:  2455 clojure.core$ref_set/invoke",
      "               core.clj:  3214 clojure.core$eval/invokeStatic",
      "               core.clj:  3210 clojure.core$eval/invoke",
      "               main.clj:   437 clojure.main$repl$read_eval_print__9086$fn__9089/invoke",
      "               main.clj:   458 clojure.main$repl$fn__9095/invoke",
      "               main.clj:   368 clojure.main$repl/doInvoke",
      "            RestFn.java:  1523 clojure.lang.RestFn/invoke",
      "               AFn.java:    22 clojure.lang.AFn/run   ",
      "               AFn.java:    22 clojure.lang.AFn/run   ",
      "            Thread.java:   745 java.lang.Thread/run   "
     ]
    }
   ],
   "source": [
    "; Setting a new value to a ref directly with 'ref-set' (it will fail)\n",
    "\n",
    "(ref-set all-users {})\n"
   ]
  },
  {
   "cell_type": "code",
   "execution_count": 5,
   "metadata": {},
   "outputs": [
    {
     "data": {
      "text/plain": [
       "{}"
      ]
     },
     "execution_count": 5,
     "metadata": {},
     "output_type": "execute_result"
    }
   ],
   "source": [
    "; Setting a new value to a ref with 'ref-set' and the 'dosync' macro (it will work)\n",
    "\n",
    "(dosync \n",
    "    (ref-set all-users {}))\n"
   ]
  },
  {
   "cell_type": "markdown",
   "metadata": {},
   "source": [
    "alter"
   ]
  },
  {
   "cell_type": "code",
   "execution_count": 6,
   "metadata": {},
   "outputs": [
    {
     "data": {
      "text/plain": [
       "\"\""
      ]
     },
     "execution_count": 6,
     "metadata": {},
     "output_type": "execute_result"
    }
   ],
   "source": [
    "; The general form of the 'alter' function is as follows\n",
    "\n",
    "\"\"\"\n",
    "(alter ref function & args)\n",
    "\"\"\""
   ]
  },
  {
   "cell_type": "code",
   "execution_count": 7,
   "metadata": {},
   "outputs": [
    {
     "data": {
      "text/plain": [
       "#'user/new-user"
      ]
     },
     "execution_count": 7,
     "metadata": {},
     "output_type": "execute_result"
    }
   ],
   "source": [
    "; Defining a new user\n",
    "\n",
    "(defn new-user [id login monthly-budget]\n",
    "    {:id id\n",
    "    :login login\n",
    "    :monthly-budget monthly-budget\n",
    "    :total-expenses 0})\n"
   ]
  },
  {
   "cell_type": "code",
   "execution_count": 8,
   "metadata": {},
   "outputs": [
    {
     "data": {
      "text/plain": [
       "#'user/add-new-user"
      ]
     },
     "execution_count": 8,
     "metadata": {},
     "output_type": "execute_result"
    }
   ],
   "source": [
    "; Defining a function that mutates the first ref with the new user\n",
    "\n",
    "(defn add-new-user [login budget-amount]\n",
    "    (dosync\n",
    "        (let [current-number (count @all-users)\n",
    "              user (new-user (inc current-number) login budget-amount)]\n",
    "            (alter all-users assoc login user))))\n"
   ]
  },
  {
   "cell_type": "code",
   "execution_count": 9,
   "metadata": {},
   "outputs": [
    {
     "data": {
      "text/plain": [
       "{\"amit\" {:id 1, :login \"amit\", :monthly-budget 1000000, :total-expenses 0}}"
      ]
     },
     "execution_count": 9,
     "metadata": {},
     "output_type": "execute_result"
    }
   ],
   "source": [
    "; Adding the 1st user\n",
    "\n",
    "(add-new-user \"amit\" 1000000)"
   ]
  },
  {
   "cell_type": "code",
   "execution_count": 10,
   "metadata": {},
   "outputs": [
    {
     "data": {
      "text/plain": [
       "{\"amit\" {:id 1, :login \"amit\", :monthly-budget 1000000, :total-expenses 0}, \"deepthi\" {:id 2, :login \"deepthi\", :monthly-budget 2000000, :total-expenses 0}}"
      ]
     },
     "execution_count": 10,
     "metadata": {},
     "output_type": "execute_result"
    }
   ],
   "source": [
    "; Adding the 2nd user\n",
    "\n",
    "(add-new-user \"deepthi\" 2000000)\n"
   ]
  },
  {
   "cell_type": "markdown",
   "metadata": {},
   "source": [
    "commute"
   ]
  },
  {
   "cell_type": "code",
   "execution_count": 11,
   "metadata": {},
   "outputs": [
    {
     "data": {
      "text/plain": [
       "\"\""
      ]
     },
     "execution_count": 11,
     "metadata": {},
     "output_type": "execute_result"
    }
   ],
   "source": [
    "; The general form of the 'commute' function is as follows\n",
    "\n",
    "\"\"\"\n",
    "(commute ref function & args)\n",
    "\"\"\""
   ]
  },
  {
   "cell_type": "markdown",
   "metadata": {},
   "source": [
    "## Agents"
   ]
  },
  {
   "cell_type": "code",
   "execution_count": 12,
   "metadata": {},
   "outputs": [
    {
     "data": {
      "text/plain": [
       "#'user/total-cpu-time"
      ]
     },
     "execution_count": 12,
     "metadata": {},
     "output_type": "execute_result"
    }
   ],
   "source": [
    "; Initializing an agent with a value of 0\n",
    "\n",
    "(def total-cpu-time (agent 0))\n",
    "\n"
   ]
  },
  {
   "cell_type": "code",
   "execution_count": 13,
   "metadata": {},
   "outputs": [
    {
     "data": {
      "text/plain": [
       "0"
      ]
     },
     "execution_count": 13,
     "metadata": {},
     "output_type": "execute_result"
    }
   ],
   "source": [
    "; Obtaining the current value of the agent with 'deref'\n",
    "\n",
    "(deref total-cpu-time)\n"
   ]
  },
  {
   "cell_type": "code",
   "execution_count": 14,
   "metadata": {},
   "outputs": [
    {
     "data": {
      "text/plain": [
       "0"
      ]
     },
     "execution_count": 14,
     "metadata": {},
     "output_type": "execute_result"
    }
   ],
   "source": [
    "; Obtaining the current value of the agent with '@'\n",
    "\n",
    "@total-cpu-time"
   ]
  },
  {
   "cell_type": "markdown",
   "metadata": {},
   "source": [
    "send"
   ]
  },
  {
   "cell_type": "code",
   "execution_count": 15,
   "metadata": {},
   "outputs": [
    {
     "data": {
      "text/plain": [
       "\"\""
      ]
     },
     "execution_count": 15,
     "metadata": {},
     "output_type": "execute_result"
    }
   ],
   "source": [
    "; The general form of the 'send' function is as follows\n",
    "\n",
    "\"\"\"\n",
    "(send agent function & more-args)\n",
    "\"\"\""
   ]
  },
  {
   "cell_type": "code",
   "execution_count": 16,
   "metadata": {},
   "outputs": [
    {
     "data": {
      "text/plain": [
       "#agent[{:status :ready, :val 700} 0x309e5882]"
      ]
     },
     "execution_count": 16,
     "metadata": {},
     "output_type": "execute_result"
    }
   ],
   "source": [
    "; Mutating the agent and setting a new value to it\n",
    "\n",
    "(send total-cpu-time + 700)"
   ]
  },
  {
   "cell_type": "code",
   "execution_count": 17,
   "metadata": {},
   "outputs": [
    {
     "data": {
      "text/plain": [
       "700"
      ]
     },
     "execution_count": 17,
     "metadata": {},
     "output_type": "execute_result"
    }
   ],
   "source": [
    "; Checking that the agent was mutated\n",
    "\n",
    "(deref total-cpu-time)"
   ]
  },
  {
   "cell_type": "markdown",
   "metadata": {},
   "source": [
    "send-off"
   ]
  },
  {
   "cell_type": "code",
   "execution_count": 18,
   "metadata": {},
   "outputs": [
    {
     "data": {
      "text/plain": [
       "\"\""
      ]
     },
     "execution_count": 18,
     "metadata": {},
     "output_type": "execute_result"
    }
   ],
   "source": [
    "; The general form of the 'send' function is as follows\n",
    "\n",
    "\"\"\"\n",
    "(send-off agent function & more-args)\n",
    "\"\"\""
   ]
  },
  {
   "cell_type": "markdown",
   "metadata": {},
   "source": [
    "### Working with agents"
   ]
  },
  {
   "cell_type": "markdown",
   "metadata": {},
   "source": [
    "await & await-for"
   ]
  },
  {
   "cell_type": "code",
   "execution_count": 21,
   "metadata": {},
   "outputs": [
    {
     "data": {
      "text/plain": [
       "\"\""
      ]
     },
     "execution_count": 21,
     "metadata": {},
     "output_type": "execute_result"
    }
   ],
   "source": [
    "; The general form of the 'await' function is as follows\n",
    "\n",
    "\"\"\"\n",
    "(await & agents)\n",
    "\"\"\"\n",
    "\n",
    "; The general form of the 'await-for' function is as follows\n",
    "\n",
    "\"\"\"\n",
    "(await-for timeout & agents)\n",
    "\"\"\"\n"
   ]
  },
  {
   "cell_type": "markdown",
   "metadata": {},
   "source": [
    "### Agent errors"
   ]
  },
  {
   "cell_type": "code",
   "execution_count": 26,
   "metadata": {},
   "outputs": [
    {
     "data": {
      "text/plain": [
       "#'user/bad-agent"
      ]
     },
     "execution_count": 26,
     "metadata": {},
     "output_type": "execute_result"
    }
   ],
   "source": [
    "; A simple agent\n",
    "\n",
    "(def bad-agent (agent 10))"
   ]
  },
  {
   "cell_type": "code",
   "execution_count": 27,
   "metadata": {},
   "outputs": [
    {
     "data": {
      "text/plain": [
       "#agent[{:status :failed, :val 10} 0x7c1be3b0]"
      ]
     },
     "execution_count": 27,
     "metadata": {},
     "output_type": "execute_result"
    }
   ],
   "source": [
    "; Sending to the agent a function (/) that returns an invalid result (@bad-agent / 0)\n",
    "\n",
    "(send bad-agent / 0)\n"
   ]
  },
  {
   "cell_type": "code",
   "execution_count": 28,
   "metadata": {},
   "outputs": [
    {
     "data": {
      "text/plain": [
       "10"
      ]
     },
     "execution_count": 28,
     "metadata": {},
     "output_type": "execute_result"
    }
   ],
   "source": [
    "; In case of errors, the agent has the last successful value assigned to it\n",
    "\n",
    "(deref bad-agent)"
   ]
  },
  {
   "cell_type": "code",
   "execution_count": 30,
   "metadata": {},
   "outputs": [
    {
     "name": "stderr",
     "output_type": "stream",
     "text": [
      "Execution error (ArithmeticException) at java.util.concurrent.ThreadPoolExecutor/runWorker (ThreadPoolExecutor.java:1142).\n",
      "Divide by zero\n"
     ]
    },
    {
     "ename": "class java.lang.RuntimeException",
     "evalue": "",
     "output_type": "error",
     "traceback": [
      "           Numbers.java:   188 clojure.lang.Numbers/divide",
      "               core.clj:  1027 clojure.core$_SLASH_/invokeStatic",
      "               core.clj:  1020 clojure.core$_SLASH_/invoke",
      "               core.clj:  2036 clojure.core$binding_conveyor_fn$fn__5754/invoke",
      "               AFn.java:   156 clojure.lang.AFn/applyToHelper",
      "            RestFn.java:   132 clojure.lang.RestFn/applyTo",
      "             Agent.java:   114 clojure.lang.Agent$Action/doRun",
      "             Agent.java:   163 clojure.lang.Agent$Action/run",
      "ThreadPoolExecutor.java:  1142 java.util.concurrent.ThreadPoolExecutor/runWorker",
      "ThreadPoolExecutor.java:   617 java.util.concurrent.ThreadPoolExecutor$Worker/run",
      "            Thread.java:   745 java.lang.Thread/run   "
     ]
    }
   ],
   "source": [
    "; Even if it's sent a new valid operation, the agent will throw an error \n",
    "; since it's still in an invalid state\n",
    "\n",
    "(send bad-agent / 2)\n"
   ]
  },
  {
   "cell_type": "code",
   "execution_count": 31,
   "metadata": {},
   "outputs": [
    {
     "data": {
      "text/plain": [
       "#error {\n",
       " :cause \"Divide by zero\"\n",
       " :via\n",
       " [{:type java.lang.ArithmeticException\n",
       "   :message \"Divide by zero\"\n",
       "   :at [clojure.lang.Numbers divide \"Numbers.java\" 188]}]\n",
       " :trace\n",
       " [[clojure.lang.Numbers divide \"Numbers.java\" 188]\n",
       "  [clojure.core$_SLASH_ invokeStatic \"core.clj\" 1027]\n",
       "  [clojure.core$_SLASH_ invoke \"core.clj\" 1020]\n",
       "  [clojure.core$binding_conveyor_fn$fn__5754 invoke \"core.clj\" 2036]\n",
       "  [clojure.lang.AFn applyToHelper \"AFn.java\" 156]\n",
       "  [clojure.lang.RestFn applyTo \"RestFn.java\" 132]\n",
       "  [clojure.lang.Agent$Action doRun \"Agent.java\" 114]\n",
       "  [clojure.lang.Agent$Action run \"Agent.java\" 163]\n",
       "  [java.util.concurrent.ThreadPoolExecutor runWorker \"ThreadPoolExecutor.java\" 1142]\n",
       "  [java.util.concurrent.ThreadPoolExecutor$Worker run \"ThreadPoolExecutor.java\" 617]\n",
       "  [java.lang.Thread run \"Thread.java\" 745]]}"
      ]
     },
     "execution_count": 31,
     "metadata": {},
     "output_type": "execute_result"
    }
   ],
   "source": [
    "; Using the function 'agent-error' to see the error reason\n",
    "\n",
    "(agent-error bad-agent)\n"
   ]
  },
  {
   "cell_type": "code",
   "execution_count": 32,
   "metadata": {},
   "outputs": [
    {
     "data": {
      "text/plain": [
       "10"
      ]
     },
     "execution_count": 32,
     "metadata": {},
     "output_type": "execute_result"
    }
   ],
   "source": [
    "; Using the 'clear-agent-errors' function to make tha agent usable again\n",
    "\n",
    "(clear-agent-errors bad-agent)\n"
   ]
  },
  {
   "cell_type": "markdown",
   "metadata": {},
   "source": [
    "## Atoms"
   ]
  },
  {
   "cell_type": "code",
   "execution_count": 33,
   "metadata": {},
   "outputs": [
    {
     "data": {
      "text/plain": [
       "#'user/total-rows"
      ]
     },
     "execution_count": 33,
     "metadata": {},
     "output_type": "execute_result"
    }
   ],
   "source": [
    "; Initializing an atom with a value of 0\n",
    "\n",
    "(def total-rows (atom 0))\n"
   ]
  },
  {
   "cell_type": "code",
   "execution_count": 34,
   "metadata": {},
   "outputs": [
    {
     "data": {
      "text/plain": [
       "0"
      ]
     },
     "execution_count": 34,
     "metadata": {},
     "output_type": "execute_result"
    }
   ],
   "source": [
    "(deref total-rows)\n"
   ]
  },
  {
   "cell_type": "code",
   "execution_count": 36,
   "metadata": {},
   "outputs": [
    {
     "data": {
      "text/plain": [
       "0"
      ]
     },
     "execution_count": 36,
     "metadata": {},
     "output_type": "execute_result"
    }
   ],
   "source": [
    "; Obtaining the current value of the agent with 'deref'\n",
    "\n",
    "@total-rows"
   ]
  },
  {
   "cell_type": "markdown",
   "metadata": {},
   "source": [
    "### Mutating Atoms"
   ]
  },
  {
   "cell_type": "markdown",
   "metadata": {},
   "source": [
    "reset!"
   ]
  },
  {
   "cell_type": "code",
   "execution_count": 37,
   "metadata": {},
   "outputs": [
    {
     "data": {
      "text/plain": [
       "\"\""
      ]
     },
     "execution_count": 37,
     "metadata": {},
     "output_type": "execute_result"
    }
   ],
   "source": [
    "; The general form of the 'reset!' function is as follows\n",
    "\n",
    "\"\"\"\n",
    "(reset! atom new-value)\n",
    "\"\"\""
   ]
  },
  {
   "cell_type": "markdown",
   "metadata": {},
   "source": [
    "swap!"
   ]
  },
  {
   "cell_type": "code",
   "execution_count": 38,
   "metadata": {},
   "outputs": [
    {
     "data": {
      "text/plain": [
       "\"\""
      ]
     },
     "execution_count": 38,
     "metadata": {},
     "output_type": "execute_result"
    }
   ],
   "source": [
    "; The general form of the 'swap!' function is as follows\n",
    "\n",
    "\"\"\"\n",
    "(swap! atom function & more-args)\n",
    "\"\"\""
   ]
  },
  {
   "cell_type": "code",
   "execution_count": 40,
   "metadata": {},
   "outputs": [
    {
     "data": {
      "text/plain": [
       "200"
      ]
     },
     "execution_count": 40,
     "metadata": {},
     "output_type": "execute_result"
    }
   ],
   "source": [
    "; Mutating the atom and assigning a new value to it \n",
    "\n",
    "(swap! total-rows + 100)"
   ]
  },
  {
   "cell_type": "markdown",
   "metadata": {},
   "source": [
    "## Vars"
   ]
  },
  {
   "cell_type": "code",
   "execution_count": 44,
   "metadata": {},
   "outputs": [
    {
     "name": "stdout",
     "output_type": "stream",
     "text": [
      "Hbase-master is: localhost\n"
     ]
    },
    {
     "data": {
      "text/plain": [
       "nil"
      ]
     },
     "execution_count": 44,
     "metadata": {},
     "output_type": "execute_result"
    }
   ],
   "source": [
    "; Creating the var's initial value (its 'root binding')\n",
    "\n",
    "(def ^:dynamic *hbase-master* \"localhost\") ; The starting and ending asterisks denote that this var ought to be rebound before use\n",
    "\n",
    "(println \"Hbase-master is:\" *hbase-master*)\n"
   ]
  },
  {
   "cell_type": "code",
   "execution_count": 46,
   "metadata": {},
   "outputs": [
    {
     "name": "stdout",
     "output_type": "stream",
     "text": [
      "RabbitMQ host is: #object[clojure.lang.Var$Unbound 0x4b65c113 Unbound: #'user/*rabbitmq-host*]\n"
     ]
    },
    {
     "data": {
      "text/plain": [
       "nil"
      ]
     },
     "execution_count": 46,
     "metadata": {},
     "output_type": "execute_result"
    }
   ],
   "source": [
    "; If using a dynamic var without a root binding, it will return a special Unbound object\n",
    "\n",
    "(def ^:dynamic *rabbitmq-host*)\n",
    "\n",
    "(println \"RabbitMQ host is:\" *rabbitmq-host*)"
   ]
  },
  {
   "cell_type": "markdown",
   "metadata": {},
   "source": [
    "Changing var bindings"
   ]
  },
  {
   "cell_type": "code",
   "execution_count": 48,
   "metadata": {},
   "outputs": [
    {
     "data": {
      "text/plain": [
       "#'user/*mysql-host*"
      ]
     },
     "execution_count": 48,
     "metadata": {},
     "output_type": "execute_result"
    }
   ],
   "source": [
    "; A simple unbounded var to track database connections\n",
    "\n",
    "(def ^:dynamic *mysql-host*)\n"
   ]
  },
  {
   "cell_type": "code",
   "execution_count": 53,
   "metadata": {},
   "outputs": [
    {
     "data": {
      "text/plain": [
       "#'user/db-query"
      ]
     },
     "execution_count": 53,
     "metadata": {},
     "output_type": "execute_result"
    }
   ],
   "source": [
    "; A mock query function (it only counts the number of characters of the dbstring)\n",
    "; it binds the *mysql-host* var to tge 'db' arg\n",
    "\n",
    "(defn db-query [db]\n",
    "    (binding [*mysql-host* db]\n",
    "        (count *mysql-host*)))\n"
   ]
  },
  {
   "cell_type": "code",
   "execution_count": 52,
   "metadata": {},
   "outputs": [
    {
     "data": {
      "text/plain": [
       "#'user/mysql-hosts"
      ]
     },
     "execution_count": 52,
     "metadata": {},
     "output_type": "execute_result"
    }
   ],
   "source": [
    "; A vector of mysql-hosts values\n",
    "\n",
    "(def mysql-hosts [\"test-mysql\" \"dev-mysql\" \"staging-mysql\"])\n"
   ]
  },
  {
   "cell_type": "code",
   "execution_count": 54,
   "metadata": {},
   "outputs": [
    {
     "data": {
      "text/plain": [
       "(10 9 13)"
      ]
     },
     "execution_count": 54,
     "metadata": {},
     "output_type": "execute_result"
    }
   ],
   "source": [
    "; Applying the querying function to all the hosts\n",
    "; (pmap applies the function to each element on a different thread per element)\n",
    "(pmap db-query mysql-hosts)"
   ]
  },
  {
   "cell_type": "markdown",
   "metadata": {},
   "source": [
    "###  Watching for mutation"
   ]
  },
  {
   "cell_type": "markdown",
   "metadata": {},
   "source": [
    "add-watch"
   ]
  },
  {
   "cell_type": "code",
   "execution_count": 55,
   "metadata": {},
   "outputs": [
    {
     "data": {
      "text/plain": [
       "#atom[0 0x2f0a57e3]"
      ]
     },
     "execution_count": 55,
     "metadata": {},
     "output_type": "execute_result"
    }
   ],
   "source": [
    "; Adding a watcher to an atom\n",
    "\n",
    "(def adi (atom 0))\n",
    "\n",
    "(defn on-change [the-key the-ref old-value new-value]\n",
    "    (println \"Hey, seeing change from\" old-value \"to\" new-value))\n",
    "\n",
    "(add-watch adi :adi-watcher on-change)"
   ]
  },
  {
   "cell_type": "code",
   "execution_count": 57,
   "metadata": {},
   "outputs": [
    {
     "name": "stdout",
     "output_type": "stream",
     "text": [
      "Hey, seeing change from 0 to 1\n"
     ]
    },
    {
     "data": {
      "text/plain": [
       "1"
      ]
     },
     "execution_count": 57,
     "metadata": {},
     "output_type": "execute_result"
    }
   ],
   "source": [
    "; Mutating the atom and therefore invoking the watcher\n",
    "\n",
    "(swap! adi inc)"
   ]
  },
  {
   "cell_type": "code",
   "execution_count": 58,
   "metadata": {},
   "outputs": [
    {
     "data": {
      "text/plain": [
       "#atom[1 0x2f0a57e3]"
      ]
     },
     "execution_count": 58,
     "metadata": {},
     "output_type": "execute_result"
    }
   ],
   "source": [
    "; Removing the watcher from the atom\n",
    "\n",
    "(remove-watch adi :adi-watcher)\n"
   ]
  }
 ],
 "metadata": {
  "kernelspec": {
   "display_name": "Clojure (clojupyter=0.3.2=1)",
   "language": "clojure",
   "name": "python397jvsc74a57bd089a790bea3b9cadff6bf73491f7cf161e4e94bfc015afe6a535623fbe4142b79"
  },
  "language_info": {
   "file_extension": ".clj",
   "mimetype": "text/x-clojure",
   "name": "clojure",
   "version": "1.10.1"
  },
  "orig_nbformat": 4
 },
 "nbformat": 4,
 "nbformat_minor": 2
}
