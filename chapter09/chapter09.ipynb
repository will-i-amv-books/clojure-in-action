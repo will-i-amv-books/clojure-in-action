{
 "cells": [
  {
   "cell_type": "markdown",
   "metadata": {},
   "source": [
    "# Protocols, records, and types"
   ]
  },
  {
   "cell_type": "markdown",
   "metadata": {},
   "source": [
    "## The expression problem"
   ]
  },
  {
   "cell_type": "code",
   "execution_count": null,
   "metadata": {},
   "outputs": [],
   "source": [
    "; A simple map containing expense information:\n",
    "\n",
    "(ns clj-in-act.ch9.expense\n",
    "    (:import [java.text SimpleDateFormat]))\n",
    "\n",
    "(defn new-expense [date-string dollars cents category merchant-name]\n",
    "    {:date (.parse (SimpleDateFormat. \"yyyy-MM-dd\") date-string)\n",
    "     :amount-dollars dollars\n",
    "     :amount-cents cents\n",
    "     :category category\n",
    "     :merchant-name merchant-name})\n"
   ]
  },
  {
   "cell_type": "code",
   "execution_count": null,
   "metadata": {},
   "outputs": [],
   "source": [
    "; A function 'total-cents' that computes the expense amount in cents:\n",
    "\n",
    "(defn total-cents [e]\n",
    "    (-> (:amount-dollars e)\n",
    "        (* 100)\n",
    "        (+ (:amount-cents e))))\n"
   ]
  },
  {
   "cell_type": "code",
   "execution_count": null,
   "metadata": {},
   "outputs": [],
   "source": [
    "; A function 'total-amount' to calculate the total amount, given a list of expenses, \n",
    "; and a criteria function by which to select expenses from a list:\n",
    "\n",
    "(defn total-amount\n",
    "    ([expenses-list]\n",
    "        (total-amount (constantly true) expenses-list))\n",
    "    ([pred expenses-list]\n",
    "        (->> expenses-list\n",
    "             (filter pred)\n",
    "             (map total-cents)\n",
    "             (apply +))))\n"
   ]
  },
  {
   "cell_type": "code",
   "execution_count": null,
   "metadata": {},
   "outputs": [],
   "source": [
    "; Predicate functions that can be used with 'total-amount' \n",
    "; to select a particular category of expenses:\n",
    "\n",
    "(defn is-category? [e some-category]\n",
    "    (= (:category e) some-category))\n",
    "\n",
    "(defn category-is [category]\n",
    "    #(is-category? % category))\n"
   ]
  },
  {
   "cell_type": "code",
   "execution_count": null,
   "metadata": {},
   "outputs": [],
   "source": [
    "; Sample data to test the above functions\n",
    "\n",
    "(ns clj-in-act.ch9.expense-test\n",
    "    (:require [clj-in-act.ch9.expense :refer :all]\n",
    "              [clojure.test :refer :all]))\n",
    "\n",
    "(def clj-expenses [(new-expense \"2009-8-20\" 21 95 \"books\" \"amazon.com\")\n",
    "                   (new-expense \"2009-8-21\" 72 43 \"food\" \"mollie-stones\")\n",
    "                   (new-expense \"2009-8-22\" 315 71 \"car-rental\" \"avis\")\n",
    "                   (new-expense \"2009-8-23\" 15 68 \"books\" \"borders\")])\n"
   ]
  },
  {
   "cell_type": "code",
   "execution_count": null,
   "metadata": {},
   "outputs": [],
   "source": [
    "; Test the last clojure functions\n",
    "\n",
    "(deftest test-clj-expenses-total\n",
    "    (is (= 42577 (total-amount clj-expenses)))\n",
    "    (is (= 3763 (total-amount (category-is \"books\") clj-expenses))))\n",
    "\n",
    "(run-tests 'clj-in-act.ch9.expense-test)"
   ]
  },
  {
   "cell_type": "code",
   "execution_count": null,
   "metadata": {},
   "outputs": [],
   "source": [
    "; A java legacy Expense class\n",
    "\n",
    "\"\"\"\n",
    "package com.curry.expenses;\n",
    "import java.util.Calendar;\n",
    "import java.text.SimpleDateFormat;\n",
    "import java.text.ParseException;\n",
    "\n",
    "\n",
    "public class Expense {\n",
    "    private Calendar date;\n",
    "    private int amountDollars;\n",
    "    private int amountCents;\n",
    "    private String merchantName;\n",
    "    private String category;\n",
    "\n",
    "    public Expense(\n",
    "        String dateString, int amountDollars, int amountCents,\n",
    "        String category, String merchantName\n",
    "    ) throws ParseException {\n",
    "        this.date = Calendar.getInstance();\n",
    "        this.date.setTime(\n",
    "            new SimpleDateFormat(\\\"yyyy-MM-dd\\\")\n",
    "                .parse(dateString)\n",
    "         );\n",
    "        this.amountDollars = amountDollars;\n",
    "        this.amountCents = amountCents;\n",
    "        this.merchantName = merchantName;\n",
    "        this.category = category;\n",
    "    }\n",
    "    \n",
    "    public Calendar getDate() {\n",
    "        return date;\n",
    "    }\n",
    "    \n",
    "    public int getAmountDollars() {\n",
    "        return amountDollars;\n",
    "    }\n",
    "\n",
    "    public int getAmountCents() {\n",
    "        return amountCents;\n",
    "    }\n",
    "    public String getMerchantName() {\n",
    "        return merchantName;\n",
    "    }\n",
    "    public String getCategory() {\n",
    "        return category;\n",
    "    }\n",
    "    public int amountInCents() {\n",
    "        return this.amountDollars*100 + this.amountCents;\n",
    "    }\n",
    "}\n",
    "\"\"\"\n"
   ]
  },
  {
   "cell_type": "code",
   "execution_count": null,
   "metadata": {},
   "outputs": [],
   "source": [
    "; Test the last java class\n",
    "\n",
    "(ns clj-in-act.ch9.expense-test\n",
    "    (:require [clj-in-act.ch9.expense :refer :all]\n",
    "              [Expense :refer :all]))\n",
    "\n",
    "(def java-expenses [(Expense. \"2009-8-24\" 44 95 \"books\" \"amazon.com\")\n",
    "                    (Expense. \"2009-8-25\" 29 11 \"gas\" \"shell\")])\n",
    "\n",
    "(deftest test-java-expenses-total\n",
    "    (let [total-cents (map #(.amountInCents %) java-expenses)]\n",
    "    (is (= 7406 (apply + total-cents)))))\n"
   ]
  },
  {
   "cell_type": "code",
   "execution_count": null,
   "metadata": {},
   "outputs": [],
   "source": [
    "; Test both the clojure functions and the java class\n",
    "; (the test won't pass)\n",
    "\n",
    "(def mixed-expenses \n",
    "    (concat clj-expenses java-expenses))\n",
    "\n",
    "(deftest test-mixed-expenses-total\n",
    "    (is (= 49983 (total-amount mixed-expenses)))\n",
    "    (is (= 8258 (total-amount (category-is \"books\") mixed-expenses))))\n"
   ]
  },
  {
   "cell_type": "code",
   "execution_count": null,
   "metadata": {},
   "outputs": [],
   "source": [
    "; To handle the new data type (the java Expense class),\n",
    "; the 'total-cents' function is redefined as a multimethod\n",
    "\n",
    "(defmulti total-cents class)\n",
    "(defmethod total-cents clojure.lang.IPersistentMap [e] ; Handles Clojure data types\n",
    "    (-> (:amount-dollars e)\n",
    "        (* 100)\n",
    "        (+ (:amount-cents e))))\n",
    "(defmethod total-cents com.curry.expenses.Expense [e] ; Handles Java data types\n",
    "    (.amountInCents e))\n"
   ]
  },
  {
   "cell_type": "code",
   "execution_count": null,
   "metadata": {},
   "outputs": [],
   "source": [
    "; The 'is-category?' function is also redefined as a multimethod\n",
    "\n",
    "(defmulti is-category? (fn [e category] (class e)))\n",
    "(defmethod is-category? clojure.lang.IPersistentMap [e some-category] ; Handles clojure data types\n",
    "    (= (:category e) some-category))\n",
    "(defmethod is-category? com.curry.expenses.Expense [e some-category] ; Handles Java data types\n",
    "    (= (.getCategory e) some-category))\n"
   ]
  },
  {
   "cell_type": "markdown",
   "metadata": {},
   "source": [
    "## Examining the operations side of the expression problem"
   ]
  },
  {
   "cell_type": "code",
   "execution_count": null,
   "metadata": {},
   "outputs": [],
   "source": [
    "; Helper functions for the new 'def-modus-operandi' construct\n",
    "\n",
    "(defn dispatch-fn-for [method-args]\n",
    "    `(fn ~method-args (class ~(first method-args))))\n",
    "\n",
    "(defn expand-spec [[method-name method-args]]\n",
    "    `(defmulti ~method-name ~(dispatch-fn-for method-args)))\n",
    "\n",
    "(defmacro def-modus-operandi [mo-name & specs]\n",
    "    `(do ~@(map expand-spec specs)))\n"
   ]
  },
  {
   "cell_type": "code",
   "execution_count": null,
   "metadata": {},
   "outputs": [],
   "source": [
    "; Helper functions for the new 'detail-modus-operandi' construct\n",
    "\n",
    "(defn expand-method [data-type [name & body]]\n",
    "    `(defmethod ~name ~data-type ~@body))\n",
    "\n",
    "(defmacro detail-modus-operandi [mo-name data-type & fns]\n",
    "    `(do ~@(map #(expand-method data-type %) fns)))\n"
   ]
  },
  {
   "cell_type": "code",
   "execution_count": null,
   "metadata": {},
   "outputs": [],
   "source": [
    "; A modified version of 'def-modus-operandi' that \n",
    "; stores the info about its methods, stored in a map\n",
    "\n",
    "(defn mo-method-info [[name args]]\n",
    "    {(keyword name) {:args `(quote ~args)}})\n",
    "\n",
    "(defn mo-methods-registration [specs]\n",
    "    (apply merge (map mo-method-info specs)))\n",
    "\n",
    "(defmacro def-modus-operandi [mo-name & specs]\n",
    "    `(do\n",
    "        (def ~mo-name ~(mo-methods-registration specs))\n",
    "        ~@(map expand-spec specs)))\n",
    "\n",
    "(def-modus-operandi ExpenseCalculations\n",
    "    (total-cents [e])\n",
    "    (is-category? [e category]))\n",
    "    \n",
    "ExpenseCalculations"
   ]
  },
  {
   "cell_type": "code",
   "execution_count": null,
   "metadata": {},
   "outputs": [],
   "source": [
    "; A modified version of 'detail-modus-operandi' that \n",
    "; modifies the info about its methods, stored in a map\n",
    "\n",
    "(defn expand-method [mo-name data-type [method-name & body]]\n",
    "    `(do\n",
    "        (alter-var-root (var ~mo-name) update-in \n",
    "            [(keyword '~method-name) :implementors] \n",
    "            conj ~data-type)\n",
    "        (defmethod ~method-name ~data-type ~@body)))\n",
    "\n",
    "(defmacro detail-modus-operandi [mo-name data-type & fns] \n",
    "    `(do\n",
    "        ~@(map #(expand-method mo-name data-type %) fns)))\n"
   ]
  },
  {
   "cell_type": "code",
   "execution_count": null,
   "metadata": {},
   "outputs": [],
   "source": [
    "; First version of the app, implemented \n",
    "; with 'def-modus-operandi' and 'detail-modus-operandi' \n",
    "\n",
    "(ns clj-in-act.ch9.modus-operandi)\n",
    "\n",
    "(defn dispatch-fn-for [method-args]\n",
    "    `(fn ~method-args (class ~(first method-args))))\n",
    "\n",
    "(defn expand-spec [[method-name method-args]]\n",
    "    `(defmulti ~method-name ~(dispatch-fn-for method-args)))\n",
    "\n",
    "(defn mo-method-info [[name args]]\n",
    "    {(keyword name) {:args `(quote ~args)}})\n",
    "\n",
    "(defn mo-methods-registration [specs]\n",
    "    (apply merge (map mo-method-info specs)))\n",
    "\n",
    "(defmacro def-modus-operandi [mo-name & specs]\n",
    "    `(do\n",
    "        (def ~mo-name ~(mo-methods-registration specs))\n",
    "        ~@(map expand-spec specs)))\n",
    "\n",
    "(defn expand-method [mo-name data-type [method-name & body]]\n",
    "    `(do\n",
    "    (alter-var-root (var ~mo-name) update-in \n",
    "        [(keyword '~method-name) :implementors] \n",
    "        conj ~data-type)\n",
    "    (defmethod ~method-name ~data-type ~@body)))\n",
    "\n",
    "(defmacro detail-modus-operandi [mo-name data-type & fns] \n",
    "    `(do\n",
    "        ~@(map #(expand-method mo-name data-type %) fns)))\n"
   ]
  },
  {
   "cell_type": "code",
   "execution_count": null,
   "metadata": {},
   "outputs": [],
   "source": [
    "; Adding support to clojure maps with 'detail-modus-operandi'\n",
    "\n",
    "(detail-modus-operandi ExpenseCalculations\n",
    "    clojure.lang.IPersistentMap\n",
    "    (total-cents [e]\n",
    "        (-> (:amount-dollars e)\n",
    "            (* 100)\n",
    "            (+ (:amount-cents e))))\n",
    "    (is-category? [e some-category]\n",
    "        (= (:category e) some-category)))\n"
   ]
  },
  {
   "cell_type": "code",
   "execution_count": null,
   "metadata": {},
   "outputs": [],
   "source": [
    "; Adding support to the java Expense class with 'detail-modus-operandi'\n",
    "\n",
    "(detail-modus-operandi ExpenseCalculations\n",
    "    com.curry.expenses.Expense\n",
    "    (total-cents [e]\n",
    "        (.amountInCents e))\n",
    "    (is-category? [e some-category]\n",
    "        (= (.getCategory e) some-category)))\n"
   ]
  },
  {
   "cell_type": "code",
   "execution_count": null,
   "metadata": {},
   "outputs": [],
   "source": [
    "; Second version of the app, implemented with \n",
    "; 'def-modus-operandi' and 'detail-modus-operandi'\n",
    "\n",
    "(ns clj-in-act.ch9.expense-modus-operandi\n",
    "    (:require [clj-in-act.ch9.modus-operandi :refer :all])\n",
    "    (:import [java.text SimpleDateFormat]\n",
    "             [java.util Calendar]))\n",
    "\n",
    "(defn new-expense [date-string dollars cents category merchant-name]\n",
    "    (let [calendar-date (Calendar/getInstance)]\n",
    "        (.setTime calendar-date (.parse (SimpleDateFormat. \"yyyy-MM-dd\") date-string))\n",
    "        {:date calendar-date\n",
    "         :amount-dollars dollars\n",
    "         :amount-cents cents\n",
    "         :category category\n",
    "         :merchant-name merchant-name}))\n",
    "\n",
    "(def-modus-operandi ExpenseCalculations\n",
    "    (total-cents [e])\n",
    "    (is-category? [e category]))\n",
    "\n",
    "(detail-modus-operandi ExpenseCalculations\n",
    "    clojure.lang.IPersistentMap\n",
    "    (total-cents [e]\n",
    "        (-> (:amount-dollars e)\n",
    "            (* 100)\n",
    "            (+ (:amount-cents e))))\n",
    "    (is-category? [e some-category]\n",
    "        (= (:category e) some-category)))\n",
    "\n",
    "(detail-modus-operandi ExpenseCalculations\n",
    "    com.curry.expenses.Expense\n",
    "    (total-cents [e]\n",
    "        (.amountInCents e))\n",
    "    (is-category? [e some-category]\n",
    "        (= (.getCategory e) some-category)))\n",
    "\n",
    "(defn category-is [category]\n",
    "    #(is-category? % category))\n",
    "\n",
    "(defn total-amount\n",
    "    ([expenses-list]\n",
    "        (total-amount (constantly true) expenses-list))\n",
    "    ([pred expenses-list]\n",
    "        (->> expenses-list\n",
    "            (filter pred)\n",
    "            (map total-cents)\n",
    "            (apply +))))\n"
   ]
  },
  {
   "cell_type": "code",
   "execution_count": null,
   "metadata": {},
   "outputs": [],
   "source": [
    "; Testing the implementation of modus operandi\n",
    "\n",
    "(ns clj-in-act.ch9.expense-test\n",
    "    (:import [com.curry.expenses Expense])\n",
    "    (:require [clj-in-act.ch9.expense-modus-operandi :refer :all]\n",
    "              [clojure.test :refer :all]))\n",
    "\n",
    "(def clj-expenses [(new-expense \"2009-8-20\" 21 95 \"books\" \"amazon.com\")\n",
    "                   (new-expense \"2009-8-21\" 72 43 \"food\" \"mollie-stones\")\n",
    "                   (new-expense \"2009-8-22\" 315 71 \"car-rental\" \"avis\")\n",
    "                   (new-expense \"2009-8-23\" 15 68 \"books\" \"borders\")])\n",
    "\n",
    "(deftest test-clj-expenses-total\n",
    "    (is (= 42577 (total-amount clj-expenses)))\n",
    "    (is (= 3763 (total-amount (category-is \"books\") clj-expenses))))\n",
    "\n",
    "(def java-expenses [(Expense. \"2009-8-24\" 44 95 \"books\" \"amazon.com\")\n",
    "                    (Expense. \"2009-8-25\" 29 11 \"gas\" \"shell\")])\n",
    "\n",
    "(deftest test-java-expenses-total\n",
    "    (let [total-cents (map #(.amountInCents %) java-expenses)]\n",
    "        (is (= 7406 (apply + total-cents)))))\n",
    "\n",
    "(def mixed-expenses (concat clj-expenses java-expenses))\n",
    "\n",
    "(deftest test-mixed-expenses-total\n",
    "    (is (= 49983 (total-amount mixed-expenses)))\n",
    "    (is (= 8258 (total-amount (category-is \"books\") mixed-expenses))))\n",
    "\n",
    "(use 'clojure.test) (run-tests 'clj-in-act.ch9.expense-test)"
   ]
  },
  {
   "cell_type": "markdown",
   "metadata": {},
   "source": [
    "Querying modus operandi"
   ]
  },
  {
   "cell_type": "code",
   "execution_count": null,
   "metadata": {},
   "outputs": [],
   "source": [
    "; A function that discerns what data types implement a particular modus operandi\n",
    "\n",
    "(defn implementors [modus-operandi method]\n",
    "    (get-in modus-operandi [method :implementors]))\n",
    "\n",
    "(implementors ExpenseCalculations :is-category?)\n"
   ]
  },
  {
   "cell_type": "code",
   "execution_count": null,
   "metadata": {},
   "outputs": [],
   "source": [
    "; A function that when given a class of a particular data type \n",
    "; can tell you if it implements a particular method of a modus operandi\n",
    "\n",
    "(defn implements? [implementor modus-operandi method]\n",
    "    (some #{implementor} (implementors modus-operandi method)))\n",
    "\n",
    "; Test with a class that implements 'is-category?'\n",
    "\n",
    "(implements? com.curry.expenses.Expense ExpenseCalculations :is-category?)\n"
   ]
  },
  {
   "cell_type": "code",
   "execution_count": null,
   "metadata": {},
   "outputs": [],
   "source": [
    "; Test with a class that doesn't implement 'is-category?'\n",
    "\n",
    "(implements? java.util.Date ExpenseCalculations :is-category?)"
   ]
  },
  {
   "cell_type": "code",
   "execution_count": null,
   "metadata": {},
   "outputs": [],
   "source": [
    "; A function to see if a class implements a modus operandi completely\n",
    "\n",
    "(defn full-implementor? [implementor modus-operandi]\n",
    "    (->> (keys modus-operandi)\n",
    "         (map #(implements? implementor modus-operandi %))\n",
    "         (not-any? nil?)))\n",
    "\n",
    "; A class that fully implements modus operandi\n",
    "\n",
    "(full-implementor? com.curry.expenses.Expense ExpenseCalculations)\n"
   ]
  },
  {
   "cell_type": "code",
   "execution_count": null,
   "metadata": {},
   "outputs": [],
   "source": [
    "; A class that partially implements modus operandi\n",
    "\n",
    "(detail-modus-operandi ExpenseCalculations \n",
    "    java.util.Date\n",
    "    (total-cents [e] (rand-int 1000)))\n",
    "\n",
    "(full-implementor? java.util.Date ExpenseCalculations)"
   ]
  },
  {
   "cell_type": "markdown",
   "metadata": {},
   "source": [
    "## Examining the data types side of the expression problem with protocols"
   ]
  },
  {
   "cell_type": "code",
   "execution_count": null,
   "metadata": {},
   "outputs": [],
   "source": [
    "; Third version of the app, implemented with Clojure protocols\n",
    "\n",
    "(ns clj-in-act.ch9.expense-protocol\n",
    "    (:import [java.text SimpleDateFormat]\n",
    "             [java.util Calendar]))\n",
    "\n",
    "(defn new-expense [date-string dollars cents category merchant-name]\n",
    "    (let [calendar-date (Calendar/getInstance)]\n",
    "        (.setTime calendar-date (.parse (SimpleDateFormat. \"yyyy-MM-dd\") date-string))\n",
    "        {:date calendar-date\n",
    "         :amount-dollars dollars\n",
    "         :amount-cents cents\n",
    "         :category category\n",
    "         :merchant-name merchant-name}))\n",
    "\n",
    "(defprotocol ExpenseCalculations\n",
    "    (total-cents [e])\n",
    "    (is-category? [e category]))\n",
    "\n",
    "(extend-protocol ExpenseCalculations\n",
    "    clojure.lang.IPersistentMap\n",
    "    (total-cents [e]\n",
    "        (-> (:amount-dollars e)\n",
    "            (* 100)\n",
    "            (+ (:amount-cents e))))\n",
    "    (is-category? [e some-category]\n",
    "        (= (:category e) some-category)))\n",
    "\n",
    "(extend-protocol ExpenseCalculations\n",
    "    com.curry.expenses.Expense\n",
    "    (total-cents [e]\n",
    "        (.amountInCents e))\n",
    "    (is-category? [e some-category]\n",
    "        (= (.getCategory e) some-category)))\n",
    "\n",
    "(defn category-is [category]\n",
    "    #(is-category? % category))\n",
    "\n",
    "(defn total-amount\n",
    "    ([expenses-list]\n",
    "        (total-amount (constantly true) expenses-list))\n",
    "    ([pred expenses-list]\n",
    "        (->> expenses-list\n",
    "             (filter pred)\n",
    "             (map total-cents)\n",
    "             (apply +))))\n"
   ]
  },
  {
   "cell_type": "code",
   "execution_count": null,
   "metadata": {},
   "outputs": [],
   "source": [
    "; General form of the 'defprotocol' syntax\n",
    "\n",
    "(defprotocol AProtocolName\n",
    "    \"A doc string for AProtocol abstraction\"\n",
    "    (bar [this a b] \"bar docs\") \n",
    "    (baz [this a] [this a b] [this a b c] \"baz docs\"))\n"
   ]
  },
  {
   "cell_type": "code",
   "execution_count": null,
   "metadata": {},
   "outputs": [],
   "source": [
    "; The 'extend-protocol' macro is defined on top of \n",
    "; another macro 'extend-type'\n",
    "\n",
    "(extend-type com.curry.expenses.Expense\n",
    "    ExpenseCalculations\n",
    "    (total-cents [e]\n",
    "        (.amountInCents e))\n",
    "    (is-category? [e some-category]\n",
    "        (= (.getCategory e) some-category)))\n"
   ]
  },
  {
   "cell_type": "code",
   "execution_count": null,
   "metadata": {},
   "outputs": [],
   "source": [
    "; The 'extend' function does the work of registering protocol participants \n",
    "; and associating the methods with the right data types. \n",
    "\n",
    "(extend com.curry.expenses.Expense\n",
    "    ExpenseCalculations {\n",
    "        :total-cents (fn [e] (.amountInCents e))\n",
    "        :is-category? (fn [e some-category] (= (.getCategory e) some-category))})\n"
   ]
  },
  {
   "cell_type": "code",
   "execution_count": null,
   "metadata": {},
   "outputs": [],
   "source": [
    ";  Protocols can be extended on nil\n",
    "\n",
    "(extend-protocol ExpenseCalculations nil\n",
    "    (total-cents [e] 0))\n"
   ]
  },
  {
   "cell_type": "markdown",
   "metadata": {},
   "source": [
    "Reflecting on protocols"
   ]
  },
  {
   "cell_type": "code",
   "execution_count": null,
   "metadata": {},
   "outputs": [],
   "source": [
    "; The 'extends?'  function can be used to check \n",
    "; if a particular data type participates in a protocol\n",
    "\n",
    "(extends? ExpenseCalculations com.curry.expenses.Expense)\n",
    "\n",
    "(extends? ExpenseCalculations clojure.lang.IPersistentMap)\n",
    "\n",
    "(extends? ExpenseCalculations java.util.Date)"
   ]
  },
  {
   "cell_type": "code",
   "execution_count": null,
   "metadata": {},
   "outputs": [],
   "source": [
    "; The 'extenders' function lists all the data types \n",
    "; that participate in a protocol.\n",
    "\n",
    "(extenders ExpenseCalculations)"
   ]
  },
  {
   "cell_type": "code",
   "execution_count": null,
   "metadata": {},
   "outputs": [],
   "source": [
    "; The 'satisfies?'  function can be used to check \n",
    "; if a particular instance of a data type participates in a protocol\n",
    "\n",
    "(satisfies? ExpenseCalculations \n",
    "    (com.curry.expenses.Expense. \"10-10-2010\" 20 95 \"books\" \"amzn\"))\n",
    "\n",
    "(satisfies? ExpenseCalculations \n",
    "    (new-expense \"10-10-2010\" 20 95 \"books\" \"amzn\"))\n",
    "\n",
    "(satisfies? ExpenseCalculations (java.util.Random.))"
   ]
  },
  {
   "cell_type": "markdown",
   "metadata": {},
   "source": [
    "### Defining data types with deftype, defrecord, and reify"
   ]
  },
  {
   "cell_type": "markdown",
   "metadata": {},
   "source": [
    "defrecord"
   ]
  },
  {
   "cell_type": "code",
   "execution_count": null,
   "metadata": {},
   "outputs": [],
   "source": [
    "; A simple record example\n",
    "\n",
    "(defrecord NewExpense \n",
    "    [date amount-dollars amount-cents category merchant-name])\n"
   ]
  },
  {
   "cell_type": "code",
   "execution_count": null,
   "metadata": {},
   "outputs": [],
   "source": [
    "; Importing a class with munged Java classpath (underscores instead of hyphens)\n",
    "\n",
    "(import 'chapter_protocols.expense_record.NewExpense) \n",
    "\n",
    "; Using a Java constructor on the class\n",
    "\n",
    "(NewExpense. \"2010-04-01\" 29 95 \"gift\" \"1-800-flowers\")\n"
   ]
  },
  {
   "cell_type": "code",
   "execution_count": null,
   "metadata": {},
   "outputs": [],
   "source": [
    "; Using constructor functions that are imported in namespace (more idiomatic)\n",
    "\n",
    "(require '[clj-in-act.ch9.expense-record :as er]) \n",
    "\n",
    ";  ->RECORDNAME constructor accepts positional parameters.\n",
    "\n",
    "(er/->NewExpense \"2010-04-01\" 29 95 \"gift\" \"1-800-flowers\") \n",
    "\n",
    "; map->RECORDNAME constructor accepts  a single map.\n",
    "\n",
    "(er/map->NewExpense \n",
    "    {:date \"2010-04-01\", :merchant-name \"1-800-flowers\", :message \"April fools!\"})"
   ]
  },
  {
   "cell_type": "code",
   "execution_count": null,
   "metadata": {},
   "outputs": [],
   "source": [
    "; Fourth version of the app, implemented with Clojure protocols and records\n",
    "\n",
    "(ns clj-in-act.ch9.expense-record\n",
    "    (:import [java.text SimpleDateFormat]\n",
    "             [java.util Calendar]))\n",
    "\n",
    "(defrecord NewExpense \n",
    "    [date amount-dollars amount-cents category merchant-name])\n",
    "\n",
    "(defn new-expense [date-string dollars cents category merchant-name]\n",
    "    (let [calendar-date (Calendar/getInstance)]\n",
    "    (.setTime calendar-date (.parse (SimpleDateFormat. \"yyyy-MM-dd\")  date-string))\n",
    "    (->NewExpense calendar-date dollars cents category merchant-name)))\n",
    "\n",
    "(defprotocol ExpenseCalculations\n",
    "    (total-cents [e])\n",
    "    (is-category? [e category]))\n",
    "\n",
    "(extend-type NewExpense\n",
    "    ExpenseCalculations\n",
    "    (total-cents [e]\n",
    "        (-> (:amount-dollars e)\n",
    "            (* 100)\n",
    "            (+ (:amount-cents e))))\n",
    "    (is-category? [e some-category]\n",
    "        (= (:category e) some-category)))\n",
    "\n",
    "(extend com.curry.expenses.Expense\n",
    "    ExpenseCalculations {\n",
    "        :total-cents (fn [e] (.amountInCents e))\n",
    "        :is-category? (fn [e some-category] (= (.getCategory e) some-category))})\n",
    "\n",
    "(extend-protocol ExpenseCalculations nil\n",
    "    (total-cents [e] 0))\n",
    "\n",
    "(defn category-is [category]\n",
    "    #(is-category? % category))\n",
    "\n",
    "(defn total-amount\n",
    "    ([expenses-list]\n",
    "        (total-amount (constantly true) expenses-list))\n",
    "    ([pred expenses-list]\n",
    "        (->> expenses-list\n",
    "             (filter pred)\n",
    "             (map total-cents)\n",
    "             (apply +))))\n"
   ]
  },
  {
   "cell_type": "markdown",
   "metadata": {},
   "source": [
    "Examples to illustrate records’ maplike features"
   ]
  },
  {
   "cell_type": "code",
   "execution_count": null,
   "metadata": {},
   "outputs": [],
   "source": [
    "; Defining a record \n",
    "\n",
    "(defrecord Foo [a b])\n"
   ]
  },
  {
   "cell_type": "code",
   "execution_count": null,
   "metadata": {},
   "outputs": [],
   "source": [
    "; Instantiating a record \n",
    "\n",
    "(def foo (->Foo 1 2))"
   ]
  },
  {
   "cell_type": "code",
   "execution_count": null,
   "metadata": {},
   "outputs": [],
   "source": [
    "; Associating a new pair returns a new record with key added.\n",
    "\n",
    "(assoc foo :extra-key 3) \n"
   ]
  },
  {
   "cell_type": "code",
   "execution_count": null,
   "metadata": {},
   "outputs": [],
   "source": [
    "; Dissociating a new pair returns a new record with key removed.\n",
    "\n",
    "(dissoc (assoc foo :extra-key 3) :extra-key)\n"
   ]
  },
  {
   "cell_type": "code",
   "execution_count": null,
   "metadata": {},
   "outputs": [],
   "source": [
    "; Dissociating a field key return an ordinary map.\n",
    "\n",
    "(dissoc foo :a) \n"
   ]
  },
  {
   "cell_type": "code",
   "execution_count": null,
   "metadata": {},
   "outputs": [],
   "source": [
    "; But records aren’t callable like maps.\n",
    "\n",
    "(foo :a) "
   ]
  },
  {
   "cell_type": "markdown",
   "metadata": {},
   "source": []
  },
  {
   "cell_type": "code",
   "execution_count": null,
   "metadata": {},
   "outputs": [],
   "source": [
    "; Fifth version of the app, with Clojure records \n",
    "; and their inline implementation of protocols \n",
    "\n",
    "(ns clj-in-act.ch9.expense-record-2\n",
    "    (:import [java.text SimpleDateFormat]\n",
    "             [java.util Calendar]))\n",
    "\n",
    "(defprotocol ExpenseCalculations\n",
    "    (total-cents [e])\n",
    "    (is-category? [e category]))\n",
    "\n",
    "(defrecord NewExpense [date amount-dollars amount-cents category merchant-name]\n",
    "    ExpenseCalculations\n",
    "    (total-cents [this]\n",
    "        (-> amount-dollars\n",
    "            (* 100)\n",
    "            (+ amount-cents)))\n",
    "    (is-category? [this some-category]\n",
    "        (= category some-category)))\n",
    "\n",
    "(defn new-expense [date-string dollars cents category merchant-name]\n",
    "    (let [calendar-date (Calendar/getInstance)]\n",
    "        (.setTime calendar-date (.parse (SimpleDateFormat. \"yyyy-MM-dd\") date-string))\n",
    "        (->NewExpense calendar-date dollars cents category merchant-name)))\n",
    "\n",
    "(extend com.curry.expenses.Expense\n",
    "    ExpenseCalculations {\n",
    "        :total-cents (fn [e] (.amountInCents e))\n",
    "        :is-category? (fn [e some-category] (= (.getCategory e) some-category))})\n",
    "\n",
    "(extend-protocol ExpenseCalculations nil\n",
    "    (total-cents [e] 0))\n",
    "\n",
    "(defn category-is [category]\n",
    "    #(is-category? % category))\n",
    "\n",
    "(defn total-amount\n",
    "    ([expenses-list]\n",
    "        (total-amount (constantly true) expenses-list))\n",
    "    ([pred expenses-list]\n",
    "        (->> expenses-list\n",
    "             (filter pred)\n",
    "             (map total-cents)\n",
    "             (apply +))))\n"
   ]
  },
  {
   "cell_type": "markdown",
   "metadata": {},
   "source": [
    "deftype"
   ]
  },
  {
   "cell_type": "code",
   "execution_count": null,
   "metadata": {},
   "outputs": [],
   "source": [
    "; The 'deftype' creates a bare Java class, without the added properties of records\n",
    "\n",
    "(deftype Mytype [a b])\n"
   ]
  },
  {
   "cell_type": "markdown",
   "metadata": {},
   "source": [
    "reify"
   ]
  },
  {
   "cell_type": "code",
   "execution_count": null,
   "metadata": {},
   "outputs": [],
   "source": [
    "; The reify macro takes a protocol (an abstract set of methods)\n",
    "; and creates an instance of an anonymous data type that implements that protocol\n",
    "\n",
    "(defn new-expense [date-string dollars cents \n",
    "                   category merchant-name]\n",
    "    (let [calendar-date (Calendar/getInstance)]\n",
    "        (.setTime calendar-date (.parse (SimpleDateFormat. \"yyyy-MM-dd\") date-string))\n",
    "        (reify ExpenseCalculations\n",
    "            (total-cents [this]\n",
    "                (-> dollars\n",
    "                    (* 100)\n",
    "                    (+ cents)))\n",
    "                (is-category? [this some-category]\n",
    "                    (= category some-category))))) ; Returns a closure\n"
   ]
  }
 ],
 "metadata": {
  "kernelspec": {
   "display_name": "Clojure (clojupyter=0.3.2=1)",
   "language": "clojure",
   "name": "python397jvsc74a57bd089a790bea3b9cadff6bf73491f7cf161e4e94bfc015afe6a535623fbe4142b79"
  },
  "language_info": {
   "file_extension": ".clj",
   "mimetype": "text/x-clojure",
   "name": "clojure",
   "version": "1.10.1"
  },
  "orig_nbformat": 4
 },
 "nbformat": 4,
 "nbformat_minor": 2
}
