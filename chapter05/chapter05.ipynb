{
 "cells": [
  {
   "cell_type": "markdown",
   "metadata": {},
   "source": [
    "# Exploring Clojure and Java interop"
   ]
  },
  {
   "cell_type": "markdown",
   "metadata": {},
   "source": [
    "## Calling Java from Clojure"
   ]
  },
  {
   "cell_type": "markdown",
   "metadata": {},
   "source": [
    "### Importing Java classes into Clojure"
   ]
  },
  {
   "cell_type": "code",
   "execution_count": 1,
   "metadata": {},
   "outputs": [
    {
     "data": {
      "text/plain": [
       "\"\""
      ]
     },
     "execution_count": 1,
     "metadata": {},
     "output_type": "execute_result"
    }
   ],
   "source": [
    "; The general form of import statements is as follows\n",
    "\n",
    "\"\"\"\n",
    "(import & import-symbols-or-lists)\n",
    "\"\"\""
   ]
  },
  {
   "cell_type": "code",
   "execution_count": 2,
   "metadata": {},
   "outputs": [
    {
     "data": {
      "text/plain": [
       "java.text.SimpleDateFormat"
      ]
     },
     "execution_count": 2,
     "metadata": {},
     "output_type": "execute_result"
    }
   ],
   "source": [
    "; Importing 2 java classes individually\n",
    "\n",
    ";The quote (') reader macro instructs the runtime not to evaluuate the symbol\n",
    "(import 'java.util.Date 'java.text.SimpleDateFormat) "
   ]
  },
  {
   "cell_type": "code",
   "execution_count": 3,
   "metadata": {},
   "outputs": [
    {
     "data": {
      "text/plain": [
       "java.util.Set"
      ]
     },
     "execution_count": 3,
     "metadata": {},
     "output_type": "execute_result"
    }
   ],
   "source": [
    "; Importing 2 java classes as a sequence\n",
    "\n",
    "(import '[java.util Date Set])"
   ]
  },
  {
   "cell_type": "code",
   "execution_count": 4,
   "metadata": {},
   "outputs": [
    {
     "data": {
      "text/plain": [
       "nil"
      ]
     },
     "execution_count": 4,
     "metadata": {},
     "output_type": "execute_result"
    }
   ],
   "source": [
    "; Using the :import keyword to import classes in a namespace\n",
    "\n",
    "(ns com.clojureinaction.book (:import (java.util Set Date)))"
   ]
  },
  {
   "cell_type": "code",
   "execution_count": 5,
   "metadata": {},
   "outputs": [
    {
     "data": {
      "text/plain": [
       "nil"
      ]
     },
     "execution_count": 5,
     "metadata": {},
     "output_type": "execute_result"
    }
   ],
   "source": [
    "(ns user)"
   ]
  },
  {
   "cell_type": "markdown",
   "metadata": {},
   "source": [
    "### Creating instances"
   ]
  },
  {
   "cell_type": "code",
   "execution_count": 6,
   "metadata": {},
   "outputs": [
    {
     "data": {
      "text/plain": [
       "#'user/sdf"
      ]
     },
     "execution_count": 6,
     "metadata": {},
     "output_type": "execute_result"
    }
   ],
   "source": [
    "; Using the new keyword to instantiate a class (like in Java)\n",
    "\n",
    "(import '(java.text SimpleDateFormat))\n",
    "\n",
    "(def sdf (new SimpleDateFormat \"yyyy-MM-dd\"))"
   ]
  },
  {
   "cell_type": "code",
   "execution_count": 7,
   "metadata": {},
   "outputs": [
    {
     "data": {
      "text/plain": [
       "#'user/sdf"
      ]
     },
     "execution_count": 7,
     "metadata": {},
     "output_type": "execute_result"
    }
   ],
   "source": [
    "; Using a trailing dot to instantiate a class \n",
    "\n",
    "(def sdf (SimpleDateFormat. \"yyyy-MM-dd\"))\n"
   ]
  },
  {
   "cell_type": "markdown",
   "metadata": {},
   "source": [
    "###  Accessing methods and fields"
   ]
  },
  {
   "cell_type": "code",
   "execution_count": 8,
   "metadata": {},
   "outputs": [
    {
     "data": {
      "text/plain": [
       "#'user/date-from-date-string"
      ]
     },
     "execution_count": 8,
     "metadata": {},
     "output_type": "execute_result"
    }
   ],
   "source": [
    "; Using a leading dot to access an instance method\n",
    "\n",
    "(defn date-from-date-string [date-string]\n",
    "    (let [sdf (SimpleDateFormat. \"yyyy-MM-dd\")] \n",
    "        (.parse sdf date-string)))"
   ]
  },
  {
   "cell_type": "code",
   "execution_count": 9,
   "metadata": {},
   "outputs": [
    {
     "data": {
      "text/plain": [
       "12321"
      ]
     },
     "execution_count": 9,
     "metadata": {},
     "output_type": "execute_result"
    }
   ],
   "source": [
    "; Using a slash to access a static method\n",
    "\n",
    "(Long/parseLong \"12321\") ; The syntax is (Classname/staticMethod args*)\n"
   ]
  },
  {
   "cell_type": "code",
   "execution_count": 10,
   "metadata": {},
   "outputs": [
    {
     "data": {
      "text/plain": [
       "0"
      ]
     },
     "execution_count": 10,
     "metadata": {},
     "output_type": "execute_result"
    }
   ],
   "source": [
    "; Using a slash to access a static field\n",
    "\n",
    "(import '(java.util Calendar))\n",
    "\n",
    "(Calendar/JANUARY)"
   ]
  },
  {
   "cell_type": "markdown",
   "metadata": {},
   "source": [
    "### Macros and the dot special form"
   ]
  },
  {
   "cell_type": "code",
   "execution_count": 11,
   "metadata": {},
   "outputs": [
    {
     "data": {
      "text/plain": [
       "\"/home/william/.vscode-server/bin/899d46d82c4c95423fb7e10e68eba52050e30ba3/bin:/home/william/.local/bin:/home/william/miniconda3/envs/clojupyter/bin:/home/william/miniconda3/condabin:/usr/local/sbin:/usr/local/bin:/usr/sbin:/usr/bin:/sbin:/bin:/usr/games:/usr/local/games:/usr/lib/wsl/lib:/mnt/c/Python27:/mnt/c/Python27/Scripts:/mnt/c/Windows/system32:/mnt/c/Windows:/mnt/c/Windows/System32/Wbem:/mnt/c/Windows/System32/WindowsPowerShell/v1.0:/mnt/c/Windows/System32/OpenSSH:/mnt/c/Users/Acer/AppData/Local/Microsoft/WindowsApps:/mnt/c/Users/Acer/AppData/Local/Programs/Microsoft VS Code/bin:/snap/bin\""
      ]
     },
     "execution_count": 11,
     "metadata": {},
     "output_type": "execute_result"
    }
   ],
   "source": [
    "; General form of calling static methods\n",
    "\n",
    "\"\"\"\n",
    "(. ClassnameSymbol methodSymbol args*)\n",
    "\"\"\"\n",
    "\n",
    "; Example\n",
    "\n",
    "(. System getenv \"PATH\")"
   ]
  },
  {
   "cell_type": "code",
   "execution_count": 12,
   "metadata": {},
   "outputs": [
    {
     "data": {
      "text/plain": [
       "8"
      ]
     },
     "execution_count": 12,
     "metadata": {},
     "output_type": "execute_result"
    }
   ],
   "source": [
    "; General form of calling instance methods\n",
    "\n",
    "\"\"\"\n",
    "(. instanceExpr methodSymbol args*)\n",
    "\"\"\"\n",
    "\n",
    "; Example\n",
    "\n",
    "(import '(java.util Random))\n",
    "\n",
    "\n",
    "(def rnd (Random.))\n",
    "(. rnd nextInt 10)\n"
   ]
  },
  {
   "cell_type": "code",
   "execution_count": 13,
   "metadata": {},
   "outputs": [
    {
     "data": {
      "text/plain": [
       "11"
      ]
     },
     "execution_count": 13,
     "metadata": {},
     "output_type": "execute_result"
    }
   ],
   "source": [
    "; General form of calling static and instance fields\n",
    "\n",
    "\"\"\"\n",
    "(. ClassnameSymbol memberSymbol)\n",
    "\n",
    "(. instanceExpr memberSymbol)\n",
    "\"\"\"\n",
    "\n",
    "; Example\n",
    "\n",
    "(. Calendar DECEMBER)"
   ]
  },
  {
   "cell_type": "markdown",
   "metadata": {},
   "source": [
    "### The Dot-Dot macro"
   ]
  },
  {
   "cell_type": "markdown",
   "metadata": {},
   "source": [
    "Using the '.' macro to chain Java method calls (hard to read)"
   ]
  },
  {
   "cell_type": "code",
   "execution_count": 14,
   "metadata": {},
   "outputs": [
    {
     "data": {
      "text/plain": [
       "\"Paraguay Time\""
      ]
     },
     "execution_count": 14,
     "metadata": {},
     "output_type": "execute_result"
    }
   ],
   "source": [
    "(import '(java.util Calendar TimeZone))\n",
    "\n",
    "(. (. (Calendar/getInstance) (getTimeZone)) (getDisplayName))\n"
   ]
  },
  {
   "cell_type": "markdown",
   "metadata": {},
   "source": [
    "Using the '..' macro to chain method calls (easier to read)"
   ]
  },
  {
   "cell_type": "code",
   "execution_count": 15,
   "metadata": {},
   "outputs": [
    {
     "data": {
      "text/plain": [
       "\"Paraguay Time\""
      ]
     },
     "execution_count": 15,
     "metadata": {},
     "output_type": "execute_result"
    }
   ],
   "source": [
    "(.. (Calendar/getInstance) (getTimeZone) (getDisplayName))\n"
   ]
  },
  {
   "cell_type": "markdown",
   "metadata": {},
   "source": [
    "### The Doto macro"
   ]
  },
  {
   "cell_type": "code",
   "execution_count": 16,
   "metadata": {},
   "outputs": [
    {
     "data": {
      "text/plain": [
       "#'user/the-past-midnight-1"
      ]
     },
     "execution_count": 16,
     "metadata": {},
     "output_type": "execute_result"
    }
   ],
   "source": [
    "; Applying a method repeteadly to a single Java object (note the code duplication)\n",
    "\n",
    "(import '(java.util Calendar))\n",
    "\n",
    "(defn the-past-midnight-1 []\n",
    "    (let [calendar-obj (Calendar/getInstance)]\n",
    "        (.set calendar-obj Calendar/AM_PM Calendar/AM)\n",
    "        (.set calendar-obj Calendar/HOUR 0)\n",
    "        (.set calendar-obj Calendar/MINUTE 0)\n",
    "        (.set calendar-obj Calendar/SECOND 0)\n",
    "        (.set calendar-obj Calendar/MILLISECOND 0)\n",
    "        (.getTime calendar-obj)))\n"
   ]
  },
  {
   "cell_type": "code",
   "execution_count": 17,
   "metadata": {},
   "outputs": [
    {
     "data": {
      "text/plain": [
       "#'user/the-past-midnight-2"
      ]
     },
     "execution_count": 17,
     "metadata": {},
     "output_type": "execute_result"
    }
   ],
   "source": [
    "; Using the doto macro to apply a method repeteadly to a single Java object \n",
    "; (the code duplication was removed)\n",
    "\n",
    "(defn the-past-midnight-2 []\n",
    "    (let [calendar-obj (Calendar/getInstance)]\n",
    "        (doto calendar-obj\n",
    "            (.set Calendar/AM_PM Calendar/AM)\n",
    "            (.set Calendar/HOUR 0)\n",
    "            (.set Calendar/MINUTE 0)\n",
    "            (.set Calendar/SECOND 0)\n",
    "            (.set Calendar/MILLISECOND 0))\n",
    "        (.getTime calendar-obj)))\n"
   ]
  },
  {
   "cell_type": "markdown",
   "metadata": {},
   "source": [
    "### The memfn macro"
   ]
  },
  {
   "cell_type": "code",
   "execution_count": 18,
   "metadata": {},
   "outputs": [
    {
     "data": {
      "text/plain": [
       "(#object[\"[B\" 0x7c1581dc \"[B@7c1581dc\"] #object[\"[B\" 0x1a76d8c \"[B@1a76d8c\"] #object[\"[B\" 0x1783db6d \"[B@1783db6d\"])"
      ]
     },
     "execution_count": 18,
     "metadata": {},
     "output_type": "execute_result"
    }
   ],
   "source": [
    "; Using a Java method as a normal function\n",
    "\n",
    "(map (fn [x] (.getBytes x)) [\"amit\" \"rob\" \"kyle\"])"
   ]
  },
  {
   "cell_type": "code",
   "execution_count": 19,
   "metadata": {},
   "outputs": [
    {
     "data": {
      "text/plain": [
       "(#object[\"[B\" 0x35a1997a \"[B@35a1997a\"] #object[\"[B\" 0x2241d869 \"[B@2241d869\"] #object[\"[B\" 0x47a4d528 \"[B@47a4d528\"])"
      ]
     },
     "execution_count": 19,
     "metadata": {},
     "output_type": "execute_result"
    }
   ],
   "source": [
    "; Using a Java method as an anonymous function\n",
    "\n",
    "(map #(.getBytes %) [\"amit\" \"rob\" \"kyle\"])"
   ]
  },
  {
   "cell_type": "code",
   "execution_count": 20,
   "metadata": {},
   "outputs": [
    {
     "data": {
      "text/plain": [
       "(#object[\"[B\" 0x55a00c6e \"[B@55a00c6e\"] #object[\"[B\" 0x46bdd49e \"[B@46bdd49e\"] #object[\"[B\" 0x142bad96 \"[B@142bad96\"])"
      ]
     },
     "execution_count": 20,
     "metadata": {},
     "output_type": "execute_result"
    }
   ],
   "source": [
    "; Using the memfn macro instead of the anonymous function\n",
    "\n",
    "(map (memfn getBytes) [\"amit\" \"rob\" \"kyle\"])"
   ]
  },
  {
   "cell_type": "code",
   "execution_count": 21,
   "metadata": {},
   "outputs": [
    {
     "data": {
      "text/plain": [
       "\"oju\""
      ]
     },
     "execution_count": 21,
     "metadata": {},
     "output_type": "execute_result"
    }
   ],
   "source": [
    "; Calling a Java method without type hints\n",
    "\n",
    "(.subSequence \"Clojure\" 2 5)"
   ]
  },
  {
   "cell_type": "code",
   "execution_count": 22,
   "metadata": {},
   "outputs": [
    {
     "data": {
      "text/plain": [
       "\"oju\""
      ]
     },
     "execution_count": 22,
     "metadata": {},
     "output_type": "execute_result"
    }
   ],
   "source": [
    "; Calling a Java method with type hints\n",
    "\n",
    "((memfn ^String subSequence ^Long start ^Long end) \"Clojure\" 2 5)"
   ]
  },
  {
   "cell_type": "markdown",
   "metadata": {},
   "source": [
    "### The bean macro"
   ]
  },
  {
   "cell_type": "code",
   "execution_count": 23,
   "metadata": {},
   "outputs": [
    {
     "data": {
      "text/plain": [
       "{:weeksInWeekYear 53, :timeZone #object[sun.util.calendar.ZoneInfo 0x450f1b06 \"sun.util.calendar.ZoneInfo[id=\\\"America/Asuncion\\\",offset=-14400000,dstSavings=3600000,useDaylight=true,transitions=129,lastRule=java.util.SimpleTimeZone[id=America/Asuncion,offset=-14400000,dstSavings=3600000,useDaylight=true,startYear=0,startMode=3,startMonth=9,startDay=1,startDayOfWeek=1,startTime=0,startTimeMode=0,endMode=3,endMonth=2,endDay=22,endDayOfWeek=1,endTime=0,endTimeMode=0]]\"], :weekDateSupported true, :weekYear 2022, :lenient true, :time #inst \"2022-01-04T20:49:42.311-00:00\", :calendarType \"gregory\", :timeInMillis 1641329382311, :class java.util.GregorianCalendar, :firstDayOfWeek 1, :gregorianChange #inst \"1582-10-15T00:00:00.000-00:00\", :minimalDaysInFirstWeek 1}"
      ]
     },
     "execution_count": 23,
     "metadata": {},
     "output_type": "execute_result"
    }
   ],
   "source": [
    "; Converting Java bean objects to immutable Clojure maps\n",
    "\n",
    "(import '[java.util Calendar])\n",
    "\n",
    "(bean (Calendar/getInstance))\n"
   ]
  },
  {
   "cell_type": "markdown",
   "metadata": {},
   "source": [
    "Working with Java arrays"
   ]
  },
  {
   "cell_type": "code",
   "execution_count": 24,
   "metadata": {},
   "outputs": [
    {
     "data": {
      "text/plain": [
       "#'user/tokens"
      ]
     },
     "execution_count": 24,
     "metadata": {},
     "output_type": "execute_result"
    }
   ],
   "source": [
    "(def tokens (.split \"clojure.in.action\" \"\\\\.\"))"
   ]
  },
  {
   "cell_type": "markdown",
   "metadata": {},
   "source": [
    "###  Implementing interfaces and extending classes"
   ]
  },
  {
   "cell_type": "markdown",
   "metadata": {},
   "source": [
    "The proxy macro"
   ]
  },
  {
   "cell_type": "code",
   "execution_count": 25,
   "metadata": {},
   "outputs": [
    {
     "data": {
      "text/plain": [
       "#object[user.proxy$java.awt.event.MouseAdapter$ff19274a 0x3c76d7ff \"user.proxy$java.awt.event.MouseAdapter$ff19274a@3c76d7ff\"]"
      ]
     },
     "execution_count": 25,
     "metadata": {},
     "output_type": "execute_result"
    }
   ],
   "source": [
    "; Implementing the MouseAdapter class with proxy\n",
    "\n",
    "(import 'java.awt.event.MouseAdapter)\n",
    "\n",
    "\n",
    "(proxy [MouseAdapter] []\n",
    "    (mousePressed [event]\n",
    "        (println \"Hey!\"))) "
   ]
  },
  {
   "cell_type": "code",
   "execution_count": 26,
   "metadata": {},
   "outputs": [
    {
     "data": {
      "text/plain": [
       "\"\""
      ]
     },
     "execution_count": 26,
     "metadata": {},
     "output_type": "execute_result"
    }
   ],
   "source": [
    "; The general form of the proxy macro is as follows\n",
    "\n",
    "\"\"\"\n",
    "(proxy [class-and-interfaces] [args] fs+)\n",
    "\"\"\"\n"
   ]
  },
  {
   "cell_type": "markdown",
   "metadata": {},
   "source": [
    "The reify macro"
   ]
  },
  {
   "cell_type": "code",
   "execution_count": 27,
   "metadata": {},
   "outputs": [
    {
     "data": {
      "text/plain": [
       "#object[user$eval4187$reify__4188 0x277a65d6 \"user$eval4187$reify__4188@277a65d6\"]"
      ]
     },
     "execution_count": 27,
     "metadata": {},
     "output_type": "execute_result"
    }
   ],
   "source": [
    "; Creating an instance of Java’s FileFilter interface\n",
    "\n",
    "(reify java.io.FileFilter\n",
    "    (accept [this f]\n",
    "        (.isDirectory f)))"
   ]
  },
  {
   "cell_type": "markdown",
   "metadata": {},
   "source": [
    "## Compiling Clojure code to Java bytecode"
   ]
  },
  {
   "cell_type": "markdown",
   "metadata": {},
   "source": [
    "The first dierctory structure of the project\n",
    "\n",
    "```\n",
    "root\n",
    "    classes\n",
    "    src\n",
    "        com\n",
    "            curry\n",
    "                utils\n",
    "                    calculators.clj\n",
    "```"
   ]
  },
  {
   "cell_type": "code",
   "execution_count": 2,
   "metadata": {},
   "outputs": [
    {
     "data": {
      "text/plain": [
       "\"\""
      ]
     },
     "execution_count": 2,
     "metadata": {},
     "output_type": "execute_result"
    }
   ],
   "source": [
    "; Contents of the calculators.clj file\n",
    "\n",
    "\"\"\"\n",
    "(ns com.curry.utils.calculators (:gen-class))\n",
    "\n",
    "(defn present-value [data]\n",
    "    (println \\\"calculating present value...\\\")\n",
    "\"\"\""
   ]
  },
  {
   "cell_type": "code",
   "execution_count": null,
   "metadata": {},
   "outputs": [],
   "source": [
    "; Compiling the defined namespace\n",
    "\n",
    "(compile 'com.curry.utils.calculators)"
   ]
  },
  {
   "cell_type": "markdown",
   "metadata": {},
   "source": [
    "The new directory structure of the project\n",
    "\n",
    "```\n",
    "root\n",
    "    classes\n",
    "    src\n",
    "        com\n",
    "            curry\n",
    "                utils\n",
    "                    calculators.clj\n",
    "                    calc\n",
    "                        dcf.clj\n",
    "                        fcf.clj\n",
    "```"
   ]
  },
  {
   "cell_type": "code",
   "execution_count": null,
   "metadata": {},
   "outputs": [],
   "source": [
    "; Contents of dcf.clj\n",
    "\n",
    "\"\"\"\n",
    "(in-ns 'com.curry.utils.calculators)\n",
    "\n",
    "(defn discounted-cash-flow [data]\n",
    "    (println \\\"calculating discounted cash flow...\\\"))\n",
    "\"\"\""
   ]
  },
  {
   "cell_type": "code",
   "execution_count": null,
   "metadata": {},
   "outputs": [],
   "source": [
    "; Contents of fcf.clj\n",
    "\n",
    "\"\"\"\n",
    "(in-ns 'com.curry.utils.calculators)\n",
    "\n",
    "(defn free-cash-flow [data]\n",
    "    (println \\\"calculating free cash flow...\\\"))\n",
    "\"\"\""
   ]
  },
  {
   "cell_type": "code",
   "execution_count": 3,
   "metadata": {},
   "outputs": [
    {
     "data": {
      "text/plain": [
       "\"\""
      ]
     },
     "execution_count": 3,
     "metadata": {},
     "output_type": "execute_result"
    }
   ],
   "source": [
    "; The new contents of calculators.clj\n",
    "\n",
    "\"\"\"\n",
    "(ns com.curry.utils.calculators (:gen-class))\n",
    "(load \\\"calc/fcf\\\")\n",
    "(load \\\"calc/dcf\\\")\n",
    "\n",
    "\n",
    "(defn present-value [data]\n",
    "    (println \\\"calculating present value...\\\"))\n",
    "\"\"\""
   ]
  },
  {
   "cell_type": "markdown",
   "metadata": {},
   "source": [
    "### Creating Java classes and interfaces using gen-class and gen-interface"
   ]
  },
  {
   "cell_type": "code",
   "execution_count": null,
   "metadata": {},
   "outputs": [],
   "source": [
    "; An abstract Java class that will be used to illustrate \n",
    "; how gen-class works\n",
    "\n",
    "\"\"\"\n",
    "package com.gentest;\n",
    "\n",
    "\n",
    "public abstract class AbstractJavaClass {\n",
    "    public AbstractJavaClass(String a, String b) {\n",
    "        System.out.println(\\\"Constructor: a, b\\\");\n",
    "    }\n",
    "    public AbstractJavaClass(String a) {\n",
    "        System.out.println(\\\"Constructor: a\\\");\n",
    "    }\n",
    "    public abstract String getCurrentStatus();\n",
    "        public String getSecret() {\n",
    "            return \\\"The Secret\\\";\n",
    "        }\n",
    "}\n",
    "\"\"\"\n"
   ]
  },
  {
   "cell_type": "code",
   "execution_count": 5,
   "metadata": {},
   "outputs": [
    {
     "data": {
      "text/plain": [
       "\"\""
      ]
     },
     "execution_count": 5,
     "metadata": {},
     "output_type": "execute_result"
    }
   ],
   "source": [
    "; Using the last java AbstractJavaClass inside clojure code\n",
    "\n",
    "\"\"\"\n",
    "(ns com.gentest.gen-clojure\n",
    "    (:import (com.gentest AbstractJavaClass))\n",
    "    (:gen-class\n",
    "     :name com.gentest.ConcreteClojureClass\n",
    "     :extends com.gentest.AbstractJavaClass\n",
    "     :constructors {[String] [String]\n",
    "                    [String String] [String String]}\n",
    "     :implements [Runnable]\n",
    "     :init initialize\n",
    "     :state localState\n",
    "     :methods [[stateValue [] String]]))\n",
    "\n",
    "\n",
    "(defn -initialize\n",
    "    ([s1]\n",
    "        (println \\\"Init value:\\\" s1)\n",
    "        [[s1 \\\"default\\\"] (ref s1)])\n",
    "    ([s1 s2]\n",
    "        (println \\\"Init values:\\\" s1 \\\",\\\" s2)\n",
    "        [[s1 s2] (ref s2)]))\n",
    "\n",
    "(defn -getCurrentStatus [this]\n",
    "    \\\"getCurrentStatus from - com.gentest.ConcreteClojureClass\\\")\n",
    "\n",
    "(defn -stateValue [this]\n",
    "    @(.localState this))\n",
    "\n",
    "(defn -run [this]\n",
    "    (println \\\"In run!\\\")\n",
    "    (println \\\"I'm a\\\" (class this))\n",
    "    (dosync (ref-set (.localState this) \\\"GO\\\")))\n",
    "\n",
    "(defn -main []\n",
    "    (let [g (new com.gentest.ConcreteClojureClass \\\"READY\\\")]\n",
    "        (println (.getCurrentStatus g))\n",
    "        (println (.getSecret g))\n",
    "        (println (.stateValue g)))\n",
    "    (let [g (new com.gentest.ConcreteClojureClass \\\"READY\\\" \\\"SET\\\")]\n",
    "        (println (.stateValue g))\n",
    "        (.start (Thread. g))\n",
    "        (Thread/sleep 1000)\n",
    "        (println (.stateValue g))))\n",
    "\"\"\"\n"
   ]
  },
  {
   "cell_type": "code",
   "execution_count": null,
   "metadata": {},
   "outputs": [],
   "source": [
    "; To compile and test the last code, execute the following commands in the REPL\n",
    "\n",
    "!compile 'com.gentest.gen-clojure\n",
    "!java com.gentest.ConcreteClojureClass\n"
   ]
  },
  {
   "cell_type": "markdown",
   "metadata": {},
   "source": [
    "Leiningen project file for ConcreteClojureClass"
   ]
  },
  {
   "cell_type": "code",
   "execution_count": 7,
   "metadata": {},
   "outputs": [
    {
     "data": {
      "text/plain": [
       "\"\""
      ]
     },
     "execution_count": 7,
     "metadata": {},
     "output_type": "execute_result"
    }
   ],
   "source": [
    "\"\"\"\n",
    "(defproject gentest \\\"0.1.0\\\"\n",
    "    :dependencies [[org.clojure/clojure \\\"1.6.0\\\"]]\n",
    "    \n",
    "    ; Place our \\\"AbstractJavaClass.java\\\" and \\\"gen-clojure.clj\\\" files under\n",
    "    ; the src/com/gentest directory.\n",
    "    :source-paths [\\\"src\\\"]\n",
    "    :java-source-paths [\\\"src\\\"]\n",
    "    \n",
    "    ; :aot is a list of clojure namespaces to compile.\n",
    "    :aot [com.gentest.gen-clojure]\n",
    "    \n",
    "    ; This is the java class \\\"lein run\\\" should execute.\n",
    "    :main com.gentest.ConcreteClojureClass)\n",
    "\"\"\"\n"
   ]
  },
  {
   "cell_type": "markdown",
   "metadata": {},
   "source": [
    "## Calling Clojure from Java"
   ]
  },
  {
   "cell_type": "code",
   "execution_count": 8,
   "metadata": {},
   "outputs": [
    {
     "data": {
      "text/plain": [
       "#'clj.script.examples/print-report"
      ]
     },
     "execution_count": 8,
     "metadata": {},
     "output_type": "execute_result"
    }
   ],
   "source": [
    ";  Clojure function, defined in the clj.script.examples namespace\n",
    "(ns clj.script.examples)\n",
    "\n",
    "\n",
    "(defn print-report [user-name]\n",
    "    (println \"Report for:\" user-name) 10)\n"
   ]
  },
  {
   "cell_type": "code",
   "execution_count": null,
   "metadata": {},
   "outputs": [],
   "source": [
    "; Using the last function in a Java code\n",
    "\n",
    "\"\"\"\n",
    "import clojure.lang.RT;\n",
    "import clojure.lang.Var;\n",
    "\n",
    "\n",
    "public class Driver {\n",
    "    public static void main(String[] args) throws Exception {\n",
    "        RT.loadResourceScript(\\\"clojure_script.clj\\\");\n",
    "        Var report = RT.var(\\\"clj.script.examples\\\", \\\"print-report\\\");\n",
    "        Integer result = (Integer) report.invoke(\\\"Siva\\\");\n",
    "        System.out.println(\\\"Result: \\\" + result);\n",
    "    }\n",
    "}\n",
    "\"\"\"\n"
   ]
  }
 ],
 "metadata": {
  "kernelspec": {
   "display_name": "Clojure (clojupyter=0.3.2=1)",
   "language": "clojure",
   "name": "python397jvsc74a57bd089a790bea3b9cadff6bf73491f7cf161e4e94bfc015afe6a535623fbe4142b79"
  },
  "language_info": {
   "file_extension": ".clj",
   "mimetype": "text/x-clojure",
   "name": "clojure",
   "version": "1.10.1"
  },
  "orig_nbformat": 4
 },
 "nbformat": 4,
 "nbformat_minor": 2
}
